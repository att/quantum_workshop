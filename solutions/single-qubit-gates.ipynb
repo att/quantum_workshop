{
 "cells": [
  {
   "cell_type": "code",
   "execution_count": 1,
   "metadata": {},
   "outputs": [
    {
     "data": {
      "text/plain": [
       "{'qiskit-terra': '0.14.1',\n",
       " 'qiskit-aer': '0.5.2',\n",
       " 'qiskit-ignis': '0.3.0',\n",
       " 'qiskit-ibmq-provider': '0.7.2',\n",
       " 'qiskit-aqua': '0.7.1',\n",
       " 'qiskit': '0.19.3'}"
      ]
     },
     "execution_count": 1,
     "metadata": {},
     "output_type": "execute_result"
    }
   ],
   "source": [
    "import qiskit\n",
    "qiskit.__qiskit_version__"
   ]
  },
  {
   "cell_type": "markdown",
   "metadata": {},
   "source": [
    "In this notebook we will be working with quantum gates (synonomous with matrix operators) in order to manipulate quantum state. The gates in this notebook perform rotations of the quantum state vector about the Bloch sphere. Most, if not all, of you should be familiar with rotations about $0^{\\circ}$, $45^{\\circ}$, $90^{\\circ}$, $180^{\\circ}$, and so forth. This notation uses degrees, however, there is another notation often used to describe rotations and that is the term </span><span style=\"font-weight:bold\">radians</span>.  \n",
    "\n",
    "$\\pi$ is commonly defined as the ratio of a circle's circumference $C$ to its diameter $d$\n",
    "  \n",
    "\n",
    "   $$ \\pi =\\frac {C}{d}$$\n",
    "\n",
    "and, hence, there are $2\\pi$ radians in a circle. Thus a rotation of $180^{\\circ}$, which is an angle covering one-half of a circle, is equivalent to $\\frac{1}{2}\\cdot 2\\pi = \\pi$ radians. In general, we can write</span> $$1 \\text{ radian} = \\frac{180^\\circ}{\\pi}$$\n",
    "\n",
    "To make this a bit easier, and if needed, I have attached a conversion diagram \n",
    "\n",
    "![Degree-Radian Conversion](images/degrees_to_radians.png)"
   ]
  },
  {
   "cell_type": "markdown",
   "metadata": {
    "tags": [
     "remove_cell"
    ]
   },
   "source": [
    "# Single Qubit Gates"
   ]
  },
  {
   "cell_type": "markdown",
   "metadata": {},
   "source": [
    "In the presentation we have discussed quantum state from within the perview of a Bloch sphere. We saw that qubits could be represented by 2D vectors, and that their states are limited to the form:\n",
    "\n",
    "<span style=\"font-size:20px\">$$ |\\Psi\\rangle = \\cos{(\\tfrac{\\theta}{2})}|0\\rangle + e^{i\\phi}\\sin{\\tfrac{\\theta}{2}}|1\\rangle $$</span>\n",
    "\n",
    "![Bloch Sphere](images/blochsphere.jpeg)\n",
    "\n",
    "Where $\\theta$ and $\\phi$ are real numbers. In this section we will cover _gates,_ the operations that change a qubit between these states."
   ]
  },
  {
   "cell_type": "markdown",
   "metadata": {},
   "source": [
    "## Contents    \n",
    "\n",
    "1. [The Pauli Gates](#pauli)    \n",
    "    1.1 [The X-Gate](#xgate)    \n",
    "    1.2 [The Y-Gate](#ygate)  \n",
    "    1.3 [The Z-Gate](#zgate)   \n",
    "    1.4 [The I-Gate](#igate)  \n",
    "2. [The Hadamard Gate](#hgate)    \n",
    "3. [The R<sub>ϕ</sub> Rotation Gates](#rphigates)    \n",
    "    2.1 [The S-Gate](#sgate)    \n",
    "    2.2 [The T_Gate](#tgate)  \n",
    "    2.3 [The R<sub>ϕ</sub>-gate](#rzgate)   \n",
    "\n",
    "4. [The General U<sub>3</sub>-gate](#generalU3) \n",
    "5. [Summary](#summary)\n",
    "\n",
    "An important feature of quantum circuits is that, between initialising the qubits and measuring them, the operations (gates) are *_always_* reversible! These reversible gates can be represented as matrices, and as rotations around the Bloch sphere. "
   ]
  },
  {
   "cell_type": "code",
   "execution_count": 2,
   "metadata": {
    "tags": [
     "thebelab-init"
    ]
   },
   "outputs": [],
   "source": [
    "from qiskit import *\n",
    "from math import pi\n",
    "from qiskit.visualization import plot_bloch_multivector\n",
    "\n",
    "backend = Aer.get_backend('statevector_simulator')"
   ]
  },
  {
   "cell_type": "markdown",
   "metadata": {},
   "source": [
    "## 1. The Pauli Gates <a id=\"pauli\"></a>\n",
    "Here we examine a base set of gates called the Pauli gates denoted as the X, Y, and Z gates. Some include the I gate (for identity) as well which is what we do here. These gates perform simple operations on the quantum state vector. We will see here that the Pauli matrices can represent some very commonly used quantum gates.\n",
    "\n",
    "### 1.1 The X-Gate <a id=\"xgate\"></a>\n",
    "The X-gate is represented by the Pauli-X matrix:\n",
    "\n",
    "$$ X = \\begin{bmatrix} 0 & 1 \\\\ 1 & 0 \\end{bmatrix} = |0\\rangle\\langle1| + |1\\rangle\\langle0| $$\n",
    "\n",
    "To see the effect a gate has on a qubit, we simply multiply the qubit’s statevector by the gate. We can see that the X-gate switches the amplitudes of the states $|0\\rangle$ and $|1\\rangle$:\n",
    "\n",
    "$$ X|0\\rangle = \\begin{bmatrix} 0 & 1 \\\\ 1 & 0 \\end{bmatrix}\\begin{bmatrix} 1 \\\\ 0 \\end{bmatrix} = \\begin{bmatrix} 0 \\\\ 1 \\end{bmatrix} = |1\\rangle$$"
   ]
  },
  {
   "cell_type": "markdown",
   "metadata": {},
   "source": [
    "<!--- Beware editing things inside <details> tags as it easily breaks when the notebook is converted to html --->\n",
    "<details>\n",
    " <summary><span style=\"color:red\">Reminder: Multiplying Vectors by Matrices (Click here to expand)</span></summary>\n",
    "  <p>Matrix multiplication is a generalisation of the inner product we saw in the last chapter. In the specific case of multiplying a vector by a matrix (as seen above), we always get a vector back:\n",
    "  $$ M|v\\rangle  = \\begin{bmatrix}a & b \\\\ c & d \\\\\\end{bmatrix}\\begin{bmatrix}v_0 \\\\ v_1 \\\\\\end{bmatrix}\n",
    "                = \\begin{bmatrix}a\\cdot v_0 + b \\cdot v_1 \\\\ c \\cdot v_0 + d \\cdot v_1\\end{bmatrix} $$\n",
    "  In quantum computing, we can write our matrices in terms of basis vectors:\n",
    "  $$X = |0\\rangle\\langle1| + |1\\rangle\\langle0|$$\n",
    "  This can sometimes be clearer than using a box matrix as we can see what different multiplications will result in:\n",
    "  $$\n",
    "      \\begin{aligned}\n",
    "      X|1\\rangle & = (|0\\rangle\\langle1| + |1\\rangle\\langle0|)|1\\rangle \\\\\n",
    "                 & = |0\\rangle\\langle1|1\\rangle + |1\\rangle\\langle0|1\\rangle \\\\\n",
    "                 & = |0\\rangle \\times 1 + |1\\rangle \\times 0 \\\\\n",
    "                 & = |0\\rangle\n",
    "      \\end{aligned}\n",
    "  $$\n",
    "  In fact, when we see a ket and a bra multiplied like this:\n",
    "  $$ |a\\rangle\\langle b| $$\n",
    "  this is called the <i>outer product</i>, which follows the rule:\n",
    "  $$\n",
    "      |a\\rangle\\langle b| = \n",
    "      \\begin{bmatrix}\n",
    "              a_0 b_0 & a_0 b_1 & \\dots  & a_0 b_n\\\\ \n",
    "              a_1 b_0 & \\ddots  &        & \\vdots \\\\\n",
    "              \\vdots  &         & \\ddots & \\vdots \\\\\n",
    "              a_n b_0 & \\dots   & \\dots  & a_n b_n \\\\\n",
    "      \\end{bmatrix}\n",
    "  $$\n",
    "  We can see this does indeed result in the X-matrix as seen above:\n",
    "  $$\n",
    "      |0\\rangle\\langle1| + |1\\rangle\\langle0| = \n",
    "      \\begin{bmatrix}0 & 1 \\\\ 0 & 0 \\\\\\end{bmatrix} +\n",
    "      \\begin{bmatrix}0 & 0 \\\\ 1 & 0 \\\\\\end{bmatrix} = \n",
    "      \\begin{bmatrix}0 & 1 \\\\ 1 & 0 \\\\\\end{bmatrix} = X\n",
    "  $$\n",
    "</details>"
   ]
  },
  {
   "cell_type": "markdown",
   "metadata": {},
   "source": [
    "<span style=\"font-size:16px;color:red\">Note: All qubits are initialized or start out in the state |0></span>"
   ]
  },
  {
   "cell_type": "markdown",
   "metadata": {},
   "source": [
    "<span style=\"font-size: 20px;color:blue\">Excercise</span>\n",
    "\n",
    "<span style=\"font-size: 16px;color:blue\">In Qiskit you need to create a quantum circuit which is done via\n",
    "```python\n",
    "    QuantumComputing(<number of qubits>)\n",
    "```\n",
    "<span style=\"font-size: 16px;color:blue\">We will only be working with one qubit in this notebook, so the number of qubits will be 1. We have already created the quantum circuit for you in each of the exercises.<span>  \n",
    "    \n",
    "<span style=\"font-size: 16px;color:blue\">In the following cell implement the X gate on a |0> qubit</span>"
   ]
  },
  {
   "cell_type": "code",
   "execution_count": 3,
   "metadata": {},
   "outputs": [
    {
     "data": {
      "image/png": "[encoded data removed]",
      "text/plain": [
       "<Figure size 173.376x84.28 with 1 Axes>"
      ]
     },
     "execution_count": 3,
     "metadata": {},
     "output_type": "execute_result"
    }
   ],
   "source": [
    "#We must first create a QuantumCircuit which we have done for you.\n",
    "#Do not modify the following line\n",
    "qc = QuantumCircuit(1)\n",
    "#-------------------------------------------------------------\n",
    "#Implement your code here\n",
    "qc.x(0)\n",
    "#-------------------------------------------------------------\n",
    "#The following line prints out the circuit which we have done for you.\n",
    "#Do not modify the following line\n",
    "qc.draw('mpl')\n"
   ]
  },
  {
   "cell_type": "markdown",
   "metadata": {},
   "source": [
    "<span style=\"font-size: 16px;color:blue\">Run the next cell to see the outcome on the Bloch sphere</span>"
   ]
  },
  {
   "cell_type": "code",
   "execution_count": 4,
   "metadata": {},
   "outputs": [
    {
     "data": {
      "image/png": "[encoded data removed]",
      "text/plain": [
       "<Figure size 288x288 with 1 Axes>"
      ]
     },
     "execution_count": 4,
     "metadata": {},
     "output_type": "execute_result"
    }
   ],
   "source": [
    "# Do not modify\n",
    "# Let's see the result\n",
    "out = execute(qc,backend).result().get_statevector()\n",
    "plot_bloch_multivector(out)"
   ]
  },
  {
   "cell_type": "markdown",
   "metadata": {},
   "source": [
    "<span style=\"font-size: 16px;color:green\">We can indeed see the state of the qubit is $|1\\rangle$ as expected. We can think of this as a rotation by $\\pi$ radians around the *x-axis* of the Bloch sphere. The X-gate is also often called a NOT-gate, referring to its classical analogue.</span>\n",
    "<!--- Beware editing things inside <details> tags as it easily breaks when the notebook is converted to html --->\n",
    "<details>\n",
    "    <summary><span style=\"color:red\">(Click here to expand the Bloch sphere diagram)</span></summary>\n",
    "   \n",
    "  \n",
    "![Pauli X Gate](images/pauli_x_gate.png)\n",
    "</details>"
   ]
  },
  {
   "cell_type": "markdown",
   "metadata": {},
   "source": [
    "<span style=\"font-size: 20px;color:blue\">Excercise: What do you expect if you were to run the X gate again? Try it in the following cell...</span>"
   ]
  },
  {
   "cell_type": "markdown",
   "metadata": {},
   "source": [
    "<!--- Beware editing things inside <details> tags as it easily breaks when the notebook is converted to html --->\n",
    "<details>\n",
    "    <summary><span style=\"color:red\">(Click here if you need a hint?)</span></summary>\n",
    "    <p>Remember that this qubit is already in the |1> state as a result of the previous X gate call...\n",
    "\n",
    "</details>"
   ]
  },
  {
   "cell_type": "code",
   "execution_count": 5,
   "metadata": {},
   "outputs": [
    {
     "data": {
      "image/png": "[encoded data removed]",
      "text/plain": [
       "<Figure size 233.576x84.28 with 1 Axes>"
      ]
     },
     "execution_count": 5,
     "metadata": {},
     "output_type": "execute_result"
    }
   ],
   "source": [
    "#-------------------------------------------------------------\n",
    "#Implement your code here\n",
    "qc.x(0)\n",
    "#-------------------------------------------------------------\n",
    "#The following line prints out the circuit which we have done for you.\n",
    "#Do not modify the following line\n",
    "qc.draw('mpl')"
   ]
  },
  {
   "cell_type": "markdown",
   "metadata": {},
   "source": [
    "<span style=\"font-size: 16px;color:blue\">Run the next cell to see the outcome on the Bloch sphere</span>"
   ]
  },
  {
   "cell_type": "code",
   "execution_count": 6,
   "metadata": {},
   "outputs": [
    {
     "data": {
      "image/png": "[encoded data removed]",
      "text/plain": [
       "<Figure size 288x288 with 1 Axes>"
      ]
     },
     "execution_count": 6,
     "metadata": {},
     "output_type": "execute_result"
    }
   ],
   "source": [
    "#Do not modify\n",
    "# Let's see the result\n",
    "out = execute(qc,backend).result().get_statevector()\n",
    "plot_bloch_multivector(out)"
   ]
  },
  {
   "cell_type": "markdown",
   "metadata": {},
   "source": [
    "<span style=\"font-size: 16px;color:green\">You should have found that the state of the qubit is now $|0\\rangle$ as expected. Hence applying the gate again restores the state, so you can think of the X gate as its own inverse.</span>"
   ]
  },
  {
   "cell_type": "markdown",
   "metadata": {},
   "source": [
    "### 1.2 The Y gate  <a id=\"ygate\"></a>\n",
    "Similar to the X-gate, the Y Pauli matrix also act as the Y gate in our quantum circuits:\n",
    "\n",
    "\n",
    "$$ Y = \\begin{bmatrix} 0 & -i \\\\ i & 0 \\end{bmatrix}$$\n",
    "\n",
    "$$ Y = -i|0\\rangle\\langle1| + i|1\\rangle\\langle0|$$\n",
    "\n",
    "$$ Y|0\\rangle = \\begin{bmatrix} 0 & -i \\\\ i & 0 \\end{bmatrix}\\begin{bmatrix} 1 \\\\ 0 \\end{bmatrix} = \\begin{bmatrix} 0 \\\\ i \\end{bmatrix} = i|1\\rangle$$\n",
    "\n",
    "And, unsurprisingly, the Y gate also perform rotations by $\\pi$ around the y-axis of the Bloch sphere."
   ]
  },
  {
   "cell_type": "markdown",
   "metadata": {},
   "source": [
    "<span style=\"font-size: 20px;color:blue\">Excercise</span>\n",
    "\n",
    "<span style=\"font-size: 16px;color:blue\">In the following cell implement the Y gate on a |0> qubit</span>"
   ]
  },
  {
   "cell_type": "code",
   "execution_count": 7,
   "metadata": {},
   "outputs": [
    {
     "data": {
      "image/png": "[encoded data removed]",
      "text/plain": [
       "<Figure size 173.376x84.28 with 1 Axes>"
      ]
     },
     "execution_count": 7,
     "metadata": {},
     "output_type": "execute_result"
    }
   ],
   "source": [
    "#We must first create a QuantumCircuit which we have done for you.\n",
    "#Do not modify the following line\n",
    "qc = QuantumCircuit(1)\n",
    "#-------------------------------------------------------------\n",
    "#Implement your code here\n",
    "qc.y(0)\n",
    "#-------------------------------------------------------------\n",
    "#The following line prints out the circuit which we have done for you.\n",
    "#Do not modify the following line\n",
    "qc.draw('mpl')\n"
   ]
  },
  {
   "cell_type": "markdown",
   "metadata": {},
   "source": [
    "<span style=\"font-size: 16px;color:blue\">Run the next cell to see the outcome on the Bloch sphere</span>"
   ]
  },
  {
   "cell_type": "code",
   "execution_count": 8,
   "metadata": {},
   "outputs": [
    {
     "data": {
      "image/png": "[encoded data removed]",
      "text/plain": [
       "<Figure size 288x288 with 1 Axes>"
      ]
     },
     "execution_count": 8,
     "metadata": {},
     "output_type": "execute_result"
    }
   ],
   "source": [
    "#Do not modify\n",
    "# Let's see the result\n",
    "out = execute(qc,backend).result().get_statevector()\n",
    "plot_bloch_multivector(out)"
   ]
  },
  {
   "cell_type": "markdown",
   "metadata": {},
   "source": [
    "<p style=\"font-size: 16px;color:green\">We can indeed see the state of the qubit is $|1\\rangle$ as expected. We can think of this as a rotation by $\\pi$ radians around the *y-axis* of the Bloch sphere.</p>\n",
    "\n",
    "<p style=\"font-size: 16px;color:green\">If you were paying attention, you might have notices the \"i\" in the matrix representation of the Y gate. This is a complex number and represents the $\\sqrt{-1}$. This has no observable effect, and when computing the probabilities, the result will be 1. For this workshop, you will not need to worry about this.</p>\n",
    "\n",
    "<!--- Beware editing things inside <details> tags as it easily breaks when the notebook is converted to html --->\n",
    "<details>\n",
    "    <summary><span style=\"color:red\">(Click here to expand the Bloch sphere diagram)</span></summary>\n",
    "   \n",
    "  \n",
    "![Pauli X Gate](images/pauli_x_gate.png)\n",
    "</details>"
   ]
  },
  {
   "cell_type": "markdown",
   "metadata": {},
   "source": [
    "### 1.3 The Z gate  <a id=\"zgate\"></a>\n",
    "Similar to the X and Y-gates, the Z Pauli matrix also act as the Z gate in our quantum circuits:\n",
    "\n",
    "\n",
    "$$ Z = \\begin{bmatrix} 1 & 0 \\\\ 0 & -1 \\end{bmatrix}$$\n",
    "\n",
    "$$ Z = |0\\rangle\\langle0| - |1\\rangle\\langle1|$$\n",
    "\n",
    "$$ Z|0\\rangle = \\begin{bmatrix} 1 & 0 \\\\ 0 & -1 \\end{bmatrix}\\begin{bmatrix} 1 \\\\ 0 \\end{bmatrix} = \\begin{bmatrix} 1 \\\\ 0 \\end{bmatrix} = |0\\rangle$$\n",
    "\n",
    "And, unsurprisingly, the Z gate also perform rotations by $\\pi$ around the Z-axis of the Bloch sphere. However, since the Z-axis is the measurement basis you cannot see the affect visually."
   ]
  },
  {
   "cell_type": "markdown",
   "metadata": {},
   "source": [
    "<span style=\"font-size: 20px;color:blue\">Excercise</span>\n",
    "\n",
    "<span style=\"font-size: 16px;color:blue\">In the following cell implement the Z gate on a |0> qubit</span>"
   ]
  },
  {
   "cell_type": "code",
   "execution_count": 9,
   "metadata": {},
   "outputs": [
    {
     "data": {
      "image/png": "[encoded data removed]",
      "text/plain": [
       "<Figure size 173.376x84.28 with 1 Axes>"
      ]
     },
     "execution_count": 9,
     "metadata": {},
     "output_type": "execute_result"
    }
   ],
   "source": [
    "#We must first create a QuantumCircuit which we have done for you.\n",
    "#Do not modify the following line\n",
    "qc = QuantumCircuit(1)\n",
    "#-------------------------------------------------------------\n",
    "#Implement your code here\n",
    "qc.z(0)\n",
    "#-------------------------------------------------------------\n",
    "#The following line prints out the circuit which we have done for you.\n",
    "#Do not modify the following line\n",
    "qc.draw('mpl')\n"
   ]
  },
  {
   "cell_type": "markdown",
   "metadata": {},
   "source": [
    "<span style=\"font-size: 16px;color:blue\">Run the next cell to see the outcome on the Bloch sphere</span>"
   ]
  },
  {
   "cell_type": "code",
   "execution_count": 10,
   "metadata": {},
   "outputs": [
    {
     "data": {
      "image/png": "[encoded data removed]",
      "text/plain": [
       "<Figure size 288x288 with 1 Axes>"
      ]
     },
     "execution_count": 10,
     "metadata": {},
     "output_type": "execute_result"
    }
   ],
   "source": [
    "# Do not modify\n",
    "# Let's see the result\n",
    "out = execute(qc,backend).result().get_statevector()\n",
    "plot_bloch_multivector(out)"
   ]
  },
  {
   "cell_type": "markdown",
   "metadata": {},
   "source": [
    "<p style=\"font-size: 16px;color:green\">We can indeed see the state of the qubit is still $|0\\rangle$ as expected. We can think of this as a rotation by $\\pi$ radians around the *z-axis* of the Bloch sphere, and since the Z axis is taken as the standard basis, the state vector is rotated about the Z axis.</p>"
   ]
  },
  {
   "cell_type": "markdown",
   "metadata": {},
   "source": [
    "<span style=\"font-size: 20px;color:blue\">Excercise: What do you expect if you were to run the Z gate on the |1> qubit? Try it in the following cell...</span>"
   ]
  },
  {
   "cell_type": "markdown",
   "metadata": {},
   "source": [
    "<!--- Beware editing things inside <details> tags as it easily breaks when the notebook is converted to html --->\n",
    "<details>\n",
    "    <summary><span style=\"color:red\">(Click here if you need a hint?)</span></summary>\n",
    "    <p>Remember that a qubit is automatically initialized to the state |0> so you must first move it to the |1> state and then perform the Z gate operation.\n",
    "\n",
    "</details>"
   ]
  },
  {
   "cell_type": "code",
   "execution_count": 11,
   "metadata": {},
   "outputs": [
    {
     "data": {
      "image/png": "[encoded data removed]",
      "text/plain": [
       "<Figure size 233.576x84.28 with 1 Axes>"
      ]
     },
     "execution_count": 11,
     "metadata": {},
     "output_type": "execute_result"
    }
   ],
   "source": [
    "#We must first create a QuantumCircuit which we have done for you.\n",
    "#Do not modify the following line\n",
    "qc = QuantumCircuit(1)\n",
    "#-------------------------------------------------------------\n",
    "#Implement your code here\n",
    "qc.x(0)\n",
    "qc.z(0)\n",
    "#-------------------------------------------------------------\n",
    "#The following line prints out the circuit which we have done for you.\n",
    "#Do not modify the following line\n",
    "qc.draw('mpl')"
   ]
  },
  {
   "cell_type": "code",
   "execution_count": 12,
   "metadata": {},
   "outputs": [
    {
     "data": {
      "image/png": "[encoded data removed]",
      "text/plain": [
       "<Figure size 288x288 with 1 Axes>"
      ]
     },
     "execution_count": 12,
     "metadata": {},
     "output_type": "execute_result"
    }
   ],
   "source": [
    "#Do not modify\n",
    "# Let's see the result\n",
    "out = execute(qc,backend).result().get_statevector()\n",
    "plot_bloch_multivector(out)"
   ]
  },
  {
   "cell_type": "markdown",
   "metadata": {},
   "source": [
    "<p style=\"font-size: 16px;color:green\">We can indeed see the state of the qubit is still $|1\\rangle$ as expected. However, when you perform the matrix operation</p>\n",
    "\n",
    "$$ Z|0\\rangle = \\begin{bmatrix} 1 & 0 \\\\ 0 & -1 \\end{bmatrix}\\begin{bmatrix} 0 \\\\ 1 \\end{bmatrix} = \\begin{bmatrix} 0 \\\\ 1 \\end{bmatrix} = -|1\\rangle$$\n",
    "\n",
    "<p style=\"font-size: 16px;color:green\">you end up with a minus (-) sign in front of the |1>. Here too this is a global phase shift and has no visible effect. However, it may have an impact during computation and the reason that you may want to use a Z-gate.</p>\n",
    "\n",
    "<!--- Beware editing things inside <details> tags as it easily breaks when the notebook is converted to html --->\n",
    "<details>\n",
    "    <summary><span style=\"color:red\">(Click here to expand the Bloch sphere diagram)</span></summary>\n",
    "   \n",
    "  \n",
    "![Pauli X Gate](images/pauli_z_gate.png)\n",
    "</details>"
   ]
  },
  {
   "cell_type": "markdown",
   "metadata": {},
   "source": [
    "### 1.4 The I (Identity) gate  <a id=\"igate\"></a>\n",
    "\n",
    "The last of the Pauli gates is the identity gate. It does exactly like it sounds. You feed it a quantum state and it returns the same state. You may be asking why this is important, but it comes in handy on multi-qubit systems where you only want to act on a subset of those qubits. More about multi-qubits later.\n",
    "\n",
    "$$ I = \\begin{bmatrix} 1 & 0 \\\\ 0 & 1 \\end{bmatrix}$$\n",
    "\n",
    "$$ I = |0\\rangle\\langle0| + |1\\rangle\\langle1|$$\n",
    "\n",
    "$$ I|0\\rangle = \\begin{bmatrix} 1 & 0 \\\\ 0 & 1 \\end{bmatrix}\\begin{bmatrix} 1 \\\\ 0 \\end{bmatrix} = \\begin{bmatrix} 1 \\\\ 0 \\end{bmatrix} = |0\\rangle$$\n",
    "\n",
    "$$ I|0\\rangle = \\begin{bmatrix} 1 & 0 \\\\ 0 & 1 \\end{bmatrix}\\begin{bmatrix} 0 \\\\ 1 \\end{bmatrix} = \\begin{bmatrix} 0 \\\\ 1 \\end{bmatrix} = |1\\rangle$$"
   ]
  },
  {
   "cell_type": "markdown",
   "metadata": {},
   "source": [
    "<span style=\"font-size: 20px;color:blue\">Excercise</span>\n",
    "\n",
    "<span style=\"font-size: 16px;color:blue\">In the following cell implement the I gate on a |0> qubit and then a |1>. You should be fairly comfortable by now using single gate operations. First the |0> state</span>"
   ]
  },
  {
   "cell_type": "code",
   "execution_count": 13,
   "metadata": {},
   "outputs": [
    {
     "data": {
      "image/png": "[encoded data removed]",
      "text/plain": [
       "<Figure size 173.376x84.28 with 1 Axes>"
      ]
     },
     "execution_count": 13,
     "metadata": {},
     "output_type": "execute_result"
    }
   ],
   "source": [
    "#We must first create a QuantumCircuit which we have done for you.\n",
    "#Do not modify the following line\n",
    "qc = QuantumCircuit(1)\n",
    "#-------------------------------------------------------------\n",
    "#Implement your code here\n",
    "qc.id(0)\n",
    "#-------------------------------------------------------------\n",
    "#The following line prints out the circuit which we have done for you.\n",
    "#Do not modify the following line\n",
    "qc.draw('mpl')\n"
   ]
  },
  {
   "cell_type": "markdown",
   "metadata": {},
   "source": [
    "<span style=\"font-size: 16px;color:blue\">Run the next cell to see the outcome on the Bloch sphere</span>"
   ]
  },
  {
   "cell_type": "code",
   "execution_count": 14,
   "metadata": {},
   "outputs": [
    {
     "data": {
      "image/png": "[encoded data removed]",
      "text/plain": [
       "<Figure size 288x288 with 1 Axes>"
      ]
     },
     "execution_count": 14,
     "metadata": {},
     "output_type": "execute_result"
    }
   ],
   "source": [
    "# Do not modify\n",
    "# Let's see the result\n",
    "out = execute(qc,backend).result().get_statevector()\n",
    "plot_bloch_multivector(out)"
   ]
  },
  {
   "cell_type": "markdown",
   "metadata": {},
   "source": [
    "<span style=\"font-size: 16px;color:blue\">Now the |1> state</span>"
   ]
  },
  {
   "cell_type": "code",
   "execution_count": 15,
   "metadata": {},
   "outputs": [
    {
     "data": {
      "image/png": "[encoded data removed]",
      "text/plain": [
       "<Figure size 233.576x84.28 with 1 Axes>"
      ]
     },
     "execution_count": 15,
     "metadata": {},
     "output_type": "execute_result"
    }
   ],
   "source": [
    "#We must first create a QuantumCircuit which we have done for you.\n",
    "#Do not modify the following line\n",
    "qc = QuantumCircuit(1)\n",
    "#-------------------------------------------------------------\n",
    "#Implement your code here\n",
    "qc.x(0)\n",
    "qc.id(0)\n",
    "#-------------------------------------------------------------\n",
    "#The following line prints out the circuit which we have done for you.\n",
    "#Do not modify the following line\n",
    "qc.draw('mpl')"
   ]
  },
  {
   "cell_type": "code",
   "execution_count": 16,
   "metadata": {},
   "outputs": [
    {
     "data": {
      "image/png": "[encoded data removed]",
      "text/plain": [
       "<Figure size 288x288 with 1 Axes>"
      ]
     },
     "execution_count": 16,
     "metadata": {},
     "output_type": "execute_result"
    }
   ],
   "source": [
    "# Do not modify\n",
    "# Let's see the result\n",
    "out = execute(qc,backend).result().get_statevector()\n",
    "plot_bloch_multivector(out)"
   ]
  },
  {
   "cell_type": "markdown",
   "metadata": {},
   "source": [
    "<p style=\"font-size: 16px;color:green\">We can indeed see the state of the qubit is still $|0\\rangle$ and $|1\\rangle$, respectively, as expected. By the way, did you remember to move the qubit from the $|0\\rangle$ state to the $|1\\rangle$ state first?</p>"
   ]
  },
  {
   "cell_type": "markdown",
   "metadata": {},
   "source": [
    "## 2. The Hadamard Gate  <a id=\"hgate\"></a>\n",
    "\n",
    "The Hadamard gate (H-gate) is a fundamental quantum gate and perhaps one of the most important. This gate allows you to put a qubit in a <span style=\"color:red;font-size:16px\">superposition state</span>. It allows us to move away from the poles (z-axis) of the Bloch sphere and create a superposition of $|0\\rangle$ and $|1\\rangle$. It has the matrix:\n",
    "\n",
    "$$ H = \\tfrac{1}{\\sqrt{2}}\\begin{bmatrix} 1 & 1 \\\\ 1 & -1 \\end{bmatrix} $$\n",
    "\n",
    "\n",
    "We can see that this performs the transformations below:\n",
    "\n",
    "$$ H|0\\rangle = \\frac{|0\\rangle + |1\\rangle}{\\sqrt{2}} = |+\\rangle $$\n",
    "\n",
    "$$ H|1\\rangle = \\frac{|0\\rangle - |1\\rangle}{\\sqrt{2}} =|-\\rangle $$\n",
    "\n",
    "These are commonly referred to as $|+\\rangle$ and $|-\\rangle$. The Hadamard gate is the one-qubit version of the quantum Fourier transform which is ubiquitous throughout quantum computing. As you will see, this gate puts qubits into superposition states allowing one to take advantage of \"quantum effects\" in computation. This along with the CNOT gate (which we will cover in the next notebook) allows you to entangle qubits.\n",
    "\n",
    "This can be thought of as a rotation of $90^{\\circ}$ about the y axis followed by a $180^{\\circ}$ rotation about the x axis. Doesn't that just make your eyes spin? Hopefully you will have a better idea of what this means after completing the next exercise."
   ]
  },
  {
   "cell_type": "markdown",
   "metadata": {},
   "source": [
    "<span style=\"font-size: 20px;color:blue\">Excercise</span>\n",
    "\n",
    "<span style=\"font-size: 16px;color:blue\">In the following cell implement the H gate on a |0> qubit and then a |1>. You should be a pro at this by now ;)</span>"
   ]
  },
  {
   "cell_type": "code",
   "execution_count": 17,
   "metadata": {},
   "outputs": [
    {
     "data": {
      "image/png": "[encoded data removed]",
      "text/plain": [
       "<Figure size 173.376x84.28 with 1 Axes>"
      ]
     },
     "execution_count": 17,
     "metadata": {},
     "output_type": "execute_result"
    }
   ],
   "source": [
    "#We must first create a QuantumCircuit which we have done for you.\n",
    "#Do not modify the following line\n",
    "qc = QuantumCircuit(1)\n",
    "#-------------------------------------------------------------\n",
    "#Implement your code here\n",
    "qc.h(0)\n",
    "#-------------------------------------------------------------\n",
    "#The following line prints out the circuit which we have done for you.\n",
    "#Do not modify the following line\n",
    "qc.draw('mpl')"
   ]
  },
  {
   "cell_type": "code",
   "execution_count": 18,
   "metadata": {},
   "outputs": [
    {
     "data": {
      "image/png": "[encoded data removed]",
      "text/plain": [
       "<Figure size 288x288 with 1 Axes>"
      ]
     },
     "execution_count": 18,
     "metadata": {},
     "output_type": "execute_result"
    }
   ],
   "source": [
    "#Do not modify\n",
    "# Let's see the result\n",
    "out = execute(qc,backend).result().get_statevector()\n",
    "plot_bloch_multivector(out)"
   ]
  },
  {
   "cell_type": "markdown",
   "metadata": {},
   "source": [
    "<p style=\"font-size: 16px;color:green\">We now see that the qubit is in a superposition state. If you were to measure this qubit you would now have a 50%-50% of being in the |0> or |1>. Just for the fun of it, let's do the math:</p>\n",
    "\n",
    "$$ H|0\\rangle = \\frac{1}{\\sqrt{2}}\\begin{bmatrix} 1 & 1 \\\\ 1 & -1 \\end{bmatrix}\\begin{bmatrix} 1 \\\\0 \\end{bmatrix} = \\frac{1}{\\sqrt{2}}\\begin{bmatrix} 1 \\\\ 1 \\end{bmatrix} = \\frac{1}{\\sqrt{2}}\\begin{bmatrix} 1 \\\\ 0\\end{bmatrix} + \\frac{1}{\\sqrt{2}}\\begin{bmatrix} 0 \\\\ 1\\end{bmatrix}$$"
   ]
  },
  {
   "cell_type": "markdown",
   "metadata": {},
   "source": [
    "<span style=\"font-size: 16px;color:blue\">Now the |1> state</span>"
   ]
  },
  {
   "cell_type": "code",
   "execution_count": 19,
   "metadata": {},
   "outputs": [
    {
     "data": {
      "image/png": "[encoded data removed]",
      "text/plain": [
       "<Figure size 233.576x84.28 with 1 Axes>"
      ]
     },
     "execution_count": 19,
     "metadata": {},
     "output_type": "execute_result"
    }
   ],
   "source": [
    "#We must first create a QuantumCircuit which we have done for you.\n",
    "#Do not modify the following line\n",
    "qc = QuantumCircuit(1)\n",
    "#-------------------------------------------------------------\n",
    "#Implement your code here\n",
    "qc.x(0)\n",
    "qc.h(0)\n",
    "#-------------------------------------------------------------\n",
    "#The following line prints out the circuit which we have done for you.\n",
    "#Do not modify the following line\n",
    "qc.draw('mpl')"
   ]
  },
  {
   "cell_type": "code",
   "execution_count": 20,
   "metadata": {
    "scrolled": true
   },
   "outputs": [
    {
     "data": {
      "image/png": "[encoded data removed]",
      "text/plain": [
       "<Figure size 288x288 with 1 Axes>"
      ]
     },
     "execution_count": 20,
     "metadata": {},
     "output_type": "execute_result"
    }
   ],
   "source": [
    "# Do not modify\n",
    "# Let's see the result\n",
    "out = execute(qc,backend).result().get_statevector()\n",
    "plot_bloch_multivector(out)"
   ]
  },
  {
   "cell_type": "markdown",
   "metadata": {},
   "source": [
    "<p style=\"font-size: 16px;color:green\">We now see that the qubit is in a superposition state but this time pointing in the opposite direction. Again, if you were to measure this qubit you would have a 50%-50% of being in the |0> or |1>. I will leave it as an exercise to do the math for those who are interested?</p>"
   ]
  },
  {
   "cell_type": "markdown",
   "metadata": {},
   "source": [
    "<!--- Beware editing things inside <details> tags as it easily breaks when the notebook is converted to html --->\n",
    "<details>\n",
    "    <summary><span style=\"color:red\">(Click here to expand the Bloch sphere diagram)</span></summary>\n",
    "   \n",
    "  \n",
    "![Hadamard Gate](images/hadamard_gate.png)\n",
    "</details>"
   ]
  },
  {
   "cell_type": "markdown",
   "metadata": {},
   "source": [
    "<span style=\"font-size: 20px;color:blue\">Excercise</span>\n",
    "\n",
    "<span style=\"font-size: 16px;color:blue\">What happens if you if you apply 2 Hadamard (H) gates in a row? Why guess when you can know? In the following cell implement two H gates in a row on a |0> qubit</span>"
   ]
  },
  {
   "cell_type": "code",
   "execution_count": 21,
   "metadata": {},
   "outputs": [
    {
     "data": {
      "image/png": "[encoded data removed]",
      "text/plain": [
       "<Figure size 233.576x84.28 with 1 Axes>"
      ]
     },
     "execution_count": 21,
     "metadata": {},
     "output_type": "execute_result"
    }
   ],
   "source": [
    "#We must first create a QuantumCircuit which we have done for you.\n",
    "#Do not modify the following line\n",
    "qc = QuantumCircuit(1)\n",
    "#-------------------------------------------------------------\n",
    "#Implement your code here\n",
    "qc.h(0)\n",
    "qc.h(0)\n",
    "#-------------------------------------------------------------\n",
    "#The following line prints out the circuit which we have done for you.\n",
    "#Do not modify the following line\n",
    "qc.draw('mpl')"
   ]
  },
  {
   "cell_type": "code",
   "execution_count": 22,
   "metadata": {},
   "outputs": [
    {
     "data": {
      "image/png": "[encoded data removed]",
      "text/plain": [
       "<Figure size 288x288 with 1 Axes>"
      ]
     },
     "execution_count": 22,
     "metadata": {},
     "output_type": "execute_result"
    }
   ],
   "source": [
    "#Do not modify\n",
    "# Let's see the result\n",
    "out = execute(qc,backend).result().get_statevector()\n",
    "plot_bloch_multivector(out)"
   ]
  },
  {
   "cell_type": "markdown",
   "metadata": {},
   "source": [
    "<p style=\"font-size: 16px;color:green\">Did this result surprise you? The X, Y, Z, and H gates are all their own inverses. However this is not true of all quantum gates. In the next section we will explore some of these gates.</span>"
   ]
  },
  {
   "cell_type": "markdown",
   "metadata": {},
   "source": [
    "## 2. The R<sub>ϕ</sub> Rotation Gates <a id=\"rphigates\"></a>\n",
    "\n",
    "The world would be no fun if all we could do is shift phases of state vectors by $\\pi$ rotations. Here we introduce gates that allow you to move the state vector in varying degrees of phase shifts.\n",
    "\n",
    "### 2.1 The S-gate  <a id=\"sgate\"></a>\n",
    "\n",
    "The next gate to mention is the S-gate (sometimes known as the $\\sqrt{Z}$-gate), this is an R<sub>ϕ</sub>-gate with $\\phi = \\pi/2$. It does a quarter-turn around the Bloch sphere. It is important to note that unlike every gate introduced in this chapter so far, the S-gate is **not** its own inverse! As a result, you will often see the S<sup>†</sup>-gate, (also “S-dagger”, “Sdg” or $\\sqrt{Z}^\\dagger$-gate).  The S<sup>†</sup>-gate is clearly an R<sub>ϕ</sub>-gate with $\\phi = -\\pi/2$:\n",
    "\n",
    "$$ S = \\begin{bmatrix} 1 & 0 \\\\ 0 & e^{\\frac{i\\pi}{2}} \\end{bmatrix}, \\quad  S^\\dagger = \\begin{bmatrix} 1 & 0 \\\\ 0 & e^{-\\frac{i\\pi}{2}} \\end{bmatrix}$$\n",
    "\n",
    "The name \"$\\sqrt{Z}$-gate\" is due to the fact that two successively applied S-gates has the same effect as one Z-gate:\n",
    "\n",
    "$$ SS|q\\rangle = Z|q\\rangle $$\n",
    "\n",
    "This notation is common throughout quantum computing."
   ]
  },
  {
   "cell_type": "markdown",
   "metadata": {},
   "source": [
    "<span style=\"font-size: 20px;color:blue\">To make this a little bit more clear. We will display the qubit in the |0> state.</span>"
   ]
  },
  {
   "cell_type": "code",
   "execution_count": 23,
   "metadata": {},
   "outputs": [
    {
     "data": {
      "image/png": "[encoded data removed]",
      "text/plain": [
       "<Figure size 288x288 with 1 Axes>"
      ]
     },
     "execution_count": 23,
     "metadata": {},
     "output_type": "execute_result"
    }
   ],
   "source": [
    "#Do not modify\n",
    "qc = QuantumCircuit(1)\n",
    "# Let's see the result\n",
    "out = execute(qc,backend).result().get_statevector()\n",
    "plot_bloch_multivector(out)"
   ]
  },
  {
   "cell_type": "markdown",
   "metadata": {},
   "source": [
    "<span style=\"font-size: 20px;color:blue\">Excercise</span>\n",
    "\n",
    "<span style=\"font-size: 16px;color:blue\">You know the routine by now. Let's see what the S-gate does? (Warning: Results may surprise you if you just implement the S gate.)</span>"
   ]
  },
  {
   "cell_type": "code",
   "execution_count": 24,
   "metadata": {
    "scrolled": true
   },
   "outputs": [
    {
     "data": {
      "image/png": "[encoded data removed]",
      "text/plain": [
       "<Figure size 233.576x84.28 with 1 Axes>"
      ]
     },
     "execution_count": 24,
     "metadata": {},
     "output_type": "execute_result"
    }
   ],
   "source": [
    "#-------------------------------------------------------------\n",
    "#Implement your code here\n",
    "qc.h(0)   # Apply H-gate as you must get the state off the Z-axis.\n",
    "qc.s(0)   # Now you can apply the S-gate to a qubit in a superposition state.\n",
    "#-------------------------------------------------------------\n",
    "#Do not modify the following line\n",
    "qc.draw('mpl')"
   ]
  },
  {
   "cell_type": "code",
   "execution_count": 25,
   "metadata": {},
   "outputs": [
    {
     "data": {
      "image/png": "[encoded data removed]",
      "text/plain": [
       "<Figure size 288x288 with 1 Axes>"
      ]
     },
     "execution_count": 25,
     "metadata": {},
     "output_type": "execute_result"
    }
   ],
   "source": [
    "#Do not modify\n",
    "# Let's see the result\n",
    "out = execute(qc,backend).result().get_statevector()\n",
    "plot_bloch_multivector(out)"
   ]
  },
  {
   "cell_type": "markdown",
   "metadata": {},
   "source": [
    "<p style=\"font-size: 16px;color:green\">Oh, oh, what just happened? That doesn't look like it worked at all if you just implemented the S gate! Go back and reread what this gate does. Hint, it makes a quarter turn around the z-axis but what did we learn about the Z-gate?</p>\n",
    "<!--- Beware editing things inside <details> tags as it easily breaks when the notebook is converted to html --->\n",
    "<details>\n",
    "    <summary><span style=\"color:red\">(Click here if you need a hint?)</span></summary>\n",
    "    <p>As this is a more difficult problem with a trick (and we certainly don't want anyone stressing out over this. After all, this is supposed to be fun!). Remember that a qubit is automatically initialized to the state |0>, and any rotation along the measurement basis results in the state vector merely being rotated along the axis (in this case the axis of rotation of the Earth). Think about what happens if you are standing at the North pole and point your finger straight up? Right, even though the Earth is spinning, and you are spinning around the axis, your finger remains pointed up. So you must somehow move the qubit into a state that no longer points along the Z-axis. There is only one gate that you have learned thus far that does that. Starts with an \"H\"... You can't say we aren't nice guys?\n",
    "\n",
    "</details>"
   ]
  },
  {
   "cell_type": "markdown",
   "metadata": {},
   "source": [
    "<p style=\"font-size: 16px;color:green\">The X, Y, Z are all of there own inverses (or reverse if you like) which makes sense since they all rotate the state vector by $180^\\circ$ or $\\pi$ radian about an axis. The Hadamard gate too is its own inverse (take my word for it, but you can always do the math). The S gate (and the following T gate) are not their own inverses so, we need new gates to reverse their action (or inverses in linear algebra lingo). These are commonly donated with a \"dagger\" as in $S^\\dagger$. So applying the $S^\\dagger$ (hint: called sdg or tdg in Qiskit - it does pay to read all the instructions) to an S gate reverses the action of the S-gate (mathematically - $SS^\\dagger = I$)."
   ]
  },
  {
   "cell_type": "markdown",
   "metadata": {},
   "source": [
    "<span style=\"font-size: 20px;color:blue\">Excercise</span>\n",
    "\n",
    "<span style=\"font-size: 16px;color:blue\">Reverse the S-gate</span>"
   ]
  },
  {
   "cell_type": "code",
   "execution_count": 26,
   "metadata": {
    "scrolled": true
   },
   "outputs": [
    {
     "data": {
      "image/png": "[encoded data removed]",
      "text/plain": [
       "<Figure size 293.776x84.28 with 1 Axes>"
      ]
     },
     "execution_count": 26,
     "metadata": {},
     "output_type": "execute_result"
    }
   ],
   "source": [
    "#-------------------------------------------------------------\n",
    "#Implement your code here\n",
    "qc.sdg(0) # Apply Sdg-gate to qubit 0\n",
    "#-------------------------------------------------------------\n",
    "#Do not modify the following line\n",
    "qc.draw('mpl')"
   ]
  },
  {
   "cell_type": "code",
   "execution_count": 27,
   "metadata": {},
   "outputs": [
    {
     "data": {
      "image/png": "[encoded data removed]",
      "text/plain": [
       "<Figure size 288x288 with 1 Axes>"
      ]
     },
     "execution_count": 27,
     "metadata": {},
     "output_type": "execute_result"
    }
   ],
   "source": [
    "#Do not modify\n",
    "# Let's see the result\n",
    "out = execute(qc,backend).result().get_statevector()\n",
    "plot_bloch_multivector(out)"
   ]
  },
  {
   "cell_type": "markdown",
   "metadata": {},
   "source": [
    "<p style=\"font-size: 16px;color:green\">So what did you get. Does this make sense?"
   ]
  },
  {
   "cell_type": "markdown",
   "metadata": {},
   "source": [
    "### 2.2 The T-gate <a id=\"tgate\"></a>\n",
    "The T-gate is a very commonly used gate, it is an R<sub>ϕ</sub>-gate with $\\phi = \\pi/4$:\n",
    "\n",
    "$$ T = \\begin{bmatrix} 1 & 0 \\\\ 0 & e^{\\frac{i\\pi}{4}} \\end{bmatrix}, \\quad  T^\\dagger = \\begin{bmatrix} 1 & 0 \\\\ 0 & e^{-\\frac{i\\pi}{4}} \\end{bmatrix}$$\n",
    "\n",
    "As with the S-gate, the T-gate is sometimes also known as the $\\sqrt[4]{Z}$-gate.\n",
    "\n",
    "As this is just another type of rotation, we won't give you any exercises here. Matter of fact, you may have had enough exercise for one day :)) Feel free to play around with T-gate in the following cells."
   ]
  },
  {
   "cell_type": "code",
   "execution_count": 28,
   "metadata": {
    "scrolled": true
   },
   "outputs": [
    {
     "data": {
      "image/png": "[encoded data removed]",
      "text/plain": [
       "<Figure size 233.576x84.28 with 1 Axes>"
      ]
     },
     "execution_count": 28,
     "metadata": {},
     "output_type": "execute_result"
    }
   ],
   "source": [
    "#Do not modify the following line\n",
    "qc = QuantumCircuit(1)\n",
    "#-------------------------------------------------------------\n",
    "#Implement your code here\n",
    "qc.t(0)   # Apply T-gate to qubit 0\n",
    "qc.tdg(0) # Apply Tdg-gate to qubit 0\n",
    "#-------------------------------------------------------------\n",
    "#Do not modify the following line\n",
    "qc.draw('mpl')"
   ]
  },
  {
   "cell_type": "code",
   "execution_count": 29,
   "metadata": {},
   "outputs": [
    {
     "data": {
      "image/png": "[encoded data removed]",
      "text/plain": [
       "<Figure size 288x288 with 1 Axes>"
      ]
     },
     "execution_count": 29,
     "metadata": {},
     "output_type": "execute_result"
    }
   ],
   "source": [
    "#Do not modify\n",
    "# Let's see the result\n",
    "out = execute(qc,backend).result().get_statevector()\n",
    "plot_bloch_multivector(out)"
   ]
  },
  {
   "cell_type": "markdown",
   "metadata": {},
   "source": [
    "## 2.3 The R<sub>ϕ</sub>-gate  <a id=\"rzgate\"></a>\n",
    "\n",
    "The general representation of rotation is the The R<sub>ϕ</sub>-gate so that the S and T gate (and the Z gate) can be represented generically by this gate.\n",
    "\n",
    "The R<sub>ϕ</sub>-gate is _parametrised,_ that is, it needs a number ($\\phi$) to tell it exactly what to do. The R<sub>ϕ</sub>-gate performs a rotation of $\\phi$ around the Z-axis (and as such is sometimes also known as the R<sub>z</sub>-gate). It has the matrix:\n",
    "\n",
    "$$\n",
    "R_\\phi = \\begin{bmatrix} 1 & 0 \\\\ 0 & e^{i\\phi} \\end{bmatrix}\n",
    "$$\n",
    "\n",
    "Where $\\phi$ is a real number.\n",
    "\n",
    "You can use the widget below to play around with the R<sub>ϕ</sub>-gate, specify $\\phi$ using the slider:"
   ]
  },
  {
   "cell_type": "markdown",
   "metadata": {},
   "source": [
    "In Qiskit, we specify an R<sub>ϕ</sub>-gate using `rz(phi, qubit)`:"
   ]
  },
  {
   "cell_type": "code",
   "execution_count": 30,
   "metadata": {},
   "outputs": [
    {
     "data": {
      "image/png": "[encoded data removed]",
      "text/plain": [
       "<Figure size 173.376x84.28 with 1 Axes>"
      ]
     },
     "execution_count": 30,
     "metadata": {},
     "output_type": "execute_result"
    }
   ],
   "source": [
    "qc = QuantumCircuit(1)\n",
    "qc.rz(pi/4, 0)\n",
    "qc.draw('mpl')"
   ]
  },
  {
   "cell_type": "markdown",
   "metadata": {},
   "source": [
    "You can use the widget below to play around with all the gates introduced in this notebook:"
   ]
  },
  {
   "cell_type": "code",
   "execution_count": 31,
   "metadata": {
    "scrolled": false
   },
   "outputs": [
    {
     "data": {
      "application/vnd.jupyter.widget-view+json": {
       "model_id": "1181a73b6d0b4ecc9e61d8c7c00b3006",
       "version_major": 2,
       "version_minor": 0
      },
      "text/plain": [
       "VBox(children=(HBox(children=(Button(description='I', layout=Layout(height='3em', width='3em'), style=ButtonSt…"
      ]
     },
     "metadata": {},
     "output_type": "display_data"
    },
    {
     "data": {
      "application/vnd.jupyter.widget-view+json": {
       "model_id": "36bb05917042410d99448764a86ba515",
       "version_major": 2,
       "version_minor": 0
      },
      "text/plain": [
       "Image(value=b'\\x89PNG\\r\\n\\x1a\\n\\x00\\x00\\x00\\rIHDR\\x00\\x00\\x01\\xf8\\x00\\x00\\x01\\xf8\\x08\\x06\\x00\\x00\\x00\\xa6(\\xff…"
      ]
     },
     "metadata": {},
     "output_type": "display_data"
    }
   ],
   "source": [
    "# Run the code in this cell to see the widget\n",
    "from qiskit_textbook.widgets import gate_demo\n",
    "gate_demo()"
   ]
  },
  {
   "cell_type": "markdown",
   "metadata": {},
   "source": [
    "## 4. General U-gates  <a id=\"generalU3\"></a>\n",
    "\n",
    "As we saw earlier, the I, Z, S & T-gates were all special cases of the more general R<sub>ϕ</sub>-gate. In the same way, the U<sub>3</sub>-gate is the most general of all single-qubit quantum gates. It is a parametrised gate of the form:\n",
    "\n",
    "$$\n",
    "U_3(\\theta, \\phi, \\lambda) = \\begin{bmatrix} \\cos(\\theta/2) & -e^{i\\lambda}\\sin(\\theta/2) \\\\\n",
    "            e^{i\\phi}\\sin(\\theta/2) & e^{i\\lambda+i\\phi}\\cos(\\theta/2)\n",
    "     \\end{bmatrix}\n",
    "$$\n",
    "\n",
    "Every gate in this chapter could be specified as $U_3(\\theta,\\phi,\\lambda)$, but it is unusual to see this in a circuit diagram, possibly due to the difficulty in reading this.\n",
    "\n",
    "Qiskit provides U<sub>2</sub> and U<sub>1</sub>-gates, which are specific cases of the U<sub>3</sub> gate in which $\\theta = \\tfrac{\\pi}{2}$, and $\\theta = \\phi = 0$ respectively. You will notice that the U<sub>1</sub>-gate is equivalent to the R<sub>ϕ</sub>-gate.\n",
    "\n",
    "$$\n",
    "\\begin{aligned}\n",
    "U_3(\\tfrac{\\pi}{2}, \\phi, \\lambda) = U_2 = \\tfrac{1}{\\sqrt{2}}\\begin{bmatrix} 1 & -e^{i\\lambda} \\\\\n",
    "            e^{i\\phi} & e^{i\\lambda+i\\phi}\n",
    "     \\end{bmatrix}\n",
    "& \\quad &\n",
    "U_3(0, 0, \\lambda) = U_1 = \\begin{bmatrix} 1 & 0 \\\\\n",
    "            0 & e^{i\\lambda}\\\\\n",
    "     \\end{bmatrix}\n",
    "\\end{aligned}\n",
    "$$\n",
    "\n",
    "Before running on real IBM quantum hardware, all single-qubit operations are compiled down to $U_1$ , $U_2$ and $U_3$ . For this reason they are sometimes called the _physical gates_.\n",
    "\n",
    "It should be obvious from this that there are an infinite number of possible gates, and that this also includes R<sub>x</sub> and R<sub>y</sub>-gates, although they are not mentioned here. It must also be noted that there is nothing special about the Z-basis, except that it has been selected as the standard computational basis. That is why we have names for the S and T-gates, but not their X and Y equivalents (e.g. $\\sqrt{X}$ and $\\sqrt[4]{Y}$).\n"
   ]
  },
  {
   "cell_type": "markdown",
   "metadata": {},
   "source": [
    "## Summary <a id=\"summary\"></a>"
   ]
  },
  {
   "cell_type": "markdown",
   "metadata": {},
   "source": [
    "<span style=\"font-size: 16px;color:green\">We saved the best for last (we didn't want you peeking). The following graphic is a recap of the gates we have examined in this workshop notebook. Keep it handy and we hope it helps? Aren't we nice?</span>"
   ]
  },
  {
   "cell_type": "markdown",
   "metadata": {},
   "source": [
    "![Single Gates](images/SingleQubit.jpg)"
   ]
  },
  {
   "cell_type": "markdown",
   "metadata": {},
   "source": [
    "So for those of you who aren't completely brain dead by this point, we would be remiss if we didn't, at least briefly, mention Schrödinger’s equation. Just like Newton's famous $F = ma = m\\frac{d^2x}{dx^2}$ equation which describes the motion of particles in the macroworld, the Schrödinger’s equation cronicles motion in the micro (quantum) world. The one dimensional, non-relativistic, Schrödinger equation is:\n",
    "$$i\\hbar\\frac{\\partial\\Psi}{\\partial t} = -\\frac{\\hbar}{2m}\\frac{\\partial^2\\Psi}{\\partial x^2} + V(x,t)\\Psi$$\n",
    "\n",
    "The key take away from this is that it is a wave equation and waves can interfere constructively or destructively. I liken quantum computers to giant wave machines where qubits generate waves that can interfere constructively or destructively in some useful fashion for computation. \"Useful\" being the challenge.\n"
   ]
  },
  {
   "cell_type": "code",
   "execution_count": null,
   "metadata": {},
   "outputs": [],
   "source": []
  }
 ],
 "metadata": {
  "kernelspec": {
   "display_name": "Python 3",
   "language": "python",
   "name": "python3"
  },
  "language_info": {
   "codemirror_mode": {
    "name": "ipython",
    "version": 3
   },
   "file_extension": ".py",
   "mimetype": "text/x-python",
   "name": "python",
   "nbconvert_exporter": "python",
   "pygments_lexer": "ipython3",
   "version": "3.7.6"
  },
  "widgets": {
   "application/vnd.jupyter.widget-state+json": {
    "state": {
     "014e2be35793420a82baca6b07071cbf": {
      "buffers": [
       {
        "data": "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",
        "encoding": "base64",
        "path": [
         "value"
        ]
       }
      ],
      "model_module": "@jupyter-widgets/controls",
      "model_module_version": "1.5.0",
      "model_name": "ImageModel",
      "state": {
       "_dom_classes": [],
       "_model_module": "@jupyter-widgets/controls",
       "_model_module_version": "1.5.0",
       "_model_name": "ImageModel",
       "_view_count": null,
       "_view_module": "@jupyter-widgets/controls",
       "_view_module_version": "1.5.0",
       "_view_name": "ImageView",
       "format": "png",
       "height": "",
       "layout": "IPY_MODEL_690b4e946f484a54934fe0cf1719ae8c",
       "value": {},
       "width": ""
      }
     },
     "01532e2a834643828ea4fb7eefe07807": {
      "model_module": "@jupyter-widgets/controls",
      "model_module_version": "1.5.0",
      "model_name": "ButtonModel",
      "state": {
       "_dom_classes": [],
       "_model_module": "@jupyter-widgets/controls",
       "_model_module_version": "1.5.0",
       "_model_name": "ButtonModel",
       "_view_count": null,
       "_view_module": "@jupyter-widgets/controls",
       "_view_module_version": "1.5.0",
       "_view_name": "ButtonView",
       "button_style": "",
       "description": "Rz",
       "disabled": false,
       "icon": "",
       "layout": "IPY_MODEL_50c45aff5424472e97e1ed2da672963f",
       "style": "IPY_MODEL_4c1556b3e1d94b429e6af93576d5c9ae",
       "tooltip": ""
      }
     },
     "0854aeb36aad46a8b8d2a8ae1ef12999": {
      "model_module": "@jupyter-widgets/controls",
      "model_module_version": "1.5.0",
      "model_name": "ButtonStyleModel",
      "state": {
       "_model_module": "@jupyter-widgets/controls",
       "_model_module_version": "1.5.0",
       "_model_name": "ButtonStyleModel",
       "_view_count": null,
       "_view_module": "@jupyter-widgets/base",
       "_view_module_version": "1.2.0",
       "_view_name": "StyleView",
       "button_color": null,
       "font_weight": ""
      }
     },
     "08e0044d24724f48a3367a6d7666e8e4": {
      "model_module": "@jupyter-widgets/controls",
      "model_module_version": "1.5.0",
      "model_name": "ButtonModel",
      "state": {
       "_dom_classes": [],
       "_model_module": "@jupyter-widgets/controls",
       "_model_module_version": "1.5.0",
       "_model_name": "ButtonModel",
       "_view_count": null,
       "_view_module": "@jupyter-widgets/controls",
       "_view_module_version": "1.5.0",
       "_view_name": "ButtonView",
       "button_style": "",
       "description": "I",
       "disabled": false,
       "icon": "",
       "layout": "IPY_MODEL_0994e97277c6411aa2a46dfcbdbbc647",
       "style": "IPY_MODEL_18687e3b87584d27805fecf41f8f767a",
       "tooltip": ""
      }
     },
     "0994e97277c6411aa2a46dfcbdbbc647": {
      "model_module": "@jupyter-widgets/base",
      "model_module_version": "1.2.0",
      "model_name": "LayoutModel",
      "state": {
       "_model_module": "@jupyter-widgets/base",
       "_model_module_version": "1.2.0",
       "_model_name": "LayoutModel",
       "_view_count": null,
       "_view_module": "@jupyter-widgets/base",
       "_view_module_version": "1.2.0",
       "_view_name": "LayoutView",
       "align_content": null,
       "align_items": null,
       "align_self": null,
       "border": null,
       "bottom": null,
       "display": null,
       "flex": null,
       "flex_flow": null,
       "grid_area": null,
       "grid_auto_columns": null,
       "grid_auto_flow": null,
       "grid_auto_rows": null,
       "grid_column": null,
       "grid_gap": null,
       "grid_row": null,
       "grid_template_areas": null,
       "grid_template_columns": null,
       "grid_template_rows": null,
       "height": "3em",
       "justify_content": null,
       "justify_items": null,
       "left": null,
       "margin": null,
       "max_height": null,
       "max_width": null,
       "min_height": null,
       "min_width": null,
       "object_fit": null,
       "object_position": null,
       "order": null,
       "overflow": null,
       "overflow_x": null,
       "overflow_y": null,
       "padding": null,
       "right": null,
       "top": null,
       "visibility": null,
       "width": "3em"
      }
     },
     "09dc10c77cdb4467a47e89fcb5e5e9ec": {
      "model_module": "@jupyter-widgets/controls",
      "model_module_version": "1.5.0",
      "model_name": "ButtonModel",
      "state": {
       "_dom_classes": [],
       "_model_module": "@jupyter-widgets/controls",
       "_model_module_version": "1.5.0",
       "_model_name": "ButtonModel",
       "_view_count": null,
       "_view_module": "@jupyter-widgets/controls",
       "_view_module_version": "1.5.0",
       "_view_name": "ButtonView",
       "button_style": "",
       "description": "Y",
       "disabled": false,
       "icon": "",
       "layout": "IPY_MODEL_329043247e9d4a8a96a5ec4df23f1912",
       "style": "IPY_MODEL_d11e4cef9ec541e289121d0bd6dd4cfd",
       "tooltip": ""
      }
     },
     "0a11b4e6801447f39fa2d329271d6863": {
      "model_module": "@jupyter-widgets/controls",
      "model_module_version": "1.5.0",
      "model_name": "ButtonStyleModel",
      "state": {
       "_model_module": "@jupyter-widgets/controls",
       "_model_module_version": "1.5.0",
       "_model_name": "ButtonStyleModel",
       "_view_count": null,
       "_view_module": "@jupyter-widgets/base",
       "_view_module_version": "1.2.0",
       "_view_name": "StyleView",
       "button_color": null,
       "font_weight": ""
      }
     },
     "0c22f943218b48d6aa231421858a75c3": {
      "model_module": "@jupyter-widgets/base",
      "model_module_version": "1.2.0",
      "model_name": "LayoutModel",
      "state": {
       "_model_module": "@jupyter-widgets/base",
       "_model_module_version": "1.2.0",
       "_model_name": "LayoutModel",
       "_view_count": null,
       "_view_module": "@jupyter-widgets/base",
       "_view_module_version": "1.2.0",
       "_view_name": "LayoutView",
       "align_content": null,
       "align_items": null,
       "align_self": null,
       "border": null,
       "bottom": null,
       "display": null,
       "flex": null,
       "flex_flow": null,
       "grid_area": null,
       "grid_auto_columns": null,
       "grid_auto_flow": null,
       "grid_auto_rows": null,
       "grid_column": null,
       "grid_gap": null,
       "grid_row": null,
       "grid_template_areas": null,
       "grid_template_columns": null,
       "grid_template_rows": null,
       "height": null,
       "justify_content": null,
       "justify_items": null,
       "left": null,
       "margin": null,
       "max_height": null,
       "max_width": null,
       "min_height": null,
       "min_width": null,
       "object_fit": null,
       "object_position": null,
       "order": null,
       "overflow": null,
       "overflow_x": null,
       "overflow_y": null,
       "padding": null,
       "right": null,
       "top": null,
       "visibility": null,
       "width": null
      }
     },
     "0cb080f4ce004ac1b2814be68074503c": {
      "model_module": "@jupyter-widgets/controls",
      "model_module_version": "1.5.0",
      "model_name": "ButtonModel",
      "state": {
       "_dom_classes": [],
       "_model_module": "@jupyter-widgets/controls",
       "_model_module_version": "1.5.0",
       "_model_name": "ButtonModel",
       "_view_count": null,
       "_view_module": "@jupyter-widgets/controls",
       "_view_module_version": "1.5.0",
       "_view_name": "ButtonView",
       "button_style": "",
       "description": "H",
       "disabled": false,
       "icon": "",
       "layout": "IPY_MODEL_88c15ef32aa9419c972f74d05acdba10",
       "style": "IPY_MODEL_1e10fb8b5b0a454db781bf5cddc56f26",
       "tooltip": ""
      }
     },
     "10005774ec04456bb0064eabcf7dd32c": {
      "model_module": "@jupyter-widgets/base",
      "model_module_version": "1.2.0",
      "model_name": "LayoutModel",
      "state": {
       "_model_module": "@jupyter-widgets/base",
       "_model_module_version": "1.2.0",
       "_model_name": "LayoutModel",
       "_view_count": null,
       "_view_module": "@jupyter-widgets/base",
       "_view_module_version": "1.2.0",
       "_view_name": "LayoutView",
       "align_content": null,
       "align_items": null,
       "align_self": null,
       "border": null,
       "bottom": null,
       "display": null,
       "flex": null,
       "flex_flow": null,
       "grid_area": null,
       "grid_auto_columns": null,
       "grid_auto_flow": null,
       "grid_auto_rows": null,
       "grid_column": null,
       "grid_gap": null,
       "grid_row": null,
       "grid_template_areas": null,
       "grid_template_columns": null,
       "grid_template_rows": null,
       "height": null,
       "justify_content": null,
       "justify_items": null,
       "left": null,
       "margin": null,
       "max_height": null,
       "max_width": null,
       "min_height": null,
       "min_width": null,
       "object_fit": null,
       "object_position": null,
       "order": null,
       "overflow": null,
       "overflow_x": null,
       "overflow_y": null,
       "padding": null,
       "right": null,
       "top": null,
       "visibility": null,
       "width": null
      }
     },
     "10914e7434b24a65ac9222d111a494af": {
      "model_module": "@jupyter-widgets/base",
      "model_module_version": "1.2.0",
      "model_name": "LayoutModel",
      "state": {
       "_model_module": "@jupyter-widgets/base",
       "_model_module_version": "1.2.0",
       "_model_name": "LayoutModel",
       "_view_count": null,
       "_view_module": "@jupyter-widgets/base",
       "_view_module_version": "1.2.0",
       "_view_name": "LayoutView",
       "align_content": null,
       "align_items": null,
       "align_self": null,
       "border": null,
       "bottom": null,
       "display": null,
       "flex": null,
       "flex_flow": null,
       "grid_area": null,
       "grid_auto_columns": null,
       "grid_auto_flow": null,
       "grid_auto_rows": null,
       "grid_column": null,
       "grid_gap": null,
       "grid_row": null,
       "grid_template_areas": null,
       "grid_template_columns": null,
       "grid_template_rows": null,
       "height": "3em",
       "justify_content": null,
       "justify_items": null,
       "left": null,
       "margin": null,
       "max_height": null,
       "max_width": null,
       "min_height": null,
       "min_width": null,
       "object_fit": null,
       "object_position": null,
       "order": null,
       "overflow": null,
       "overflow_x": null,
       "overflow_y": null,
       "padding": null,
       "right": null,
       "top": null,
       "visibility": null,
       "width": "3em"
      }
     },
     "152e150e752e4710b3895c37366a9a6f": {
      "model_module": "@jupyter-widgets/controls",
      "model_module_version": "1.5.0",
      "model_name": "VBoxModel",
      "state": {
       "_dom_classes": [],
       "_model_module": "@jupyter-widgets/controls",
       "_model_module_version": "1.5.0",
       "_model_name": "VBoxModel",
       "_view_count": null,
       "_view_module": "@jupyter-widgets/controls",
       "_view_module_version": "1.5.0",
       "_view_name": "VBoxView",
       "box_style": "",
       "children": [
        "IPY_MODEL_f4c05b74fc084da792f26ab98fc78ace",
        "IPY_MODEL_99b4e42dcd62481fa30a99eb6dab06b7"
       ],
       "layout": "IPY_MODEL_85cedd3773114578a52b2d21e1d901c9"
      }
     },
     "15bf026f48e04266b88a15a9b509197c": {
      "model_module": "@jupyter-widgets/controls",
      "model_module_version": "1.5.0",
      "model_name": "ButtonModel",
      "state": {
       "_dom_classes": [],
       "_model_module": "@jupyter-widgets/controls",
       "_model_module_version": "1.5.0",
       "_model_name": "ButtonModel",
       "_view_count": null,
       "_view_module": "@jupyter-widgets/controls",
       "_view_module_version": "1.5.0",
       "_view_name": "ButtonView",
       "button_style": "",
       "description": "Reset",
       "disabled": false,
       "icon": "",
       "layout": "IPY_MODEL_4d1e969201464af9ad465fb883d3cc6b",
       "style": "IPY_MODEL_5d86fe936e10428da191a92876ec430d",
       "tooltip": ""
      }
     },
     "18687e3b87584d27805fecf41f8f767a": {
      "model_module": "@jupyter-widgets/controls",
      "model_module_version": "1.5.0",
      "model_name": "ButtonStyleModel",
      "state": {
       "_model_module": "@jupyter-widgets/controls",
       "_model_module_version": "1.5.0",
       "_model_name": "ButtonStyleModel",
       "_view_count": null,
       "_view_module": "@jupyter-widgets/base",
       "_view_module_version": "1.2.0",
       "_view_name": "StyleView",
       "button_color": null,
       "font_weight": ""
      }
     },
     "19588833c4294b95a92fa1920e653e47": {
      "model_module": "@jupyter-widgets/base",
      "model_module_version": "1.2.0",
      "model_name": "LayoutModel",
      "state": {
       "_model_module": "@jupyter-widgets/base",
       "_model_module_version": "1.2.0",
       "_model_name": "LayoutModel",
       "_view_count": null,
       "_view_module": "@jupyter-widgets/base",
       "_view_module_version": "1.2.0",
       "_view_name": "LayoutView",
       "align_content": null,
       "align_items": null,
       "align_self": null,
       "border": null,
       "bottom": null,
       "display": null,
       "flex": null,
       "flex_flow": null,
       "grid_area": null,
       "grid_auto_columns": null,
       "grid_auto_flow": null,
       "grid_auto_rows": null,
       "grid_column": null,
       "grid_gap": null,
       "grid_row": null,
       "grid_template_areas": null,
       "grid_template_columns": null,
       "grid_template_rows": null,
       "height": "3em",
       "justify_content": null,
       "justify_items": null,
       "left": null,
       "margin": null,
       "max_height": null,
       "max_width": null,
       "min_height": null,
       "min_width": null,
       "object_fit": null,
       "object_position": null,
       "order": null,
       "overflow": null,
       "overflow_x": null,
       "overflow_y": null,
       "padding": null,
       "right": null,
       "top": null,
       "visibility": null,
       "width": "6em"
      }
     },
     "1b629f26cea34e9bb168ee081ada4c5c": {
      "model_module": "@jupyter-widgets/base",
      "model_module_version": "1.2.0",
      "model_name": "LayoutModel",
      "state": {
       "_model_module": "@jupyter-widgets/base",
       "_model_module_version": "1.2.0",
       "_model_name": "LayoutModel",
       "_view_count": null,
       "_view_module": "@jupyter-widgets/base",
       "_view_module_version": "1.2.0",
       "_view_name": "LayoutView",
       "align_content": null,
       "align_items": null,
       "align_self": null,
       "border": null,
       "bottom": null,
       "display": null,
       "flex": null,
       "flex_flow": null,
       "grid_area": null,
       "grid_auto_columns": null,
       "grid_auto_flow": null,
       "grid_auto_rows": null,
       "grid_column": null,
       "grid_gap": null,
       "grid_row": null,
       "grid_template_areas": null,
       "grid_template_columns": null,
       "grid_template_rows": null,
       "height": "3em",
       "justify_content": null,
       "justify_items": null,
       "left": null,
       "margin": null,
       "max_height": null,
       "max_width": null,
       "min_height": null,
       "min_width": null,
       "object_fit": null,
       "object_position": null,
       "order": null,
       "overflow": null,
       "overflow_x": null,
       "overflow_y": null,
       "padding": null,
       "right": null,
       "top": null,
       "visibility": null,
       "width": "3em"
      }
     },
     "1b9cd926dc574ed3a44b5b7549c40391": {
      "model_module": "@jupyter-widgets/controls",
      "model_module_version": "1.5.0",
      "model_name": "VBoxModel",
      "state": {
       "_dom_classes": [],
       "_model_module": "@jupyter-widgets/controls",
       "_model_module_version": "1.5.0",
       "_model_name": "VBoxModel",
       "_view_count": null,
       "_view_module": "@jupyter-widgets/controls",
       "_view_module_version": "1.5.0",
       "_view_name": "VBoxView",
       "box_style": "",
       "children": [
        "IPY_MODEL_4b9fa46364e4416f9fc65be88f335543",
        "IPY_MODEL_6fa63d17eb1b4925945e0f0de837b201"
       ],
       "layout": "IPY_MODEL_e59930139e1e4c84a0353d861f729f1a"
      }
     },
     "1e10fb8b5b0a454db781bf5cddc56f26": {
      "model_module": "@jupyter-widgets/controls",
      "model_module_version": "1.5.0",
      "model_name": "ButtonStyleModel",
      "state": {
       "_model_module": "@jupyter-widgets/controls",
       "_model_module_version": "1.5.0",
       "_model_name": "ButtonStyleModel",
       "_view_count": null,
       "_view_module": "@jupyter-widgets/base",
       "_view_module_version": "1.2.0",
       "_view_name": "StyleView",
       "button_color": null,
       "font_weight": ""
      }
     },
     "21c899af66ec44f289e4cb9be2222ca6": {
      "model_module": "@jupyter-widgets/base",
      "model_module_version": "1.2.0",
      "model_name": "LayoutModel",
      "state": {
       "_model_module": "@jupyter-widgets/base",
       "_model_module_version": "1.2.0",
       "_model_name": "LayoutModel",
       "_view_count": null,
       "_view_module": "@jupyter-widgets/base",
       "_view_module_version": "1.2.0",
       "_view_name": "LayoutView",
       "align_content": null,
       "align_items": null,
       "align_self": null,
       "border": null,
       "bottom": null,
       "display": null,
       "flex": null,
       "flex_flow": null,
       "grid_area": null,
       "grid_auto_columns": null,
       "grid_auto_flow": null,
       "grid_auto_rows": null,
       "grid_column": null,
       "grid_gap": null,
       "grid_row": null,
       "grid_template_areas": null,
       "grid_template_columns": null,
       "grid_template_rows": null,
       "height": "3em",
       "justify_content": null,
       "justify_items": null,
       "left": null,
       "margin": null,
       "max_height": null,
       "max_width": null,
       "min_height": null,
       "min_width": null,
       "object_fit": null,
       "object_position": null,
       "order": null,
       "overflow": null,
       "overflow_x": null,
       "overflow_y": null,
       "padding": null,
       "right": null,
       "top": null,
       "visibility": null,
       "width": "3em"
      }
     },
     "268da620795e4225a9cabb4af6115d3e": {
      "model_module": "@jupyter-widgets/base",
      "model_module_version": "1.2.0",
      "model_name": "LayoutModel",
      "state": {
       "_model_module": "@jupyter-widgets/base",
       "_model_module_version": "1.2.0",
       "_model_name": "LayoutModel",
       "_view_count": null,
       "_view_module": "@jupyter-widgets/base",
       "_view_module_version": "1.2.0",
       "_view_name": "LayoutView",
       "align_content": null,
       "align_items": null,
       "align_self": null,
       "border": null,
       "bottom": null,
       "display": null,
       "flex": null,
       "flex_flow": null,
       "grid_area": null,
       "grid_auto_columns": null,
       "grid_auto_flow": null,
       "grid_auto_rows": null,
       "grid_column": null,
       "grid_gap": null,
       "grid_row": null,
       "grid_template_areas": null,
       "grid_template_columns": null,
       "grid_template_rows": null,
       "height": "3em",
       "justify_content": null,
       "justify_items": null,
       "left": null,
       "margin": null,
       "max_height": null,
       "max_width": null,
       "min_height": null,
       "min_width": null,
       "object_fit": null,
       "object_position": null,
       "order": null,
       "overflow": null,
       "overflow_x": null,
       "overflow_y": null,
       "padding": null,
       "right": null,
       "top": null,
       "visibility": null,
       "width": "3em"
      }
     },
     "285d0fac51b8457baade0938fa278660": {
      "model_module": "@jupyter-widgets/base",
      "model_module_version": "1.2.0",
      "model_name": "LayoutModel",
      "state": {
       "_model_module": "@jupyter-widgets/base",
       "_model_module_version": "1.2.0",
       "_model_name": "LayoutModel",
       "_view_count": null,
       "_view_module": "@jupyter-widgets/base",
       "_view_module_version": "1.2.0",
       "_view_name": "LayoutView",
       "align_content": null,
       "align_items": null,
       "align_self": null,
       "border": null,
       "bottom": null,
       "display": null,
       "flex": null,
       "flex_flow": null,
       "grid_area": null,
       "grid_auto_columns": null,
       "grid_auto_flow": null,
       "grid_auto_rows": null,
       "grid_column": null,
       "grid_gap": null,
       "grid_row": null,
       "grid_template_areas": null,
       "grid_template_columns": null,
       "grid_template_rows": null,
       "height": "3em",
       "justify_content": null,
       "justify_items": null,
       "left": null,
       "margin": null,
       "max_height": null,
       "max_width": null,
       "min_height": null,
       "min_width": null,
       "object_fit": null,
       "object_position": null,
       "order": null,
       "overflow": null,
       "overflow_x": null,
       "overflow_y": null,
       "padding": null,
       "right": null,
       "top": null,
       "visibility": null,
       "width": "3em"
      }
     },
     "2b2fa4398727412994eaf46073f2075b": {
      "model_module": "@jupyter-widgets/controls",
      "model_module_version": "1.5.0",
      "model_name": "ButtonStyleModel",
      "state": {
       "_model_module": "@jupyter-widgets/controls",
       "_model_module_version": "1.5.0",
       "_model_name": "ButtonStyleModel",
       "_view_count": null,
       "_view_module": "@jupyter-widgets/base",
       "_view_module_version": "1.2.0",
       "_view_name": "StyleView",
       "button_color": null,
       "font_weight": ""
      }
     },
     "2c7a7e93fbdc4eaab03eff53ce57599f": {
      "model_module": "@jupyter-widgets/base",
      "model_module_version": "1.2.0",
      "model_name": "LayoutModel",
      "state": {
       "_model_module": "@jupyter-widgets/base",
       "_model_module_version": "1.2.0",
       "_model_name": "LayoutModel",
       "_view_count": null,
       "_view_module": "@jupyter-widgets/base",
       "_view_module_version": "1.2.0",
       "_view_name": "LayoutView",
       "align_content": null,
       "align_items": null,
       "align_self": null,
       "border": null,
       "bottom": null,
       "display": null,
       "flex": null,
       "flex_flow": null,
       "grid_area": null,
       "grid_auto_columns": null,
       "grid_auto_flow": null,
       "grid_auto_rows": null,
       "grid_column": null,
       "grid_gap": null,
       "grid_row": null,
       "grid_template_areas": null,
       "grid_template_columns": null,
       "grid_template_rows": null,
       "height": "3em",
       "justify_content": null,
       "justify_items": null,
       "left": null,
       "margin": null,
       "max_height": null,
       "max_width": null,
       "min_height": null,
       "min_width": null,
       "object_fit": null,
       "object_position": null,
       "order": null,
       "overflow": null,
       "overflow_x": null,
       "overflow_y": null,
       "padding": null,
       "right": null,
       "top": null,
       "visibility": null,
       "width": "3em"
      }
     },
     "2d1d47931ea9431aa7a0faa1d0bf7ff4": {
      "model_module": "@jupyter-widgets/controls",
      "model_module_version": "1.5.0",
      "model_name": "ButtonModel",
      "state": {
       "_dom_classes": [],
       "_model_module": "@jupyter-widgets/controls",
       "_model_module_version": "1.5.0",
       "_model_name": "ButtonModel",
       "_view_count": null,
       "_view_module": "@jupyter-widgets/controls",
       "_view_module_version": "1.5.0",
       "_view_name": "ButtonView",
       "button_style": "",
       "description": "Z",
       "disabled": false,
       "icon": "",
       "layout": "IPY_MODEL_bc61f2ca9a214015bf8dce127f0419be",
       "style": "IPY_MODEL_381b0c64c9fb486aba5df24bb7fb3e02",
       "tooltip": ""
      }
     },
     "2d5ef00e34ca4732af4b0be111644c65": {
      "model_module": "@jupyter-widgets/base",
      "model_module_version": "1.2.0",
      "model_name": "LayoutModel",
      "state": {
       "_model_module": "@jupyter-widgets/base",
       "_model_module_version": "1.2.0",
       "_model_name": "LayoutModel",
       "_view_count": null,
       "_view_module": "@jupyter-widgets/base",
       "_view_module_version": "1.2.0",
       "_view_name": "LayoutView",
       "align_content": null,
       "align_items": null,
       "align_self": null,
       "border": null,
       "bottom": null,
       "display": null,
       "flex": null,
       "flex_flow": null,
       "grid_area": null,
       "grid_auto_columns": null,
       "grid_auto_flow": null,
       "grid_auto_rows": null,
       "grid_column": null,
       "grid_gap": null,
       "grid_row": null,
       "grid_template_areas": null,
       "grid_template_columns": null,
       "grid_template_rows": null,
       "height": null,
       "justify_content": null,
       "justify_items": null,
       "left": null,
       "margin": null,
       "max_height": null,
       "max_width": null,
       "min_height": null,
       "min_width": null,
       "object_fit": null,
       "object_position": null,
       "order": null,
       "overflow": null,
       "overflow_x": null,
       "overflow_y": null,
       "padding": null,
       "right": null,
       "top": null,
       "visibility": null,
       "width": null
      }
     },
     "329043247e9d4a8a96a5ec4df23f1912": {
      "model_module": "@jupyter-widgets/base",
      "model_module_version": "1.2.0",
      "model_name": "LayoutModel",
      "state": {
       "_model_module": "@jupyter-widgets/base",
       "_model_module_version": "1.2.0",
       "_model_name": "LayoutModel",
       "_view_count": null,
       "_view_module": "@jupyter-widgets/base",
       "_view_module_version": "1.2.0",
       "_view_name": "LayoutView",
       "align_content": null,
       "align_items": null,
       "align_self": null,
       "border": null,
       "bottom": null,
       "display": null,
       "flex": null,
       "flex_flow": null,
       "grid_area": null,
       "grid_auto_columns": null,
       "grid_auto_flow": null,
       "grid_auto_rows": null,
       "grid_column": null,
       "grid_gap": null,
       "grid_row": null,
       "grid_template_areas": null,
       "grid_template_columns": null,
       "grid_template_rows": null,
       "height": "3em",
       "justify_content": null,
       "justify_items": null,
       "left": null,
       "margin": null,
       "max_height": null,
       "max_width": null,
       "min_height": null,
       "min_width": null,
       "object_fit": null,
       "object_position": null,
       "order": null,
       "overflow": null,
       "overflow_x": null,
       "overflow_y": null,
       "padding": null,
       "right": null,
       "top": null,
       "visibility": null,
       "width": "3em"
      }
     },
     "37b502a665a84884ac79156e847f3c44": {
      "model_module": "@jupyter-widgets/controls",
      "model_module_version": "1.5.0",
      "model_name": "FloatSliderModel",
      "state": {
       "_dom_classes": [],
       "_model_module": "@jupyter-widgets/controls",
       "_model_module_version": "1.5.0",
       "_model_name": "FloatSliderModel",
       "_view_count": null,
       "_view_module": "@jupyter-widgets/controls",
       "_view_module_version": "1.5.0",
       "_view_name": "FloatSliderView",
       "continuous_update": true,
       "description": "",
       "description_tooltip": null,
       "disabled": false,
       "layout": "IPY_MODEL_a64fc9f744814285bffb4edd1c106d21",
       "max": 3.141592653589793,
       "min": -3.141592653589793,
       "orientation": "horizontal",
       "readout": true,
       "readout_format": ".2f",
       "step": 0.1,
       "style": "IPY_MODEL_f77f38c411f74e039d254aa3dfc0e935",
       "value": 3.141592653589793
      }
     },
     "381b0c64c9fb486aba5df24bb7fb3e02": {
      "model_module": "@jupyter-widgets/controls",
      "model_module_version": "1.5.0",
      "model_name": "ButtonStyleModel",
      "state": {
       "_model_module": "@jupyter-widgets/controls",
       "_model_module_version": "1.5.0",
       "_model_name": "ButtonStyleModel",
       "_view_count": null,
       "_view_module": "@jupyter-widgets/base",
       "_view_module_version": "1.2.0",
       "_view_name": "StyleView",
       "button_color": null,
       "font_weight": ""
      }
     },
     "382025fe443b4652a3da61ee809c36d0": {
      "model_module": "@jupyter-widgets/controls",
      "model_module_version": "1.5.0",
      "model_name": "ButtonModel",
      "state": {
       "_dom_classes": [],
       "_model_module": "@jupyter-widgets/controls",
       "_model_module_version": "1.5.0",
       "_model_name": "ButtonModel",
       "_view_count": null,
       "_view_module": "@jupyter-widgets/controls",
       "_view_module_version": "1.5.0",
       "_view_name": "ButtonView",
       "button_style": "",
       "description": "X",
       "disabled": false,
       "icon": "",
       "layout": "IPY_MODEL_69bb0e94e5f14592993226bcf77ade99",
       "style": "IPY_MODEL_c8bedfb44bc544098ab1b27620597adf",
       "tooltip": ""
      }
     },
     "386adc9f1e7647cc8d12b1c221e86ad6": {
      "model_module": "@jupyter-widgets/base",
      "model_module_version": "1.2.0",
      "model_name": "LayoutModel",
      "state": {
       "_model_module": "@jupyter-widgets/base",
       "_model_module_version": "1.2.0",
       "_model_name": "LayoutModel",
       "_view_count": null,
       "_view_module": "@jupyter-widgets/base",
       "_view_module_version": "1.2.0",
       "_view_name": "LayoutView",
       "align_content": null,
       "align_items": null,
       "align_self": null,
       "border": null,
       "bottom": null,
       "display": null,
       "flex": null,
       "flex_flow": null,
       "grid_area": null,
       "grid_auto_columns": null,
       "grid_auto_flow": null,
       "grid_auto_rows": null,
       "grid_column": null,
       "grid_gap": null,
       "grid_row": null,
       "grid_template_areas": null,
       "grid_template_columns": null,
       "grid_template_rows": null,
       "height": null,
       "justify_content": null,
       "justify_items": null,
       "left": null,
       "margin": null,
       "max_height": null,
       "max_width": null,
       "min_height": null,
       "min_width": null,
       "object_fit": null,
       "object_position": null,
       "order": null,
       "overflow": null,
       "overflow_x": null,
       "overflow_y": null,
       "padding": null,
       "right": null,
       "top": null,
       "visibility": null,
       "width": null
      }
     },
     "3e56198990334699b677848c3bf8b35a": {
      "model_module": "@jupyter-widgets/base",
      "model_module_version": "1.2.0",
      "model_name": "LayoutModel",
      "state": {
       "_model_module": "@jupyter-widgets/base",
       "_model_module_version": "1.2.0",
       "_model_name": "LayoutModel",
       "_view_count": null,
       "_view_module": "@jupyter-widgets/base",
       "_view_module_version": "1.2.0",
       "_view_name": "LayoutView",
       "align_content": null,
       "align_items": null,
       "align_self": null,
       "border": null,
       "bottom": null,
       "display": null,
       "flex": null,
       "flex_flow": null,
       "grid_area": null,
       "grid_auto_columns": null,
       "grid_auto_flow": null,
       "grid_auto_rows": null,
       "grid_column": null,
       "grid_gap": null,
       "grid_row": null,
       "grid_template_areas": null,
       "grid_template_columns": null,
       "grid_template_rows": null,
       "height": null,
       "justify_content": null,
       "justify_items": null,
       "left": null,
       "margin": null,
       "max_height": null,
       "max_width": null,
       "min_height": null,
       "min_width": null,
       "object_fit": null,
       "object_position": null,
       "order": null,
       "overflow": null,
       "overflow_x": null,
       "overflow_y": null,
       "padding": null,
       "right": null,
       "top": null,
       "visibility": null,
       "width": null
      }
     },
     "420bf07181ce41a5931c891b7d15f503": {
      "model_module": "@jupyter-widgets/controls",
      "model_module_version": "1.5.0",
      "model_name": "HBoxModel",
      "state": {
       "_dom_classes": [],
       "_model_module": "@jupyter-widgets/controls",
       "_model_module_version": "1.5.0",
       "_model_name": "HBoxModel",
       "_view_count": null,
       "_view_module": "@jupyter-widgets/controls",
       "_view_module_version": "1.5.0",
       "_view_name": "HBoxView",
       "box_style": "",
       "children": [
        "IPY_MODEL_6d51a01d16af4929a94bc01fc0a203cd",
        "IPY_MODEL_88d03fb4db9c4584ba47e92be05fabb9",
        "IPY_MODEL_c5ad054c237b453f8b137b539c3fcede",
        "IPY_MODEL_7a9a9ffd99d540ac80cd32fd7c5d3e1d"
       ],
       "layout": "IPY_MODEL_2d5ef00e34ca4732af4b0be111644c65"
      }
     },
     "427d9dc45cdc48bfbf3a9e3787daafc6": {
      "model_module": "@jupyter-widgets/controls",
      "model_module_version": "1.5.0",
      "model_name": "ButtonModel",
      "state": {
       "_dom_classes": [],
       "_model_module": "@jupyter-widgets/controls",
       "_model_module_version": "1.5.0",
       "_model_name": "ButtonModel",
       "_view_count": null,
       "_view_module": "@jupyter-widgets/controls",
       "_view_module_version": "1.5.0",
       "_view_name": "ButtonView",
       "button_style": "",
       "description": "S",
       "disabled": false,
       "icon": "",
       "layout": "IPY_MODEL_e9613a6fc4f14581aac36f55ca4c0ee5",
       "style": "IPY_MODEL_5e67bb16ef58437fa97091d41e5d108c",
       "tooltip": ""
      }
     },
     "49dc90b43cbf4ed7a0ab495f698f38be": {
      "model_module": "@jupyter-widgets/controls",
      "model_module_version": "1.5.0",
      "model_name": "ButtonModel",
      "state": {
       "_dom_classes": [],
       "_model_module": "@jupyter-widgets/controls",
       "_model_module_version": "1.5.0",
       "_model_name": "ButtonModel",
       "_view_count": null,
       "_view_module": "@jupyter-widgets/controls",
       "_view_module_version": "1.5.0",
       "_view_name": "ButtonView",
       "button_style": "",
       "description": "T",
       "disabled": false,
       "icon": "",
       "layout": "IPY_MODEL_c71e87eba7ff431f8a9f8cde61024f9b",
       "style": "IPY_MODEL_d1e279912e9341e489de75cc582be46b",
       "tooltip": ""
      }
     },
     "4a60b9e26017451e80cca412483e8f25": {
      "buffers": [
       {
        "data": "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",
        "encoding": "base64",
        "path": [
         "value"
        ]
       }
      ],
      "model_module": "@jupyter-widgets/controls",
      "model_module_version": "1.5.0",
      "model_name": "ImageModel",
      "state": {
       "_dom_classes": [],
       "_model_module": "@jupyter-widgets/controls",
       "_model_module_version": "1.5.0",
       "_model_name": "ImageModel",
       "_view_count": null,
       "_view_module": "@jupyter-widgets/controls",
       "_view_module_version": "1.5.0",
       "_view_name": "ImageView",
       "format": "png",
       "height": "",
       "layout": "IPY_MODEL_5ce22495c8c247daaf7467a58d03e7eb",
       "value": {},
       "width": ""
      }
     },
     "4b087e3318444cf08a7d2acbfe8b3a57": {
      "model_module": "@jupyter-widgets/controls",
      "model_module_version": "1.5.0",
      "model_name": "HBoxModel",
      "state": {
       "_dom_classes": [],
       "_model_module": "@jupyter-widgets/controls",
       "_model_module_version": "1.5.0",
       "_model_name": "HBoxModel",
       "_view_count": null,
       "_view_module": "@jupyter-widgets/controls",
       "_view_module_version": "1.5.0",
       "_view_name": "HBoxView",
       "box_style": "",
       "children": [
        "IPY_MODEL_70de08b4dc3d446ebedbae70e2b527d7",
        "IPY_MODEL_c0d01dbbc4ac4bf7adc8cddc260c286b",
        "IPY_MODEL_a2bb99cc0471487896cfb0956429c658",
        "IPY_MODEL_0cb080f4ce004ac1b2814be68074503c",
        "IPY_MODEL_fd3a3265738a4961bbb0e4d7eb857727"
       ],
       "layout": "IPY_MODEL_386adc9f1e7647cc8d12b1c221e86ad6"
      }
     },
     "4b9fa46364e4416f9fc65be88f335543": {
      "model_module": "@jupyter-widgets/controls",
      "model_module_version": "1.5.0",
      "model_name": "HBoxModel",
      "state": {
       "_dom_classes": [],
       "_model_module": "@jupyter-widgets/controls",
       "_model_module_version": "1.5.0",
       "_model_name": "HBoxModel",
       "_view_count": null,
       "_view_module": "@jupyter-widgets/controls",
       "_view_module_version": "1.5.0",
       "_view_name": "HBoxView",
       "box_style": "",
       "children": [
        "IPY_MODEL_08e0044d24724f48a3367a6d7666e8e4",
        "IPY_MODEL_382025fe443b4652a3da61ee809c36d0",
        "IPY_MODEL_09dc10c77cdb4467a47e89fcb5e5e9ec",
        "IPY_MODEL_2d1d47931ea9431aa7a0faa1d0bf7ff4",
        "IPY_MODEL_a27d732cd04a446387af5c31b6eccd0f",
        "IPY_MODEL_427d9dc45cdc48bfbf3a9e3787daafc6",
        "IPY_MODEL_9ac795dabd60449784b36077a8291296",
        "IPY_MODEL_49dc90b43cbf4ed7a0ab495f698f38be",
        "IPY_MODEL_932257aea4454530b8a920f71d53112c",
        "IPY_MODEL_e3ae3f555fb54cad889593f212d5e870"
       ],
       "layout": "IPY_MODEL_92ac4d6043b049b390ccb95bdc435420"
      }
     },
     "4c1556b3e1d94b429e6af93576d5c9ae": {
      "model_module": "@jupyter-widgets/controls",
      "model_module_version": "1.5.0",
      "model_name": "ButtonStyleModel",
      "state": {
       "_model_module": "@jupyter-widgets/controls",
       "_model_module_version": "1.5.0",
       "_model_name": "ButtonStyleModel",
       "_view_count": null,
       "_view_module": "@jupyter-widgets/base",
       "_view_module_version": "1.2.0",
       "_view_name": "StyleView",
       "button_color": null,
       "font_weight": ""
      }
     },
     "4d1e969201464af9ad465fb883d3cc6b": {
      "model_module": "@jupyter-widgets/base",
      "model_module_version": "1.2.0",
      "model_name": "LayoutModel",
      "state": {
       "_model_module": "@jupyter-widgets/base",
       "_model_module_version": "1.2.0",
       "_model_name": "LayoutModel",
       "_view_count": null,
       "_view_module": "@jupyter-widgets/base",
       "_view_module_version": "1.2.0",
       "_view_name": "LayoutView",
       "align_content": null,
       "align_items": null,
       "align_self": null,
       "border": null,
       "bottom": null,
       "display": null,
       "flex": null,
       "flex_flow": null,
       "grid_area": null,
       "grid_auto_columns": null,
       "grid_auto_flow": null,
       "grid_auto_rows": null,
       "grid_column": null,
       "grid_gap": null,
       "grid_row": null,
       "grid_template_areas": null,
       "grid_template_columns": null,
       "grid_template_rows": null,
       "height": "3em",
       "justify_content": null,
       "justify_items": null,
       "left": null,
       "margin": null,
       "max_height": null,
       "max_width": null,
       "min_height": null,
       "min_width": null,
       "object_fit": null,
       "object_position": null,
       "order": null,
       "overflow": null,
       "overflow_x": null,
       "overflow_y": null,
       "padding": null,
       "right": null,
       "top": null,
       "visibility": null,
       "width": "6em"
      }
     },
     "50c45aff5424472e97e1ed2da672963f": {
      "model_module": "@jupyter-widgets/base",
      "model_module_version": "1.2.0",
      "model_name": "LayoutModel",
      "state": {
       "_model_module": "@jupyter-widgets/base",
       "_model_module_version": "1.2.0",
       "_model_name": "LayoutModel",
       "_view_count": null,
       "_view_module": "@jupyter-widgets/base",
       "_view_module_version": "1.2.0",
       "_view_name": "LayoutView",
       "align_content": null,
       "align_items": null,
       "align_self": null,
       "border": null,
       "bottom": null,
       "display": null,
       "flex": null,
       "flex_flow": null,
       "grid_area": null,
       "grid_auto_columns": null,
       "grid_auto_flow": null,
       "grid_auto_rows": null,
       "grid_column": null,
       "grid_gap": null,
       "grid_row": null,
       "grid_template_areas": null,
       "grid_template_columns": null,
       "grid_template_rows": null,
       "height": "3em",
       "justify_content": null,
       "justify_items": null,
       "left": null,
       "margin": null,
       "max_height": null,
       "max_width": null,
       "min_height": null,
       "min_width": null,
       "object_fit": null,
       "object_position": null,
       "order": null,
       "overflow": null,
       "overflow_x": null,
       "overflow_y": null,
       "padding": null,
       "right": null,
       "top": null,
       "visibility": null,
       "width": "3em"
      }
     },
     "56736dd2ce8f45ba8ebe6c65ac295680": {
      "model_module": "@jupyter-widgets/base",
      "model_module_version": "1.2.0",
      "model_name": "LayoutModel",
      "state": {
       "_model_module": "@jupyter-widgets/base",
       "_model_module_version": "1.2.0",
       "_model_name": "LayoutModel",
       "_view_count": null,
       "_view_module": "@jupyter-widgets/base",
       "_view_module_version": "1.2.0",
       "_view_name": "LayoutView",
       "align_content": null,
       "align_items": null,
       "align_self": null,
       "border": null,
       "bottom": null,
       "display": null,
       "flex": null,
       "flex_flow": null,
       "grid_area": null,
       "grid_auto_columns": null,
       "grid_auto_flow": null,
       "grid_auto_rows": null,
       "grid_column": null,
       "grid_gap": null,
       "grid_row": null,
       "grid_template_areas": null,
       "grid_template_columns": null,
       "grid_template_rows": null,
       "height": "3em",
       "justify_content": null,
       "justify_items": null,
       "left": null,
       "margin": null,
       "max_height": null,
       "max_width": null,
       "min_height": null,
       "min_width": null,
       "object_fit": null,
       "object_position": null,
       "order": null,
       "overflow": null,
       "overflow_x": null,
       "overflow_y": null,
       "padding": null,
       "right": null,
       "top": null,
       "visibility": null,
       "width": "3em"
      }
     },
     "59ee9e9a84104b99b9eb11b39c5d4cff": {
      "model_module": "@jupyter-widgets/controls",
      "model_module_version": "1.5.0",
      "model_name": "ButtonStyleModel",
      "state": {
       "_model_module": "@jupyter-widgets/controls",
       "_model_module_version": "1.5.0",
       "_model_name": "ButtonStyleModel",
       "_view_count": null,
       "_view_module": "@jupyter-widgets/base",
       "_view_module_version": "1.2.0",
       "_view_name": "StyleView",
       "button_color": null,
       "font_weight": ""
      }
     },
     "5ce22495c8c247daaf7467a58d03e7eb": {
      "model_module": "@jupyter-widgets/base",
      "model_module_version": "1.2.0",
      "model_name": "LayoutModel",
      "state": {
       "_model_module": "@jupyter-widgets/base",
       "_model_module_version": "1.2.0",
       "_model_name": "LayoutModel",
       "_view_count": null,
       "_view_module": "@jupyter-widgets/base",
       "_view_module_version": "1.2.0",
       "_view_name": "LayoutView",
       "align_content": null,
       "align_items": null,
       "align_self": null,
       "border": null,
       "bottom": null,
       "display": null,
       "flex": null,
       "flex_flow": null,
       "grid_area": null,
       "grid_auto_columns": null,
       "grid_auto_flow": null,
       "grid_auto_rows": null,
       "grid_column": null,
       "grid_gap": null,
       "grid_row": null,
       "grid_template_areas": null,
       "grid_template_columns": null,
       "grid_template_rows": null,
       "height": null,
       "justify_content": null,
       "justify_items": null,
       "left": null,
       "margin": null,
       "max_height": null,
       "max_width": null,
       "min_height": null,
       "min_width": null,
       "object_fit": null,
       "object_position": null,
       "order": null,
       "overflow": null,
       "overflow_x": null,
       "overflow_y": null,
       "padding": null,
       "right": null,
       "top": null,
       "visibility": null,
       "width": null
      }
     },
     "5d86fe936e10428da191a92876ec430d": {
      "model_module": "@jupyter-widgets/controls",
      "model_module_version": "1.5.0",
      "model_name": "ButtonStyleModel",
      "state": {
       "_model_module": "@jupyter-widgets/controls",
       "_model_module_version": "1.5.0",
       "_model_name": "ButtonStyleModel",
       "_view_count": null,
       "_view_module": "@jupyter-widgets/base",
       "_view_module_version": "1.2.0",
       "_view_name": "StyleView",
       "button_color": null,
       "font_weight": ""
      }
     },
     "5e67bb16ef58437fa97091d41e5d108c": {
      "model_module": "@jupyter-widgets/controls",
      "model_module_version": "1.5.0",
      "model_name": "ButtonStyleModel",
      "state": {
       "_model_module": "@jupyter-widgets/controls",
       "_model_module_version": "1.5.0",
       "_model_name": "ButtonStyleModel",
       "_view_count": null,
       "_view_module": "@jupyter-widgets/base",
       "_view_module_version": "1.2.0",
       "_view_name": "StyleView",
       "button_color": null,
       "font_weight": ""
      }
     },
     "65977426710040bc9ddf0423cbd7b1b1": {
      "model_module": "@jupyter-widgets/controls",
      "model_module_version": "1.5.0",
      "model_name": "ButtonStyleModel",
      "state": {
       "_model_module": "@jupyter-widgets/controls",
       "_model_module_version": "1.5.0",
       "_model_name": "ButtonStyleModel",
       "_view_count": null,
       "_view_module": "@jupyter-widgets/base",
       "_view_module_version": "1.2.0",
       "_view_name": "StyleView",
       "button_color": null,
       "font_weight": ""
      }
     },
     "661f779dc3ad4cbc9be0255128a15226": {
      "model_module": "@jupyter-widgets/controls",
      "model_module_version": "1.5.0",
      "model_name": "ButtonModel",
      "state": {
       "_dom_classes": [],
       "_model_module": "@jupyter-widgets/controls",
       "_model_module_version": "1.5.0",
       "_model_name": "ButtonModel",
       "_view_count": null,
       "_view_module": "@jupyter-widgets/controls",
       "_view_module_version": "1.5.0",
       "_view_name": "ButtonView",
       "button_style": "",
       "description": "Z",
       "disabled": false,
       "icon": "",
       "layout": "IPY_MODEL_b4d20fc8f49a4f21806f9d7b0644bb8a",
       "style": "IPY_MODEL_0a11b4e6801447f39fa2d329271d6863",
       "tooltip": ""
      }
     },
     "6682e17c3b714f89863ce85e4b89603e": {
      "buffers": [
       {
        "data": "iVBORw0KGgoAAAANSUhEUgAAAfgAAAH4CAYAAACmKP9/AAAABHNCSVQICAgIfAhkiAAAAAlwSFlzAAALEgAACxIB0t1+/AAAADh0RVh0U29mdHdhcmUAbWF0cGxvdGxpYiB2ZXJzaW9uMy4yLjIsIGh0dHA6Ly9tYXRwbG90bGliLm9yZy+WH4yJAAAgAElEQVR4nO3de5Qc1WHv+19VP6en56knSEIgZJCEkDAPYwzYJ4bAVQjBPrm24+BckxwnEDt3KZDE2IkTc+L4Ol5xnJPjFbzsZQ7Jco7BNw6WDQZWsIFrsALYxiMhSyAkhBDoORqN5tHTz6r7h9StefR7uruqd38/a2nBdFdX7+qurl/tXbv2tlzXFQAAMIvtdQEAAEDjEfAAABiIgAcAwEAEPAAABiLgAQAwEAEPAICBCHgAAAxEwAMAYCACHgAAAxHwAAAYiIAHAMBABDwAAAYi4AEAMBABDwCAgQh4AAAMRMADAGAgAh4AAAMR8AAAGIiABwDAQAQ8AAAGIuABADAQAQ8AgIEIeAAADETAAwBgIAIeAAADEfAAABiIgAcAwEAEPAAABiLgAQAwEAEPAICBCHgAAAxEwAMAYCACHgAAAxHwAAAYiIAHAMBABDwAAAYi4AEAMBABDwCAgQh4AAAMRMADAGAgAh4AAAMR8AAAGIiABwDAQAQ8AAAGIuABADAQAQ8AgIEIeAAADETAAwBgIAIeAAADEfAAABiIgAcAwEAEPAAABiLgAQAwEAEPAICBCHgAAAxEwAMAYCACHgAAAxHwAAAYiIAHAMBAQa8L4DHX6wIAAHzH8roAjUANHgAAAxHwAAAYiIAHAMBABDwAAAYi4AEAMBABDwCAgQh4AAAMRMADAGAgAh4AAAMR8AAAGIiABwDAQAQ8AAAGIuABADAQAQ8AgIEIeAAADETAAwBgIAIeAAADEfAAABiIgAcAwEAEPAAABiLgAQAwEAEPAICBCHgAAAxEwAMAYCACHgAAAxHwAAAYiIAHAMBABDwAAAYi4AEAMBABDwCAgQh4AAAMRMADAGAgAh4AAAMR8AAAGIiABwDAQAQ8AAAGIuABADAQAQ8AgIEIeAAADETAAwBgIAIeAAADEfAAABiIgAcAwEAEPAAABiLgAQAwEAEPAICBCHgAAAxEwAMAYCACHgAAAxHwAAAYiIAHAMBABDwAAAYi4AEAMBABDwCAgQh4AAAMRMADAGAgAh4AAAMR8AAAGIiABwDAQAQ8AAAGIuABADAQAQ8AgIEIeAAADETAAwBgIAIeAAADEfAAABiIgAcAwEBBrwsAwB8m9+/X8NatOjk0pPHdu5UdH5eby8kKBBTs6VHPBReo75JLtPBd71L3ypVeFxdABZbrul6XwUsdvfGA6zgafuYZvfHAA5p8/XW5uZzcbLbk8lYwKCsQUPe55+qcD39YC6+9VpZNQyCMY3ldgEYg4IEONXX4sHb+9V9rct8+Oclkza+3o1F1n3ee1v3VX6lr6dImlBDwDAFvgI7eeHSuw088od1f/rKcdFpynPpXZNuyw2FdcNddWvqrv9q4AgLeIuAN0NEbj8705kMP6bWvf11OKtWwddqRiFb9wR9o+X/9rw1bJ+AhIwKei2dABzn8H//R8HCXJCeV0mtf/7oOP/FEQ9cLoH7U4IEOMXX4sH76u79b1/X2atnRqK64/36uyaPdUYMH0B5cx9HOv/7rU9fcm8hJp7Xrc59Th1ccAF8g4IEOMPzMM5rct29+Heqq4Tia2LdPw88809z3AVARAQ90gDceeKCpTfPTOVNTeuNb32rJewEojYAHDDe5f78mX3+9te+5b58m9+9v6XsCmImABww3vHWr3Fyupe/pOo6Ob93a0vcEMBMBDxju5NBQ2eFnm8HNZjW6bVtL3xPATAQ8YLjx3bs76n0BnMJscoDhsuPjVS3nOI5c15WTv8XNsqTT/29JCgQCsqzqbw/Ojo3VWlQADUTAAwbLZDKaTKWUy2bl6NTITq7rKnc6uF3HkSxLjuueCW/LkiXJsiy5khzXVcCy5KZShdfbtn3qMcuS67oKuq5k2wrYtoLSqf82+5Y8AGUR8IABHMdRNptVOp1WJpNRNptVJpORJE04zqlrca4rnQ5lS6fC3gqeOgTY0wN+2rKWJPv041YgcCr4JTmn/516wlLGdSXXVdZxlDpdHtu2deTIEYVCIQWDQYXDYYXDYdlMLwu0BAEPtJlcLqdsNqtUKqVcLqd0Oq1cmV7ykZ4eZU6ePDUu87SQl86M1Tx93DlXOtU8rzPjdU6v4c94jevKtaw5oW27roI9PcrlcsrlcnJPv95xnELYB4NBhUKhwgkAgMbiVwW0gVQqpampKSWTSbmuW/g3+5p4sce6zztPJ4aGyl8/P11bl4oPwl3ylaev07vSzPVbluKrVhXKk3/Otm05jlPYDp1+nW3bikQi6urqUjQaLV1OAFUj4AGfSiaTSiaTmpqaKjq2e7HALvZY70UX6eSOHYVb5VxJ1umafOHvacvnm9eLKXYCkT85cHTmthwrGFTfRRcVwr1U+fOPO46jqakpTU1NybZthcNhxWIxRSKRmjr2ATiDgAd8JJlMKpFIKJ1OyzndSW16TTcvH7RFA3eWwXe8Q29+5ztys9kzYT7tNdPDXlLxcM832Rc7qci/TmdOFizb1sAVV8wo/+yyl1pfvoafPD20bldXl7q6urh+D9SIgAc85Lpuofl9amqq8Nj0mm+1NfVSy8aWL1dsxQpNvPpq/sVnXlNiXUXLqtJN9a7rFjrguZK6VqxQbPnyostWer/Z2zE5OampqSlZlqVoNErYA1XiFwJ4IJ1Oa2RkREeOHNHIyEgh3KUzAVjNlKvTg7BccC573/tkR6NzlrFqmNa13LKWZZ06cbAsBWIxLXv/+6teb9F16cz254PcdV1NTU3p+PHjOnLkiEZHR5Vt8Qh9QDsh4IEWSqVSOn78uIaHh5VMJgvN8MVMD/hyYV/NcoNXXqnYOedI02u9s5rmK3GrWda21b1ihRa8851VrTO//ZVaKaZvV75lI5FI6OjRoxoZGVG6yfPcA+3IqqaWYLCO3ni0TjKZ1MTEhKdBlDx6VEN33ll02tj8LW/lWgGmd6JzHUdWkSZyKxLRpf/jfyiyeHFDylwoXxV9DSKRiHp6ehQOhxv63uhIRvTspAYPNNHU1JRvapnRxYu16vbbZUcic56b3fGuGHt6Ldq255wd25GIzr/jjoaH+6miVT7eplIpDQ8Pa3h4WKlUquFlANoNNXigCRKJhCYmJuZ1jbhSrXV2b3THcaoKwoM/+IFe/+Y35Z4+4ajnNrR8p7o8KxLRyo98RGffdFNVZS+33mrLVOk9gsGgenp61NXVVXM50PGMqMET8ECDuK6ryclJTU5Olh1Zzg+O/PjH2ve1r8lJp6Uaxoyf05PetmWHw1p1++1a/O53N7qY5ctSJuCnPxcKhdTd3a1YLNbK4qG9EfAG6OiNR+MkEgmNjY0pl8u1dGCW+dSUU8eOafeXv6zEm2/KmdaLv1p2V5diK1bogjvvVNSDa+7VrEM60xoQCAQ0MDDANXpUg4A3QEdvPOYvm81qdHR0zvX1amuXXnNdVyPPP6+3vvtdJfbvPzUEbrnLCsGgbNtW7JxztOz979fglVf6YlvKXaKYPZJed3e3enp6uI8e5Xi/UzcAAQ/UaWJiQmMV5jyvNsxLjUxXapjXZkgcOKCRn/1MYzt3anzXLuVO1+qtQECBeFzx889X77p1Grz8csVWrGh4+Up9VvnpaRv5OQQCAfX39ytSpMMhIALeCB298ahPqVr7dH6qpdfj0GOPad83vqElmzbp/I99rPB4u2+XNHMbYrGYent7qc1jtvbeyU9jqFqgBtXU2qX6eqa3AxO2a/o2JBIJJZNJ9ff3M4sdjEPAA1VIp9MtHRq1WTXlqtd7egpYVdnC52XNvpaJd4pxHEcjIyPq6upSX18ftXkYg4AHKhgbG9PExETF5RoZcs0Ky6rXm58fvsrlvazZl5uZrtrX58e5T6VS6uvr4955GIGAB0rIZDI6ceJEodZeKcBNaL72u2a0FEzvh5SvzeevzQcCgYa+F9BKBDxQRCKR0MmTJwt/m9C5zATN/A6mT9Obr80PDAzQ0x5ti4tNwCxjY2MaHR09dU94DUOn+l2H3zFT0ezvOF+bTyQSHpUImB8CHphmdHR0xvV2k0LRy5OUYp9jsz7bUuut5v1mL+O6rkZHR6u6cwLwG5roAZ2prc2+t92Emns9CjFXQwiXu4xRab73RqqlDNUuk584aGBgoGP3CbQfavDoeNlsVsPDw55P5+onhQirIcy8Dr5aWgTqaT1IJpMaHh6WU8PkPICXCHh0tHQ6reHh4Zbd395ItTR71xq+hfXU2LRea3A2e5jbUuo9GclkMm27v6DzEPDoWIlEQsePHy/UyCoFVy3jyuc1s1ZbS7N3rUFaWE+NTeu1bm8rxg1o9LV+WnzQLgh4dKRSPeXL1YCrnVhletiY1EmvXTXqJGL2/fLDw8P0sIevEfDoOCdOnND4+Hjh79mzt/kFJwf+UmzfoIc9/IyAR0cZHR1VIpHwVZCjvU1MTGh0dNTrYgBzEPDoGBMTE20V7o0sJ60BjTX7u0kkEtTk4TsEPDpCIw/AlYKXMG1/9XzH+RNIwC8IeBgvmUw2tAm1UoA3qid7IzXyNrmiyzWJl1PQ1mN0dFTJZLLBpQHqQ8DDaOl0WiMjIzW/rhnBVW1Y+aEFoNxtckWXa5J2HFTmxIkT3EIHXyDgYaxsNjsn3KsNTz/Mb16NWm/bq2HFNS5e++A3xcZ9n/5Yu87g57quRkZGGAwHniPgYSTHcWYMYpPX7OlGq3msnmVKqXXgnRpW3LBy1Ds+fb0nOvV8D41uNSm1/wGtRMDDOPmDay6Xq2r5WmqY5dQ7oUo7Dozjt3JWOjGo9D3Mfr4Rw/HmcjnGroenCHgY58SJE8pkMoW/KwV1/uBe6vFSfzdDuzRJN6Ocftr2Rg3HW+wyEdAqBDyMcuLECaVSqbLLzGc6UTSX31oGGiGdTjMQDjxBwMMYiURCU1NTcx7v5OBut8D003fVyM8ukUjMGB4ZaAUCHkZwHMeTkcQaGQJe3pqHueb72c3+PsfHx7l9Di1FwMMIo6OjZTszNSvoGrneZpSx3Wrw7SA/s2A1y8124sQJOt2hZQh4tL1EIlFx9LBG9IpuR51eg6/3e6/0XL37TC6XY8x6tAwBj7aWzWbnfcDs1BAst93VDlU7X14OdduonvK1quaEFGgEAh5trVLTfLvwohWh3HtOH6q2VI11PjXZOe/TYUzZb+FvBDza1sTEhC87LeVDb/Z/y2n0YDeNPGEodc253LXoagcPqvR4KdWOVlfLd9BKNNWjFQh4tKVsNuvb247yoTf7v7W+vhFl8EqtYw004jMq91jds+mpeXc30FSPZiPg0ZZGR0d9VyuDf9W6r9Q7Jv7s96z0Wprq0UwEPNrOxMREydHqCH0U40WLhnW6/0JesX3TcRxGuUPTEPBoK/mmeYabRbspNaFNMpksOgIjMF8EPNrK2NjYvGvp1PLhB9MnOaKpHs1AwKNtpNPphnRKopYPP8k35fu10yjaFwGPtsEBEO2s0rTFk5OT1OLRUAQ82kI6na44DexsNMXDT2a3HBVrSeLeeDQSAY+2UE/tvdFN8a0+YeAExTyVvtNEIkEtHg1DwMP36qm9N0Orr93TV6C8dvx8qikztXg0CgEP3/PztXe/DStby3uWHcbVdeWe/u9836cRqh2a1gTU4tEoBDx8rVG192rDoJrlpi/TrsPKTh9Hvuj7W5as0/+d7/s0wnxGk2s3rutSi0dDEPDwtYmJiYasp9qAqGa5dmwa7lTN+K5aMcUttXg0AgEP3yp133s71spgjkbM/Me1eLQCAQ/fml57J9ThR424dFBq304kEsrlcnWtH5AIePhUJpOZUXtvxOxenYaTIv+a3smx3P7s5w6m8D8CHr6USCS8LkLb40TIv6Z3ciyHWjzmg4CHL5WaXcuUWqkp24Hm42QX9SLg4TvJZLJkD+JaaqV+DlETatd+/nxbqZGfQ7H9gqlkUS8CHr5Taca4Rt7yZqpWhG8nf77TNfJzKPa9ZbNZZbPZhr0HOgcBD19xXbdiwFNzrIzwNQvN9KgHAQ9fSaVSbTXABycbaLRi+1Slk16gGAIevtJuNZVKNeVWnQA0/H1cd8Y49Pnburw8oan03qaMV19sn8pms0qn0x6UBu2MgIdvOI7ji1nj8hoRDq1qKm/41LiWdWoc+mn3ald7a1ezVHrvYs+bdKmCWjxqRcDDN5LJpK9qXCaFQ60KW+6Dz8BP+0Q5zS5nu7VuwXsEPHyDGkrrtEtoSu1zolVPOWv5HhzHoZkeNSHg4Qt+a543XbuEpulq/R6oxaMWBDx8oVzzfDvVNoFGye/308esp5ULtSDg4Qvlau/UNtEsfj55zO/3+f+6rqtcLkfIo2oEPHyB5nl4od1OHi3LYuhaVI2Ah+ccx/F1TQrzw3fbWJlMxusioE0Q8PBcOp0mBAzWbrVkv8tms2012iO8Q8DDc9z6g3I4+ZuLyWdQDQIenmtGk6PXo66V04rAMikU/fo91qNR3wsnxagGAQ/PNSPgy42b7nX4+WX8+rJlOP3PUvnPUqq/vNW8znVdowK+UdtCwKMaBDw85ThOQ68nVhMatR5k651kpd7ga0QIzHcd1ul/riq3htT7XtW8zrKs9p2wp4lookc1CHh4qtE1kUbVkKYf7Ott7m/W0KWNWqbs6/P/GhR67VALb4eWlTw62qEaBDw81eiALzVlaK21cK8CqdpabSOWKfv6/L8mnDC1q2o/i1btO9TiUQkBD0/Vcv293uZ3P0x12momBGpeu21LLeWdPRxtLa/lOjwqIeDhqVoCvpMCer5M+qxM2pbZZg9HO3tbS7VISQQ8KiPg4ZliHezarbYGNFOpFimJJnpURsDDM5lMZk6gz6e2xskBms1P+xgd7VAJAQ/P5HK5hja/mtyUC3/w2z5GLR7lEPDwDLUP+IGfauW1IuBRDgEPz7TzgRXm8FutvBacJKMcAh6e8XPA+7lsQB4Bj3IIeHjGzwendq7VoXP4+TcE7xHw8EwzDk7tMPLa9HXX+v+l1lPN4zUtU8fof+XW36ix/E1qWeEkEs1GwMMzzQj4dhg7ffq6a/3/UuuZ/Xilz6Hi9s1z9L/Zr2vUWP7NGN/fq1kHa11/seWpwaMcAh6eacYUpDiF2uEZlT6LUqPH+e0zLFYeAh7lEPDwTLkQZ8CbuVq5Xa7rNnQ2uXbit2Avh4BHOQQ8PNOsg1M7HaBr0crtsiyrobPJobT5nEQR8CiHgIdnyh2cCBa0q1oDm30dzULAwxPTw9303tLtyAqFJEn26f+ieq0MbGrwKCfodQHQmQhwf1tw1VU6dOiQDi5bpsjBgzr77LO9LhJKcBxHtk1dDXOxV8AT0wPej02UnX4CcuzkSf14ZETPDw3p3/7t33Tw4EHPytLp30Ul1OJRCgEPT/j9oOTHk45WOnDggHK5nFzXVS6X04EDBzwrS6d/F5VwAoRSCHh4wnEcDkw+tmLFCgUCAVmWpUAgoBUrVnhdJJTACRBKsTr8INvRG++ldDqt4eFhr4vhCdd12+KgfPDgQR04cEArVqzgGryPLV26lGvwjef/H2gVCHh4IpvN6ujRoyWfb5cQbHeNHLWN78wbnHw1hRE7Mqd98IRt200bya4d1HJiXc3EM/Waz3jzxdY1XaUJZ2r9ezYTKif1TsqTX46aO8ph74AnbNtuSog3cp3NDJBaylnNxDN+VGnCmVr/rrT+dlTvpDz55Qh4lMPeAc804+BUaw2o3HMmBAiaI79vFKuBt7JlgYBHOewd8IyXB6dy4V3sOROagztdI6Znnf1csRp4uUsVjd6PCHiUw94Bz/j94NSswXg4WfBGrd9hM/omNLpVyO+/IXiLvQOeqebg1MzaTyXNaqKn6b82nXRCVOu2EvAoh70Dnqnm4NSuHczQOJ30vRdr3s+HfrHwJ+BRDnsHPOP3g1Mn1RzhT9Ov6VuWNacTn99/Q/AWs8nBM34/OHVSzRHtYfY+6fffELzF3gHPcHBqHlofOgO/IZTD3gHP+P3g1M4hSetDZwgGaYRFaf4+wsJofj84EZLws2Aw6PuTZHiLvQOeCQaDJUO0nWvPrVLPwC2N/FxrHSue73R+Zv9W/H6CDO8R8PBUKBQq+rhfas9ehlKl9y73GRV7bSMnlqn0/sWer+e9q/n8TZyUpliZZz8WDodbVRy0KQIenvL7QcrLE435vLdfTpDmq5rtqHdSGj8HfzXb7fffDrxHwMNT4XDY1wdamGs+J0GtnlSmGJroUQkBD0+Fw+GyNax6D6LVNHHWux6g0Zc7akUHO1SDPQSesm275IGq3EG0UoAXe109B+T86GHtph3LXIwp25HXqO2heR7VIODhuXoOVo0K8Hrfq1XqDYRWlLkV4VvvSZlfNapsBDyqQcDDcxysSuuEsCrH1Msq850lkevvqAYBD89xsEIpfj7BmY9at4tb5FAPAh6eoyc9OlmttwIS7qgWAQ/P2bZdcsAbwES1nNDOXpbfCqpFwMMXqJWglbxuMaqliX72spFIpNHFgaEIePhCNBr1ugjoIO16bd+2bX4rqBoBD1+IRCK+HrjDcZymrLfaoGnUwD3VvI/XtVuUFovFvC4C2oh/j6joKJZl+bpmUuvJR7UhWe1y9dz3X09Qez1CWyu08wmMn38j8B8CHr4RjUZ9cfBtRBn8EJJ+KIMf1ToLXz2PN0MwGKSvCmpCwMM3otGoAoFAw9bXyGFu/XDigeYrtc9U83iz95Gurq6mrh/mIeDhK428xpg/4M4eT76e5m5qw6gkv480qx8DAY9aEfDwlVqvMVZzIHVdd95TgzYLLQPtq9R314x+DOFwmBEfUTMCHr5S6UA2+6Daipr1fIcVLbdcK5t40djPuJH7XqVy0bkO9SDg4TuzD2aVmtf9ptoyzl6uFa0MXp1E+OXkxa/7z+xyzb4tk9vjUA8CHr4z+2Dm14Oyn9R7UtEqfIe1mX5bZjQa9fUYEfAv9hr4TjAYrGq8bb/UCoFmonke9SLg4UvV9BimVuitTj3BauV2MzQt5oOAhy91dXU1JcA7NZSaoVNPsFq53d3d3TTPo27sOfClQCCg7u7uhgdyO4bSfD6DakZg89v4834qi5ds21Z3d7fXxUAbI+DhW/F4vO0Cud5wKred8/kMqhmBrdnjz9f6mbTbd95I07c9Ho9Te8e8sPfAt2zbVjwe97oYRZUb5KSR6zOBXwPbj595vky2bXNrHOaNgIeveV2LaXSQo7xWhm6t32Erv3Ov93uYgT0Ivtasmsx8pmlF8/j58640SVGjcO0djULAw/eaUZtpVJA08gDvxybjTldpZsFq9qNav9fe3l5fn+igfRDw8L1S1+L9EIiNPBBzUG+dWof2nc9wybUsHwwGufaOhiHg0RZisdicWvzsaWDROs363Oe73mZdemnVyZdfO5WiPRHwaAulavHUer3RrM99vutt5/2B2jsajYBH28iP6tXo2iOtAPADau9oNAIebcOyrKYMftPOtT6Ygdo7moGAR1uJx+MKBoNeF8OXauk41ozhb1G/wcFBr4sAAxHwaDv9/f1eF6Eor4OvljnhmzH8bS2KfVad0pKS3/b89vb29nLSiqYg4NF2wuGwLzvczX5/rwPfzyrdXz4f7fK5u65bcl8GGoGAR1vq7e1VOBz2uhhleX3C0alq+dy9OBnIl8+2bd+2RsEMBDzaVn9//4yDeSOGEvXb1KlorkYPVFTL+miaR7MR8GhbwWBQfX19ZZepZ0CT+R70/XiC4Mcy+VUtn9X0ZSudHE5/LhqN0mseTUfAo63FYjFFo9Gyy7Q63PzYNO/HMvlVLZ9VPcvSNI9WIeDR9vr7+8tORtPscKN2jFpU2l+BRmEvQ9vzukZE7Xh+6j1BapfPffr2xePxii1OQKMQ8DBC/pomtenq+eWzqjeo/VL+SvLbFwwG1dvb63Fp0EkIeBhjeq/kdjn4t0onDyzjB5ZlMVodWo6AhzFs29bAwEBDesI3SjNONOpZZzWfh9cnRV6/fzMNDAxwSxxajoCHUcLhsAYGBrwuRkEzRmzz61StjX7/Zs3tPl+1fn/9/f1cd4cnCHgYJxqNNqXTXaNqzl4Habuo9nOq9771elVTrunjzHO/O7xCwMNIsVisaIem2Qf4Wg749QSzyc3O8+XlMLGz/7/RXNdVPB5nnHl4ioCHsYodYGcf1KutYZsQ1H7bBq9bMpp5e16pE0yglQh4GK2eJtL8gX96AHgdRo3gp23w8mRjvu9dqRWoWZeIgFoR8DBevZ2c6g1EPwWpX3k53n+jv5/p6wuHw9wOB98g4NERBgcHFQ6HK04G0oiaZafNa+4FP55EBYNBwh2+QsCjYwwODioUCpV83k/3z0uND7F6TmD8NoysX6bznV2GYDCohQsXMsY8fMXyw4/FQx298Z3IcRwNDw8rm816XRQYIl9zZyAbo/jnTH8eON1ER7Ftm4PxafOtDc+eC73Y/9e7vnYRDoe1cOFC9if4EjV4dCTHcXTixAmlUqmyy7mu66tme/hHLBajt7y5jPjRE/DoaKOjo0okErIsq6Gd4zgpMFtvby+D2JjNiB8wAY+Ol0gkNDo66nUx0ALzPfmybZux5TsDAW+Ajt54nJFKpXTixAk5jlNx2UbW9tEc04O8llCf/t3Ofl0gENCCBQu43t4ZCHgDdPTGY6ZsNquRkRHje9i30yUEv5Q1P4ANt8F1DO93ugYg4IFpHMfRyMiI0un0vNdVLJxK1f79EmSV1FvOVmxfLe9Ry7JdXV2+moIYLeH/H2MVCHigiHznO6l0GPgttPywXlPkP5+enh719PR4XRy0nhE/DgIeKCGRSOjkyZNGXm/PB1irauR+OKGopQx0put4BLwBOnrjUVk6ndbY2FhDmuxrUakjX/65/PC6Hf47bqj8VK9cb+9oBLwBOnrjUb2JiQmNj48XRn/zujY6mx/L1Cz5ba3mxKaWzyUYDKq/v1/hcLgRxUR7M+LHRMADVcpmsxobG1MymRjqvkgAACAASURBVCw81knB2myN+iyrWc/skwOutWMWI37UBDxQo2QyqdHRUeVyuZJBUilk/HRi4KeyVKOa8pZaZnawh8Nh9ff3c287ZmufH0QZBDxQB8dxNDY2VuhpX0m7hWi7qbUfgm3b6unpUXd3dxNLhTZmxI+VgAfmIZ1Oa3R0tOLgOOUC3nVd2bZNR7kmmX3HQDQaVX9/P53oUA4Bb4CO3ng0zsTEhMbGxup+vd9q+MXKU+14APO9Ba+a96wHt76hBv75Mc4DAQ80SC6X0/j4eNXN9o02/da5Rp8wzHd9s1/vOE5Ta9Cz349b31AjAt4AHb3xaA7HcTQ5OanJycmyHfFwSq01/lpONqLRqOLxOLe+oVZG/GgJeKBJXNfV1NSUJiYmCtfoi3UGm17zzv/d6KAzQaWOdNNPErq6uhSPx+kd3wR33HGHurq6tHjxYj300EN65ZVXFIlE9M53vlNf+MIXtH79eq+L2AhG/LBorwKaxLIsxWIxLV68WIODgwqHw0XDPT9oy/TXVbt+k1RT2agU8PF4XEuWLOHWtyZxXVcPP/ywbrnlFj399NP6+Mc/rq1bt+rJJ59UMBjU9ddfr5GREa+LidOowQMtlE6nNTExURgsp9bZ5Sr1xq/3vvxmakSLRP5zKrZMIBBQd3e3YrEY19jnYd26ddq1a1fR5z772c/qnnvu0QsvvKBNmzbpyJEjc06gJiYm1NfXpy1btujmm29uRZGbyYizZ34NQAvl5xVftGiRurq6ZjTLT1cu6Eqp9blSJ/fVDP9a7bLF3rvUayoNDDR9GcuyFAqF1N/fryVLligejxPu87RlyxZJ0qOPPqpDhw7p4MGDisViuu+++3T33XcXlrnpppuKto6Mj4/LcRym1vURfhGAB0KhkAYGBrR48WL19PQoEAjMa331tMTVcxIx/flyrQz1lK/ak4VoNFo4SYrFYhVfg+ocOXJElmXp2muv1dKlSzU5OalEIqFrrrlGXV1dkqTvfe97et/73lf09Zs3b9Yll1yiq666qpXFRhlcpAI8lB9RraenR8lkUslkUqlUSrlcrrBMOw17K9V/glBqaNl8p7lIJKJIJOKrbTXJtm3btGrVKsXjcUnS0NCQYrGYVq9eLUnas2ePXnvtNd14441zXnvXXXfp2Wef1bPPPjvvk1U0DgEP+EQ0Gi0MwpLNZgthn0ql5iw7/dp9sUFmqlXPyUGxjoGVlArvUusOh8OKRqMKh8Pc4tYi27dv14YNGwp/Dw0Naf369YVLH1u2bNF11103Z3jfO++8Uw8++KCeeuoprVq1qqVlRnkEPOBDwWBQ8Xhc8XhcjuMUavfpdFqO48y4d3x6SNca1rV25KvnPSq9f/79IpFI4SSH6+mtt337dm3atKnw99DQkDZu3Fj4+3vf+54++tGPznjN5s2b9eCDD+rpp5/WmjVrWlZWVIeAB3zOtm3FYrHC9eZ8zT6dTiuTyVQM6WJDyUpnwnX2OPjVBPjszoGWZclxnDlN7qVuC3RdV6FQqFBLp+ndW47jaMeOHYXOdJK0d+/ewvX0Y8eO6bnnntN3vvOdwvOf+MQn9M1vflNbtmzRwMCADh8+LEmFE1N4j9vkgDbmOI6y2awymYyy2Wzh//O1fKm2oWtnh/LsVoJqb8WbfgJg27ZCoZCCwaCCwaACgYDC4TC1dB959dVXdcEFF2jPnj06//zzJUkf/OAH9fjjj+vb3/62Dh06pG984xvaunVr4TWl9oP8LXVtzoizTQIeMFQul1Mmk1Eul1M2m1Uul1M6nS4Edj588+PC52vgtm0rl8spGAwWWgimX3PPLzf9ZCAf3KFQSLZtF8KcwWbMcMstt+jqq6/WJz/5Sa+L0ipGBDy/PsBQgUCgZI/mfM3fdV05jlOo8TuOI+lMbTx/e5R0pke7bduFf+XeA+a4+uqr9eEPf9jrYqBG1OABAJjJiBo8F8EAADAQTfQAgBlSTkIn0gc1nh1WIjuqqdy4cm5WfXZYcrMK2d2KBvvUFRhUT/gsdQUHvS4yiiDgAaDDjWaGtTsxpL1TO5VzkhpJvFh0uZXBRUpnj815/Oyui9Vn2eqNXqiB2EbFI6u47dEHuAYPAB1oMjemF8d+rG0TW/VW6rXC472BAXXnThR9TamAXx5do1zy5cLf4cCgFsTfoaW971V35JzGF775jDg7IeABoIMcSL2hx0cf0WR2REemdhRdZqUdV9qZmPt4iYBfEV6hbPrAnMdjobO1ONCj/v6b1N19RTvV6tumoOXQRA8AHeBo5oj+/fi39cLEf8qVq95An+Ky5cqZs2xXaJHSqbkBX5ylbPpI0WfigR4lk6/o8OFXFA6v1IIFv6Xu7rfPYytQCwIeAAyWcTP6/shDeuzEw8oqW3h8LHdS50ZW61hqz9wXWV1zHyshHlosZeYGfMDukp3cV/g7nd6vQ4e+qFjsEi1a9N8UCi2qbUNQM26TAwBDvZbcr3889DU9fGLLjHDPO+lmir5uyk1X/R4xu6/o4/3hlZLmrieRGNLRg1/XyUM/rPo9UB9q8ABgoMdHn9I3h7+jnHK6KLpBe5Pb5iyzP71fFwYXayx7dMbjo9kRxap8n7BlK1fk8VB2pOjywcAiTb35sqacl5QYfUlLLvhD2YFole+GWlCDBwCDZN2cvnb0m/rn4W8rdzp696QOaSBQvEk8WOQe9pO5EYWs6maEs5zEnMd6wudKs04aTi8teyIqOadaDiaHn9ebQ3+pTHJuxz3MHwEPAIZIO2n93aF/0lNjP5nxeMpNKxxYrGKdw/em9iuo8JzHu6q6Rm4pV6SDXcwq3jgcDaxRenRmb/t04oDeHPpLpSffrOL9UAsCHgAMkHYyun/4EW1L7Cr6/P70Wzo/umHO40l3SoPRVXMet+zKzebdwUVylZrxWDjQL027rz4vGFik5MEiHfok5TKjOvbqvyh1cu6tdqgf98EDQJvLuY7+7tADGkrs0YXRs/VK8kUVO7xFrLAGA9KJWc3nS0NnycocKvwdD/Tp0vjVGrC7tKxrneLBQQWskEJWQDknpYyT0PHkbmVyE0pMbNVU5lDh/RZG1yqYnH2SYSk8tXxO7b1Qrthqpfa9pkC4R8vf+98Vii+dz8fRCEbcB0/AA0Cb+8bRR/TDsZ8X/i4X8ivDy3QkvXPOc1dE1+mCrjW6qu9GRewu5dycwnZYtlV8OmDXdZRzM7LkyFJAw5Mv6ODoY4pnhiXn5Ixlo4G1Sr5ZvGUhH+46PVVxqOdsLb/ucwqEu2v4BBqOgDdAR288gPb3w5M/1zeOPTLn8XIhf1F0ZaFX/eroBbqp/zd0cfdGua6rkD33enw1HDcnuTlls0d14sT3NT7+E0k5BQOLlD04WuhYN93scM+LnfV2nXXNJ70c+Y6AN0BHbzyA9nYgdVR//ubXlXGL3ahWOuTDVljLg1H9+uDNuqz7HQpZIdlW47pkOU5S2exxHT78j9JJt2jTfKlwz1uw4VYNrLm5YWWqkREBTyc7AGhDOdfRd0/8TBm3eEBK0ivJg7oweqlm59WartX6i+X36PLuKxWxIw0Nd0my7ahCobO0fPnn1d3zDmlWM3+lcJekif3/qdQwne7mgxo8ALShLSO/0IMjP9U54QElnMMaLjGwjHSmJm9Jum3hB/Vfet+liB1pSTmdXFKZ5DEdfOlzymXGKoa7FQgrEjtfyVd3KbJktZZ/8K9lNfgEpApG1OAJeABoMyPZSd25/9tKuaeGnw1bAa2K9Ojl5MsqdVhbG12mG/ou0du7L1a0ReGe5zpZZdOjOrb7fiV2/6JkuId7z5FzJKHs6HDhscW/+ofqXfeeVhU1z4iAp4keANrMv4/8vBDukpR2c3o5Oapzwmu1oMjIdJak6/uu1GXdG1se7pJk2UEFwwNavPq/KRDqmft8IKxofI3Su9+YEe6SNPKf/6/cbPEx81EeAQ8AbeRoZlxPj+0u+twb6RMaz3VrTXTtjMc/suAGXdZ9ocJ2qBVFLMqyA7IjPVr23ntkBc6UI9x7jgKTvUq++nLRxofsxHGd3PGjFpbUHAQ8ALSRx0ZfUq7IHO55aTerl5OjWhlepwXBQa2JnqPr+y5TtM7b3xrJDoQU7BrUgotvPVVr71l7qtZ+Yrjs60Z/8ajcMp0JURwBDwBtIuVktT+V0znhsyouuz99QimnT39y1m8p4oNwz7ODEfWe/17FYpcouXtXxZ5Qge5BBcMLlNg9dzY8lMd0sQDQJp6bOKSdyVFJ0pLg+RoIuno9+aaSReZdl6TfWnC5wpZ3zfKl2IGwFl7zUSX2/kJurtj1dUuRhefKnbKUfu015dwRjeVi6r7w7S0vazujBg8AbWLrxFuF/z+STejl5JRkLdaa6IVaMqtz3fLwgK7tuUAR25/1uEA0rv7Lfn3GY3YkrujitQqkB5XasU/pva8VaviTu7fJSc6dmhalEfAA0AamnKx2JOZeq066Ob2cHNORbETnhN+mt0VWypatm/ouVrD1949XzQ5F1H/Jr0mWrdDAckX7LpDzVlLJ7buUGzk+9wW5rCZfGWp9QduYf799AEDBjsQx5SpcsH4jPaFXU2ktDJyra3repoCPA16SrGBYvef/qjK73lTyld1SNlt2+QQBXxN/f/sAAEnSrqnSI9XNtrF7ccWTAT+wQxH1rL+66uWnXi8+Ix2KI+ABoA1MOgGdG16orio6zf0f/ecpWsW196efflqWZWl4uPxtas0UOftcBXoHyi8UCCi08GwFuxcoO36y/LIoIOABwOdc19XzE5N6PR1U0l2ghcFz9LbIuVobXaFzw4sUs87cBheUrSWhM3Op33bbbbIsS5ZlKRQKadWqVfrTP/1TTU5OerEpc7i5rKLLzz/zQCCo0MKzFV2+RtElaxQKL5MOW8q8dFDJn76s9P79Zdd377336rzzzlM0GtVll12mZ555pslb4F/+7F4JACgYyWWUPD3QiytpOJvWcOFydUDSoBYEQxoMBrUiFFbWdWZ0sLv++uv1zW9+U5lMRs8884w+9rGPaXJyUh/60IdavSlz2OGoutdeqdzwuHIj48ocOqLMmweV0cGiy6cPHVRs/Yaiz33729/W5s2bde+99+qaa67Rvffeq02bNmnnzp0655xzmrkZvkQNHgBabN26dYVa9ex/99xzz5zlj2eK3+c+Y5lsRq8mp2RZYc2eKyUSiWjp0qVasWKFfvu3f1u33nqrtmzZUnh+27ZtuvLKKxWLxXT55ZfrxRdfPLPe48f14Q9/WMuXL1dXV5cuuugi3X///TPW/+Mf/1jvfOc7FY/H1dfXpyuvvFI7duwoPL9161a95z3vUSwW07Jly/SHf/iHGhsbkyRZtq1Q72Ilt72izIGDUrb43PZ52eOlLyd8+ctf1m233abf//3f19q1a/WVr3xFZ511lr761a9W/PxMRMADQIvlw/XRRx/VoUOHdPDgQcViMd133326++675yw/WnQwmOIuiMYVtQNll+nq6lImc2adn/70p/W3f/u3evHFF7VgwQLdeuutys80mkwmdemll+qRRx7RL3/5S23evFm33367fvSjU+PDZ7NZ3XLLLbrmmmu0bds2Pf/889q8ebMCgVNleOmll3TDDTfoN37jN7Rt2zY99NBDGhoa0u/93u8V3j+8fEXV25cbK34NPp1O6+c//7luuOGGGY/fcMMN2rp1a9XrNwlN9ADQYkeOHJFlWbr22msVj8e1Z88eJRIJXXPNNerq6pqz/IRT/vax6QaD5TvhvfDCC/rWt76l6667rvDY5z73Of3Kr/yKJOmv/uqvdM011+itt97S8uXLtWzZMv3Zn/1ZYdk/+IM/0JNPPqkHHnhA1113ncbGxjQ6Oqqbb75Z559/6lr6mjVrCsv/3d/9nT70oQ/pT/7kTwqPffWrX9Xb3/52HT16VIsXL5ZdZJtLyZXoOzA8PKxcLqclS5bMeHzJkiX64Q9/WPX6TUINHgBabNu2bVq1apXi8bgkaWhoSLFYTKtXry66fNat/pa3cJF73x9//HHF43FFo1FdddVVeve7362vfOUrhec3bDhzTfvss8+WJB09elSSlMvl9PnPf14bNmzQggULFI/H9dBDD+mNN96QJA0ODuq2227TjTfeqJtuuklf/vKXdeDAgcL6fv7zn+tf//VfFY/HC/+uvvrUrXF79+49tZDrSoHyrQ55bq78yY5lzbw84brunMc6BTV4AGix7du3zwjVoaEhrV+/XrZdvM5l5yIKp+bO8150WXfuYf3d7363vv71rysUCunss89WKHSqlr9z505JKvwtnQlIxznVqe9LX/qS/v7v/17/+I//qIsvvljxeFx//ud/XjgBkKT7779ff/zHf6zHH39c3//+9/UXf/EX2rJli2688UY5jqOPfexjuvPOO+eUa9myZWfe110iOeWvv0uSlesr+vjChQsVCAR0+PDhGY8fPXp0Tq2+UxDwANBi27dv16ZNmwp/Dw0NaePGjSWXtyWlq6zFJ525y5VrHajk2Wef1c0336zf+Z3fkXSqRrx792719/fPWG7jxo3auHGj7r77bm3atEn/8i//ohtvvFGXXnqpfvnLX5Z/f8uSm5iqq3x54XBYl112mZ544gl94AMfKDz+xBNP6Dd/8zfnte52RRM9ALSQ4zjasWPHjBr83r17tXLlypKv6a6y+VqSTlbohV6rCy64QD/60Y/07LPP6uWXX9Yf/dEfad++fYXn9+3bp0996lPaunWr9u/fr6eeekrbt2/XunXrJEl33323XnjhBd1xxx36xS9+oT179uiRRx7R7bffXliHm6p8l0BeoDtW8rm77rpL//zP/6xvfOMb2rVrlzZv3qyDBw/qjjvuqGPL2x81eABoob1792pycnJGwF988cX64he/qEsvvXRGzT6vP1h9wO9OJHVFb7ciJZr7a/WZz3xG+/bt06ZNm9TV1aXbbrtNt956a6F5PxaLaffu3frABz6g4eFhLVmyRLfeemvhboANGzboxz/+sT7zmc/oPe95j3K5nFatWqX3v//9hfdIv3mo6vIE+npKPvehD31Ix48f19/8zd/o0KFDWr9+vR599NGyJ08ms9waOm8YqKM3HkB7OJbO6P/eXX4Ety5ZWmKFtDoS1UfOXahosD0aaF3H0fh/DunkY08qe/y4cidGyy6/8P/6P9X/a9eVXaYBjOiVRw0eAHxuQSioiGUpdbpCFpOlRVZIMcdWNu3qRCKn48msXldab9kZ3bZqkcclrp6TTGvyhT1K7ZmUFJXVvVLhxd2yopbcTFLZkRHlRk4Ulg+d1Zkd5upBwAOAz9mWpXeEu3V4LKuRRFbHk1ntV/Hr1hnH1XAyo6WxcNHn/cYKBJTae2ZYWncypdS+1LQlIrLi5yi0MC67y1bk3OoHxel07dGGAwAdLpYL6NWRpI4nKw9688SBMaVyTgtKNX/pQ8PKDpefIc6dSCv9+ogyR1IKDhS/TQ5zEfAA0AbW9EerXnbroTHZbXAZ2UllNPajFysveFrXms7sLFcvAh4A2sDFC2KyK2T24lBQa+yokoddvfDGhHJF7on3EzfnauzJQ4qsukCRVculCiPOxS6p717+TkXAA0AbiIcCWts/d8x2W9LqcEQr02EdPZDVyweTmsq4+sHOUWV9HPBOOquxJ3ZKOUep18aVei2nwOC5iq5dLTteZGz6gK3ut7+t9QVtYwQ8ALSJq5bGC//fH7C1NhhVz2hAe95Iaf/IzE53r42k9PMDk0r79Fq8k8xoZMsvZjyWO55UcteknOSgohdcqPDyxYXnYuvPU6Cn9CA3mIte9ADQJt61tEdP7xuTEtK+IymNusmyy/+v54/pkrNjClc/Tk5LOOmcjv2vn8idKjENbtZRcveYpIBCZ69WoNdR73sva2kZTUANHgDaRCxo69xQRHuOppSr0Pq+NBpU72RA//PhI0pl/FOLd9I5TTx3UIntaUUvXFZx+czBSWWO2uq+/MIWlM4sBDwAtJFNa/vL9kWzJa2NRTX8RlYHj2c09FpCz708oWTa+5B3c46cibSO3b9DbiKn5CuOwuefp0Bf+fng+2+8SFaAuKoVnxgAtJFlfWFdfW686HNLo0EtTYe0a29S0+ec+drjR/XKW0llst6FvOu4chIZvfnZn8idOnMvf3pvUk5mgaIXnF30dYG+LvXdeFGrimkUAh4A2swHNy5QaNo9c7aktd1nau2zOa703aeO65XXkkqmWh/yp2ruWR375z3KDs+dFtZN5JTc7Spy/nkK9M6szQ/+5qWyo6E5r0FlBDwAtJnFPSH92rpT87EviQZ1ViakXXtm1tqnWz0Q0as7U/rC1w5qaNdkS0PeSeWUPZHRgT/fpYmfTCl6wbKSU7mk9ibl5AYLtfnwOYPqvW5ty8pqGmaTA4A2lM45+qf/OKKf75wsGezSqXDf90pKuWnLXH1pXL//wcUKBiwFg80b8c7JOBp/eljD33xT7rQ+ANELbSV3v1X2CBx5W5cWfnSDulYvLr1Q8/h/GMAqUIMHgDYUDtj69Y0DcspUxouFuyQ9NzShz3/+Le3cOaVksvG1eSflKHMiq/3/z1saffTojHCXpOQrTtmavCTF1i/3KtyNQQ0eANrY954/oQf+v+NzHi8V7pK0dnFUu7aduof+0ktjev/7B3TuuRFZ1vxq9LmUIyfhaPgHoxr5j5Ny066iZ9nS0RGpSDlK1eSjawa17C+v8rLnvBE1eAIeANrc//z+YW19eaLwd7lwXzYQ0uFXMnOeu/7ymNZs6NY73tMjxzk1LHwkWj5gcxlHTtpVIGLrxK4pvfHoqCJ7knLGZ9bYe9dJ6Z2jRdcxO+SDC7u0/G+uVbA/UnnDm4eAN0BHbzwAM6Szjv7m2we1+61k2XAP2NIiJ6TDh2b2tF+6KChrOCvXlWxbWnx2WFe8s1uD/UEtvzCq7r6g7KAUsC3lMq6ySUfH96WUGc7qxPMTGn89pVzq1OH0nLVRZXbNHGHPsl3Fl6SUOVR85L18yNtdQS377NWKrOxtzAdTPwLeAB298QDMkUjl9I2Hj+n55yaKhrskrVsc1c5tc0P2HWuieuPlmY9fsjaqI7OCevXioCaPnrmHfWBJUNEjM+en714QUO9Ibm6z+1mWdHRUpYbg61of1IIPrVT0bQOlNrGVjAh4OtkBgAFikYA+dtMirVpevGl72UBIr+yYG+6RsHT0jfScx91U5frP6NGs7PDMLJw8nlP4vLllSB5yFb6gr+h67O6AFnxotV/C3RgEPAAYItYV0Gc+vkxXXNw94/FgQMqOuEVr9uvOiyqZmNuTfmI4O3fhWVxXii6ZOwhNosTy46+4Cp0VnVm2RWEt/+9rFH1b8dH5UD8CHgAMEgnbuut3l+o3bxgojFn/tgVRHTlcPLCz43NTv7/PVmKszM3109jdc2Pk2GspBQfnTmHnOpYy6pICpwrWdVGPVnx+rcLLy49Fj/owXSwAGMayLH1g0wKtWdWl7z46opd/Wrxz23nLQzr25tyhbRctDGri5Nxm+2LSJVry3SUhaWTuSULykKvei/oVXx/TwC1LZdlGXO72JQIeAAx18YUxnb8iom/1HNePfjSm2X2qF8UCekNzA747bGtizqPFjZ/MqthV/6MH0loYsuRmZr5p1/kRLf7oYkXP8fQ2uI5AL3oA6AD79iX1v//3ce3YcWqyl564pb6UlM3MPQxuPD+io3tTcx6f3YtekixbOjtgySmynpUXRJXefar1ILQwqMUfHFT/tT2yys136w++L2A1CHgA6CC//GVCjzwyqmDS0YFdxZvuz+8LKHFybvN6sYCXpPOXh5V4c26T/sDysPocVwt+rV/9/6VXdhPHvW+wtiloOTTRA0AHueiimC66KKZjh9N67qkxvfiTCZ2Y1mO+r88uGu7l2PGZHe0CXZYWXdqtZb/Sq4GLutqhxm4kavAA0OHe3JfSzqFJ7dk5pVDW1UiJmn2pGvzKNVFFUq76L4xq4caYBtfHZIfaOtTbuvB5BDwAoMB1XZ08mtXxt9IaO57VxGhWyXFH2ayrwcipTnPhblvR3qC6FwTVszSkvuVhBdqn+b0aRmwMAQ8AwExGBDwD3QAAYCACHgAAAxHwANCB/umf/kkbNmxQb2+vent7ddVVV+kHP/hBXeu64447dOedd+oLX/iCrrjiCvX29mrRokW6+eabtWPHjgaXHNUi4AGgAy1fvlxf/OIX9eKLL+pnP/uZ3vve9+p973uftm/fXtN6XNfVww8/rFtuuUVPP/20Pv7xj2vr1q168sknFQwGdf3112tkZKRJW4Fy6GQHAJAkDQ4O6gtf+IJuv/12rVu3Trt27Sq63Gc/+1ndc889kqQXXnhBmzZt0pEjRxQMzhxaZWJiQn19fdqyZYtuvvnmZhe/kehkBwBof7lcTg8++KAmJib0rne9S5K0ZcsWSdKjjz6qQ4cO6eDBg4rFYrrvvvt09913F167ZcsW3XTTTXPCXZLGx8flOI4GBpjn3QsEPAB0qJdeeknxeFyRSER33HGHvvvd7+riiy+WJB05ckSWZenaa6/V0qVLNTk5qUQioWuuuUZdXWemd/3e976n973vfUXXv3nzZl1yySW66qqrWrI9mImhagGgQ1144YUaGhrS6Oio/v3f/10f/ehH9fTTT2v9+vXatm2bVq1apXg8LkkaGhpSLBbT6tWrC6/fs2ePXnvtNd14441z1n3XXXfp2Wef1bPPPqtAYO7c8Gg+Ah4AOlQ4HC4E9uWXX66f/vSn+od/+Afdd9992r59uzZs2FBYdmhoSOvXr5dtn2n43bJli6677jp1d3fPWO+dd96pBx98UE899ZRWrVrVmo3BHDTRAwAkSY7jKJU6NU3s9u3btXHjxsJzQ0NDM/6WijfPb968Wd/61rf05JNPas2aNc0vNEoi4AGgA33qU5/SM888o9dff10vR2kyGAAAAl1JREFUvfSSPv3pT+vpp5/WrbfeKsdxtGPHjhk1+L1792rlypWFv48dO6bnnntuRu/4T3ziE7r//vv1wAMPaGBgQIcPH9bhw4c1MTHR0m3DKQQ8AHSgw4cP6yMf+YguvPBCXXfddfrpT3+qxx57TJs2bdLevXs1OTk5I+AvvvhiffGLX9Rjjz0mSXr44Yd1xRVXaMmSJYVl7r33Xo2Pj+u6667TWWedVfj3pS99qeXbB+6D7+iNB4B63XLLLbr66qv1yU9+0uuiNAP3wQMAOtPVV1+tD3/4w14XA2VQgwcAYCZq8AAAwJ8IeAAADETAAwBgIAIeAAADEfAAABiIgAcAwECdPtmMEbdCAAAwGzV4AAAMRMADAGAgAh4AAAMR8AAAGIiABwDAQAQ8AAAGIuABADAQAQ8AgIEIeAAADETAAwBgIAIeAAADEfAAABiIgAcAwEAEPAAABiLgAQAwEAEPAICBCHgAAAxEwAMAYCACHgAAAxHwAAAYiIAHAMBABDwAAAYi4AEAMBABDwCAgQh4AAAMRMADAGAgAh4AAAMR8AAAGIiABwDAQAQ8AAAGIuABADAQAQ8AgIEIeAAADETAAwBgIAIeAAADEfAAABiIgAcAwEAEPAAABiLgAQAwEAEPAICBCHgAAAxEwAMAYCACHgAAAxHwAAAYiIAHAMBABDwAAAYi4AEAMBABDwCAgQh4AAAMRMADAGAgAh4AAAMR8AAAGIiABwDAQAQ8AAAGIuABADAQAQ8AgIEIeAAADETAAwBgIAIeAAADEfAAABiIgAcAwEAEPAAABvr/AcqwkyUcz05uAAAAAElFTkSuQmCC",
        "encoding": "base64",
        "path": [
         "value"
        ]
       }
      ],
      "model_module": "@jupyter-widgets/controls",
      "model_module_version": "1.5.0",
      "model_name": "ImageModel",
      "state": {
       "_dom_classes": [],
       "_model_module": "@jupyter-widgets/controls",
       "_model_module_version": "1.5.0",
       "_model_name": "ImageModel",
       "_view_count": null,
       "_view_module": "@jupyter-widgets/controls",
       "_view_module_version": "1.5.0",
       "_view_name": "ImageView",
       "format": "png",
       "height": "",
       "layout": "IPY_MODEL_3e56198990334699b677848c3bf8b35a",
       "value": {},
       "width": ""
      }
     },
     "690b4e946f484a54934fe0cf1719ae8c": {
      "model_module": "@jupyter-widgets/base",
      "model_module_version": "1.2.0",
      "model_name": "LayoutModel",
      "state": {
       "_model_module": "@jupyter-widgets/base",
       "_model_module_version": "1.2.0",
       "_model_name": "LayoutModel",
       "_view_count": null,
       "_view_module": "@jupyter-widgets/base",
       "_view_module_version": "1.2.0",
       "_view_name": "LayoutView",
       "align_content": null,
       "align_items": null,
       "align_self": null,
       "border": null,
       "bottom": null,
       "display": null,
       "flex": null,
       "flex_flow": null,
       "grid_area": null,
       "grid_auto_columns": null,
       "grid_auto_flow": null,
       "grid_auto_rows": null,
       "grid_column": null,
       "grid_gap": null,
       "grid_row": null,
       "grid_template_areas": null,
       "grid_template_columns": null,
       "grid_template_rows": null,
       "height": null,
       "justify_content": null,
       "justify_items": null,
       "left": null,
       "margin": null,
       "max_height": null,
       "max_width": null,
       "min_height": null,
       "min_width": null,
       "object_fit": null,
       "object_position": null,
       "order": null,
       "overflow": null,
       "overflow_x": null,
       "overflow_y": null,
       "padding": null,
       "right": null,
       "top": null,
       "visibility": null,
       "width": null
      }
     },
     "6996f8e6a1974f969d99152df4d02536": {
      "model_module": "@jupyter-widgets/base",
      "model_module_version": "1.2.0",
      "model_name": "LayoutModel",
      "state": {
       "_model_module": "@jupyter-widgets/base",
       "_model_module_version": "1.2.0",
       "_model_name": "LayoutModel",
       "_view_count": null,
       "_view_module": "@jupyter-widgets/base",
       "_view_module_version": "1.2.0",
       "_view_name": "LayoutView",
       "align_content": null,
       "align_items": null,
       "align_self": null,
       "border": null,
       "bottom": null,
       "display": null,
       "flex": null,
       "flex_flow": null,
       "grid_area": null,
       "grid_auto_columns": null,
       "grid_auto_flow": null,
       "grid_auto_rows": null,
       "grid_column": null,
       "grid_gap": null,
       "grid_row": null,
       "grid_template_areas": null,
       "grid_template_columns": null,
       "grid_template_rows": null,
       "height": "3em",
       "justify_content": null,
       "justify_items": null,
       "left": null,
       "margin": null,
       "max_height": null,
       "max_width": null,
       "min_height": null,
       "min_width": null,
       "object_fit": null,
       "object_position": null,
       "order": null,
       "overflow": null,
       "overflow_x": null,
       "overflow_y": null,
       "padding": null,
       "right": null,
       "top": null,
       "visibility": null,
       "width": "3em"
      }
     },
     "69bb0e94e5f14592993226bcf77ade99": {
      "model_module": "@jupyter-widgets/base",
      "model_module_version": "1.2.0",
      "model_name": "LayoutModel",
      "state": {
       "_model_module": "@jupyter-widgets/base",
       "_model_module_version": "1.2.0",
       "_model_name": "LayoutModel",
       "_view_count": null,
       "_view_module": "@jupyter-widgets/base",
       "_view_module_version": "1.2.0",
       "_view_name": "LayoutView",
       "align_content": null,
       "align_items": null,
       "align_self": null,
       "border": null,
       "bottom": null,
       "display": null,
       "flex": null,
       "flex_flow": null,
       "grid_area": null,
       "grid_auto_columns": null,
       "grid_auto_flow": null,
       "grid_auto_rows": null,
       "grid_column": null,
       "grid_gap": null,
       "grid_row": null,
       "grid_template_areas": null,
       "grid_template_columns": null,
       "grid_template_rows": null,
       "height": "3em",
       "justify_content": null,
       "justify_items": null,
       "left": null,
       "margin": null,
       "max_height": null,
       "max_width": null,
       "min_height": null,
       "min_width": null,
       "object_fit": null,
       "object_position": null,
       "order": null,
       "overflow": null,
       "overflow_x": null,
       "overflow_y": null,
       "padding": null,
       "right": null,
       "top": null,
       "visibility": null,
       "width": "3em"
      }
     },
     "6a99781c04d44d208be1d5e268036914": {
      "model_module": "@jupyter-widgets/controls",
      "model_module_version": "1.5.0",
      "model_name": "ButtonStyleModel",
      "state": {
       "_model_module": "@jupyter-widgets/controls",
       "_model_module_version": "1.5.0",
       "_model_name": "ButtonStyleModel",
       "_view_count": null,
       "_view_module": "@jupyter-widgets/base",
       "_view_module_version": "1.2.0",
       "_view_name": "StyleView",
       "button_color": null,
       "font_weight": ""
      }
     },
     "6d51a01d16af4929a94bc01fc0a203cd": {
      "model_module": "@jupyter-widgets/controls",
      "model_module_version": "1.5.0",
      "model_name": "ButtonModel",
      "state": {
       "_dom_classes": [],
       "_model_module": "@jupyter-widgets/controls",
       "_model_module_version": "1.5.0",
       "_model_name": "ButtonModel",
       "_view_count": null,
       "_view_module": "@jupyter-widgets/controls",
       "_view_module_version": "1.5.0",
       "_view_name": "ButtonView",
       "button_style": "",
       "description": "X",
       "disabled": false,
       "icon": "",
       "layout": "IPY_MODEL_dc35da65294c47ecaf8898664fc3e38b",
       "style": "IPY_MODEL_65977426710040bc9ddf0423cbd7b1b1",
       "tooltip": ""
      }
     },
     "6fa63d17eb1b4925945e0f0de837b201": {
      "model_module": "@jupyter-widgets/controls",
      "model_module_version": "1.5.0",
      "model_name": "HBoxModel",
      "state": {
       "_dom_classes": [],
       "_model_module": "@jupyter-widgets/controls",
       "_model_module_version": "1.5.0",
       "_model_name": "HBoxModel",
       "_view_count": null,
       "_view_module": "@jupyter-widgets/controls",
       "_view_module_version": "1.5.0",
       "_view_name": "HBoxView",
       "box_style": "",
       "children": [
        "IPY_MODEL_01532e2a834643828ea4fb7eefe07807",
        "IPY_MODEL_37b502a665a84884ac79156e847f3c44"
       ],
       "layout": "IPY_MODEL_b9afdd5d8bd4422baf8b6149f23127b1"
      }
     },
     "70de08b4dc3d446ebedbae70e2b527d7": {
      "model_module": "@jupyter-widgets/controls",
      "model_module_version": "1.5.0",
      "model_name": "ButtonModel",
      "state": {
       "_dom_classes": [],
       "_model_module": "@jupyter-widgets/controls",
       "_model_module_version": "1.5.0",
       "_model_name": "ButtonModel",
       "_view_count": null,
       "_view_module": "@jupyter-widgets/controls",
       "_view_module_version": "1.5.0",
       "_view_name": "ButtonView",
       "button_style": "",
       "description": "X",
       "disabled": false,
       "icon": "",
       "layout": "IPY_MODEL_9ef3f7635cc24f38af984140ceccf299",
       "style": "IPY_MODEL_b10ecd21ceab43649665689213f0efdd",
       "tooltip": ""
      }
     },
     "7115c7340483405a876c061e71a6a35f": {
      "model_module": "@jupyter-widgets/controls",
      "model_module_version": "1.5.0",
      "model_name": "FloatSliderModel",
      "state": {
       "_dom_classes": [],
       "_model_module": "@jupyter-widgets/controls",
       "_model_module_version": "1.5.0",
       "_model_name": "FloatSliderModel",
       "_view_count": null,
       "_view_module": "@jupyter-widgets/controls",
       "_view_module_version": "1.5.0",
       "_view_name": "FloatSliderView",
       "continuous_update": true,
       "description": "",
       "description_tooltip": null,
       "disabled": false,
       "layout": "IPY_MODEL_0c22f943218b48d6aa231421858a75c3",
       "max": 3.141592653589793,
       "min": -3.141592653589793,
       "orientation": "horizontal",
       "readout": true,
       "readout_format": ".2f",
       "step": 0.1,
       "style": "IPY_MODEL_e42f8dee8bcc42db96e6fdcfc6d98fdb",
       "value": 3.141592653589793
      }
     },
     "729ba03fa173412d82418b27771d7a04": {
      "model_module": "@jupyter-widgets/base",
      "model_module_version": "1.2.0",
      "model_name": "LayoutModel",
      "state": {
       "_model_module": "@jupyter-widgets/base",
       "_model_module_version": "1.2.0",
       "_model_name": "LayoutModel",
       "_view_count": null,
       "_view_module": "@jupyter-widgets/base",
       "_view_module_version": "1.2.0",
       "_view_name": "LayoutView",
       "align_content": null,
       "align_items": null,
       "align_self": null,
       "border": null,
       "bottom": null,
       "display": null,
       "flex": null,
       "flex_flow": null,
       "grid_area": null,
       "grid_auto_columns": null,
       "grid_auto_flow": null,
       "grid_auto_rows": null,
       "grid_column": null,
       "grid_gap": null,
       "grid_row": null,
       "grid_template_areas": null,
       "grid_template_columns": null,
       "grid_template_rows": null,
       "height": "3em",
       "justify_content": null,
       "justify_items": null,
       "left": null,
       "margin": null,
       "max_height": null,
       "max_width": null,
       "min_height": null,
       "min_width": null,
       "object_fit": null,
       "object_position": null,
       "order": null,
       "overflow": null,
       "overflow_x": null,
       "overflow_y": null,
       "padding": null,
       "right": null,
       "top": null,
       "visibility": null,
       "width": "6em"
      }
     },
     "7a9a9ffd99d540ac80cd32fd7c5d3e1d": {
      "model_module": "@jupyter-widgets/controls",
      "model_module_version": "1.5.0",
      "model_name": "ButtonModel",
      "state": {
       "_dom_classes": [],
       "_model_module": "@jupyter-widgets/controls",
       "_model_module_version": "1.5.0",
       "_model_name": "ButtonModel",
       "_view_count": null,
       "_view_module": "@jupyter-widgets/controls",
       "_view_module_version": "1.5.0",
       "_view_name": "ButtonView",
       "button_style": "",
       "description": "Reset",
       "disabled": false,
       "icon": "",
       "layout": "IPY_MODEL_19588833c4294b95a92fa1920e653e47",
       "style": "IPY_MODEL_90783660f87e43d9b446084e85480ad1",
       "tooltip": ""
      }
     },
     "85cedd3773114578a52b2d21e1d901c9": {
      "model_module": "@jupyter-widgets/base",
      "model_module_version": "1.2.0",
      "model_name": "LayoutModel",
      "state": {
       "_model_module": "@jupyter-widgets/base",
       "_model_module_version": "1.2.0",
       "_model_name": "LayoutModel",
       "_view_count": null,
       "_view_module": "@jupyter-widgets/base",
       "_view_module_version": "1.2.0",
       "_view_name": "LayoutView",
       "align_content": null,
       "align_items": null,
       "align_self": null,
       "border": null,
       "bottom": null,
       "display": null,
       "flex": null,
       "flex_flow": null,
       "grid_area": null,
       "grid_auto_columns": null,
       "grid_auto_flow": null,
       "grid_auto_rows": null,
       "grid_column": null,
       "grid_gap": null,
       "grid_row": null,
       "grid_template_areas": null,
       "grid_template_columns": null,
       "grid_template_rows": null,
       "height": null,
       "justify_content": null,
       "justify_items": null,
       "left": null,
       "margin": null,
       "max_height": null,
       "max_width": null,
       "min_height": null,
       "min_width": null,
       "object_fit": null,
       "object_position": null,
       "order": null,
       "overflow": null,
       "overflow_x": null,
       "overflow_y": null,
       "padding": null,
       "right": null,
       "top": null,
       "visibility": null,
       "width": null
      }
     },
     "88c15ef32aa9419c972f74d05acdba10": {
      "model_module": "@jupyter-widgets/base",
      "model_module_version": "1.2.0",
      "model_name": "LayoutModel",
      "state": {
       "_model_module": "@jupyter-widgets/base",
       "_model_module_version": "1.2.0",
       "_model_name": "LayoutModel",
       "_view_count": null,
       "_view_module": "@jupyter-widgets/base",
       "_view_module_version": "1.2.0",
       "_view_name": "LayoutView",
       "align_content": null,
       "align_items": null,
       "align_self": null,
       "border": null,
       "bottom": null,
       "display": null,
       "flex": null,
       "flex_flow": null,
       "grid_area": null,
       "grid_auto_columns": null,
       "grid_auto_flow": null,
       "grid_auto_rows": null,
       "grid_column": null,
       "grid_gap": null,
       "grid_row": null,
       "grid_template_areas": null,
       "grid_template_columns": null,
       "grid_template_rows": null,
       "height": "3em",
       "justify_content": null,
       "justify_items": null,
       "left": null,
       "margin": null,
       "max_height": null,
       "max_width": null,
       "min_height": null,
       "min_width": null,
       "object_fit": null,
       "object_position": null,
       "order": null,
       "overflow": null,
       "overflow_x": null,
       "overflow_y": null,
       "padding": null,
       "right": null,
       "top": null,
       "visibility": null,
       "width": "3em"
      }
     },
     "88d03fb4db9c4584ba47e92be05fabb9": {
      "model_module": "@jupyter-widgets/controls",
      "model_module_version": "1.5.0",
      "model_name": "ButtonModel",
      "state": {
       "_dom_classes": [],
       "_model_module": "@jupyter-widgets/controls",
       "_model_module_version": "1.5.0",
       "_model_name": "ButtonModel",
       "_view_count": null,
       "_view_module": "@jupyter-widgets/controls",
       "_view_module_version": "1.5.0",
       "_view_name": "ButtonView",
       "button_style": "",
       "description": "Y",
       "disabled": false,
       "icon": "",
       "layout": "IPY_MODEL_6996f8e6a1974f969d99152df4d02536",
       "style": "IPY_MODEL_f151e83c75a54ee8a5988d93dd4a27ef",
       "tooltip": ""
      }
     },
     "90783660f87e43d9b446084e85480ad1": {
      "model_module": "@jupyter-widgets/controls",
      "model_module_version": "1.5.0",
      "model_name": "ButtonStyleModel",
      "state": {
       "_model_module": "@jupyter-widgets/controls",
       "_model_module_version": "1.5.0",
       "_model_name": "ButtonStyleModel",
       "_view_count": null,
       "_view_module": "@jupyter-widgets/base",
       "_view_module_version": "1.2.0",
       "_view_name": "StyleView",
       "button_color": null,
       "font_weight": ""
      }
     },
     "912e973343c6447a8d36adb3744442a4": {
      "model_module": "@jupyter-widgets/base",
      "model_module_version": "1.2.0",
      "model_name": "LayoutModel",
      "state": {
       "_model_module": "@jupyter-widgets/base",
       "_model_module_version": "1.2.0",
       "_model_name": "LayoutModel",
       "_view_count": null,
       "_view_module": "@jupyter-widgets/base",
       "_view_module_version": "1.2.0",
       "_view_name": "LayoutView",
       "align_content": null,
       "align_items": null,
       "align_self": null,
       "border": null,
       "bottom": null,
       "display": null,
       "flex": null,
       "flex_flow": null,
       "grid_area": null,
       "grid_auto_columns": null,
       "grid_auto_flow": null,
       "grid_auto_rows": null,
       "grid_column": null,
       "grid_gap": null,
       "grid_row": null,
       "grid_template_areas": null,
       "grid_template_columns": null,
       "grid_template_rows": null,
       "height": "3em",
       "justify_content": null,
       "justify_items": null,
       "left": null,
       "margin": null,
       "max_height": null,
       "max_width": null,
       "min_height": null,
       "min_width": null,
       "object_fit": null,
       "object_position": null,
       "order": null,
       "overflow": null,
       "overflow_x": null,
       "overflow_y": null,
       "padding": null,
       "right": null,
       "top": null,
       "visibility": null,
       "width": "3em"
      }
     },
     "92ac4d6043b049b390ccb95bdc435420": {
      "model_module": "@jupyter-widgets/base",
      "model_module_version": "1.2.0",
      "model_name": "LayoutModel",
      "state": {
       "_model_module": "@jupyter-widgets/base",
       "_model_module_version": "1.2.0",
       "_model_name": "LayoutModel",
       "_view_count": null,
       "_view_module": "@jupyter-widgets/base",
       "_view_module_version": "1.2.0",
       "_view_name": "LayoutView",
       "align_content": null,
       "align_items": null,
       "align_self": null,
       "border": null,
       "bottom": null,
       "display": null,
       "flex": null,
       "flex_flow": null,
       "grid_area": null,
       "grid_auto_columns": null,
       "grid_auto_flow": null,
       "grid_auto_rows": null,
       "grid_column": null,
       "grid_gap": null,
       "grid_row": null,
       "grid_template_areas": null,
       "grid_template_columns": null,
       "grid_template_rows": null,
       "height": null,
       "justify_content": null,
       "justify_items": null,
       "left": null,
       "margin": null,
       "max_height": null,
       "max_width": null,
       "min_height": null,
       "min_width": null,
       "object_fit": null,
       "object_position": null,
       "order": null,
       "overflow": null,
       "overflow_x": null,
       "overflow_y": null,
       "padding": null,
       "right": null,
       "top": null,
       "visibility": null,
       "width": null
      }
     },
     "932257aea4454530b8a920f71d53112c": {
      "model_module": "@jupyter-widgets/controls",
      "model_module_version": "1.5.0",
      "model_name": "ButtonModel",
      "state": {
       "_dom_classes": [],
       "_model_module": "@jupyter-widgets/controls",
       "_model_module_version": "1.5.0",
       "_model_name": "ButtonModel",
       "_view_count": null,
       "_view_module": "@jupyter-widgets/controls",
       "_view_module_version": "1.5.0",
       "_view_name": "ButtonView",
       "button_style": "",
       "description": "Tdg",
       "disabled": false,
       "icon": "",
       "layout": "IPY_MODEL_912e973343c6447a8d36adb3744442a4",
       "style": "IPY_MODEL_9ecbee8de4f244338686e4c70e43d420",
       "tooltip": ""
      }
     },
     "94a63b848b644f10b20f092d0d695a68": {
      "model_module": "@jupyter-widgets/base",
      "model_module_version": "1.2.0",
      "model_name": "LayoutModel",
      "state": {
       "_model_module": "@jupyter-widgets/base",
       "_model_module_version": "1.2.0",
       "_model_name": "LayoutModel",
       "_view_count": null,
       "_view_module": "@jupyter-widgets/base",
       "_view_module_version": "1.2.0",
       "_view_name": "LayoutView",
       "align_content": null,
       "align_items": null,
       "align_self": null,
       "border": null,
       "bottom": null,
       "display": null,
       "flex": null,
       "flex_flow": null,
       "grid_area": null,
       "grid_auto_columns": null,
       "grid_auto_flow": null,
       "grid_auto_rows": null,
       "grid_column": null,
       "grid_gap": null,
       "grid_row": null,
       "grid_template_areas": null,
       "grid_template_columns": null,
       "grid_template_rows": null,
       "height": null,
       "justify_content": null,
       "justify_items": null,
       "left": null,
       "margin": null,
       "max_height": null,
       "max_width": null,
       "min_height": null,
       "min_width": null,
       "object_fit": null,
       "object_position": null,
       "order": null,
       "overflow": null,
       "overflow_x": null,
       "overflow_y": null,
       "padding": null,
       "right": null,
       "top": null,
       "visibility": null,
       "width": null
      }
     },
     "99b4e42dcd62481fa30a99eb6dab06b7": {
      "model_module": "@jupyter-widgets/controls",
      "model_module_version": "1.5.0",
      "model_name": "HBoxModel",
      "state": {
       "_dom_classes": [],
       "_model_module": "@jupyter-widgets/controls",
       "_model_module_version": "1.5.0",
       "_model_name": "HBoxModel",
       "_view_count": null,
       "_view_module": "@jupyter-widgets/controls",
       "_view_module_version": "1.5.0",
       "_view_name": "HBoxView",
       "box_style": "",
       "children": [
        "IPY_MODEL_d496605237414ff48b718e9b9a7c4293",
        "IPY_MODEL_7115c7340483405a876c061e71a6a35f"
       ],
       "layout": "IPY_MODEL_10005774ec04456bb0064eabcf7dd32c"
      }
     },
     "9ac795dabd60449784b36077a8291296": {
      "model_module": "@jupyter-widgets/controls",
      "model_module_version": "1.5.0",
      "model_name": "ButtonModel",
      "state": {
       "_dom_classes": [],
       "_model_module": "@jupyter-widgets/controls",
       "_model_module_version": "1.5.0",
       "_model_name": "ButtonModel",
       "_view_count": null,
       "_view_module": "@jupyter-widgets/controls",
       "_view_module_version": "1.5.0",
       "_view_name": "ButtonView",
       "button_style": "",
       "description": "Sdg",
       "disabled": false,
       "icon": "",
       "layout": "IPY_MODEL_56736dd2ce8f45ba8ebe6c65ac295680",
       "style": "IPY_MODEL_0854aeb36aad46a8b8d2a8ae1ef12999",
       "tooltip": ""
      }
     },
     "9d6ff0bc519f4b23a7767a78a513aa37": {
      "model_module": "@jupyter-widgets/controls",
      "model_module_version": "1.5.0",
      "model_name": "ButtonStyleModel",
      "state": {
       "_model_module": "@jupyter-widgets/controls",
       "_model_module_version": "1.5.0",
       "_model_name": "ButtonStyleModel",
       "_view_count": null,
       "_view_module": "@jupyter-widgets/base",
       "_view_module_version": "1.2.0",
       "_view_name": "StyleView",
       "button_color": null,
       "font_weight": ""
      }
     },
     "9ecbee8de4f244338686e4c70e43d420": {
      "model_module": "@jupyter-widgets/controls",
      "model_module_version": "1.5.0",
      "model_name": "ButtonStyleModel",
      "state": {
       "_model_module": "@jupyter-widgets/controls",
       "_model_module_version": "1.5.0",
       "_model_name": "ButtonStyleModel",
       "_view_count": null,
       "_view_module": "@jupyter-widgets/base",
       "_view_module_version": "1.2.0",
       "_view_name": "StyleView",
       "button_color": null,
       "font_weight": ""
      }
     },
     "9ef3f7635cc24f38af984140ceccf299": {
      "model_module": "@jupyter-widgets/base",
      "model_module_version": "1.2.0",
      "model_name": "LayoutModel",
      "state": {
       "_model_module": "@jupyter-widgets/base",
       "_model_module_version": "1.2.0",
       "_model_name": "LayoutModel",
       "_view_count": null,
       "_view_module": "@jupyter-widgets/base",
       "_view_module_version": "1.2.0",
       "_view_name": "LayoutView",
       "align_content": null,
       "align_items": null,
       "align_self": null,
       "border": null,
       "bottom": null,
       "display": null,
       "flex": null,
       "flex_flow": null,
       "grid_area": null,
       "grid_auto_columns": null,
       "grid_auto_flow": null,
       "grid_auto_rows": null,
       "grid_column": null,
       "grid_gap": null,
       "grid_row": null,
       "grid_template_areas": null,
       "grid_template_columns": null,
       "grid_template_rows": null,
       "height": "3em",
       "justify_content": null,
       "justify_items": null,
       "left": null,
       "margin": null,
       "max_height": null,
       "max_width": null,
       "min_height": null,
       "min_width": null,
       "object_fit": null,
       "object_position": null,
       "order": null,
       "overflow": null,
       "overflow_x": null,
       "overflow_y": null,
       "padding": null,
       "right": null,
       "top": null,
       "visibility": null,
       "width": "3em"
      }
     },
     "a27d732cd04a446387af5c31b6eccd0f": {
      "model_module": "@jupyter-widgets/controls",
      "model_module_version": "1.5.0",
      "model_name": "ButtonModel",
      "state": {
       "_dom_classes": [],
       "_model_module": "@jupyter-widgets/controls",
       "_model_module_version": "1.5.0",
       "_model_name": "ButtonModel",
       "_view_count": null,
       "_view_module": "@jupyter-widgets/controls",
       "_view_module_version": "1.5.0",
       "_view_name": "ButtonView",
       "button_style": "",
       "description": "H",
       "disabled": false,
       "icon": "",
       "layout": "IPY_MODEL_10914e7434b24a65ac9222d111a494af",
       "style": "IPY_MODEL_bd7b1c7719ff4ff1adc8495ed6cc7e89",
       "tooltip": ""
      }
     },
     "a2bb99cc0471487896cfb0956429c658": {
      "model_module": "@jupyter-widgets/controls",
      "model_module_version": "1.5.0",
      "model_name": "ButtonModel",
      "state": {
       "_dom_classes": [],
       "_model_module": "@jupyter-widgets/controls",
       "_model_module_version": "1.5.0",
       "_model_name": "ButtonModel",
       "_view_count": null,
       "_view_module": "@jupyter-widgets/controls",
       "_view_module_version": "1.5.0",
       "_view_name": "ButtonView",
       "button_style": "",
       "description": "Z",
       "disabled": false,
       "icon": "",
       "layout": "IPY_MODEL_2c7a7e93fbdc4eaab03eff53ce57599f",
       "style": "IPY_MODEL_e61daad9bb5343389c9c62732264bf72",
       "tooltip": ""
      }
     },
     "a64fc9f744814285bffb4edd1c106d21": {
      "model_module": "@jupyter-widgets/base",
      "model_module_version": "1.2.0",
      "model_name": "LayoutModel",
      "state": {
       "_model_module": "@jupyter-widgets/base",
       "_model_module_version": "1.2.0",
       "_model_name": "LayoutModel",
       "_view_count": null,
       "_view_module": "@jupyter-widgets/base",
       "_view_module_version": "1.2.0",
       "_view_name": "LayoutView",
       "align_content": null,
       "align_items": null,
       "align_self": null,
       "border": null,
       "bottom": null,
       "display": null,
       "flex": null,
       "flex_flow": null,
       "grid_area": null,
       "grid_auto_columns": null,
       "grid_auto_flow": null,
       "grid_auto_rows": null,
       "grid_column": null,
       "grid_gap": null,
       "grid_row": null,
       "grid_template_areas": null,
       "grid_template_columns": null,
       "grid_template_rows": null,
       "height": null,
       "justify_content": null,
       "justify_items": null,
       "left": null,
       "margin": null,
       "max_height": null,
       "max_width": null,
       "min_height": null,
       "min_width": null,
       "object_fit": null,
       "object_position": null,
       "order": null,
       "overflow": null,
       "overflow_x": null,
       "overflow_y": null,
       "padding": null,
       "right": null,
       "top": null,
       "visibility": null,
       "width": null
      }
     },
     "b10ecd21ceab43649665689213f0efdd": {
      "model_module": "@jupyter-widgets/controls",
      "model_module_version": "1.5.0",
      "model_name": "ButtonStyleModel",
      "state": {
       "_model_module": "@jupyter-widgets/controls",
       "_model_module_version": "1.5.0",
       "_model_name": "ButtonStyleModel",
       "_view_count": null,
       "_view_module": "@jupyter-widgets/base",
       "_view_module_version": "1.2.0",
       "_view_name": "StyleView",
       "button_color": null,
       "font_weight": ""
      }
     },
     "b4d20fc8f49a4f21806f9d7b0644bb8a": {
      "model_module": "@jupyter-widgets/base",
      "model_module_version": "1.2.0",
      "model_name": "LayoutModel",
      "state": {
       "_model_module": "@jupyter-widgets/base",
       "_model_module_version": "1.2.0",
       "_model_name": "LayoutModel",
       "_view_count": null,
       "_view_module": "@jupyter-widgets/base",
       "_view_module_version": "1.2.0",
       "_view_name": "LayoutView",
       "align_content": null,
       "align_items": null,
       "align_self": null,
       "border": null,
       "bottom": null,
       "display": null,
       "flex": null,
       "flex_flow": null,
       "grid_area": null,
       "grid_auto_columns": null,
       "grid_auto_flow": null,
       "grid_auto_rows": null,
       "grid_column": null,
       "grid_gap": null,
       "grid_row": null,
       "grid_template_areas": null,
       "grid_template_columns": null,
       "grid_template_rows": null,
       "height": "3em",
       "justify_content": null,
       "justify_items": null,
       "left": null,
       "margin": null,
       "max_height": null,
       "max_width": null,
       "min_height": null,
       "min_width": null,
       "object_fit": null,
       "object_position": null,
       "order": null,
       "overflow": null,
       "overflow_x": null,
       "overflow_y": null,
       "padding": null,
       "right": null,
       "top": null,
       "visibility": null,
       "width": "3em"
      }
     },
     "b726c978dd3143dcaa60fd8038e81017": {
      "model_module": "@jupyter-widgets/controls",
      "model_module_version": "1.5.0",
      "model_name": "ButtonStyleModel",
      "state": {
       "_model_module": "@jupyter-widgets/controls",
       "_model_module_version": "1.5.0",
       "_model_name": "ButtonStyleModel",
       "_view_count": null,
       "_view_module": "@jupyter-widgets/base",
       "_view_module_version": "1.2.0",
       "_view_name": "StyleView",
       "button_color": null,
       "font_weight": ""
      }
     },
     "b9afdd5d8bd4422baf8b6149f23127b1": {
      "model_module": "@jupyter-widgets/base",
      "model_module_version": "1.2.0",
      "model_name": "LayoutModel",
      "state": {
       "_model_module": "@jupyter-widgets/base",
       "_model_module_version": "1.2.0",
       "_model_name": "LayoutModel",
       "_view_count": null,
       "_view_module": "@jupyter-widgets/base",
       "_view_module_version": "1.2.0",
       "_view_name": "LayoutView",
       "align_content": null,
       "align_items": null,
       "align_self": null,
       "border": null,
       "bottom": null,
       "display": null,
       "flex": null,
       "flex_flow": null,
       "grid_area": null,
       "grid_auto_columns": null,
       "grid_auto_flow": null,
       "grid_auto_rows": null,
       "grid_column": null,
       "grid_gap": null,
       "grid_row": null,
       "grid_template_areas": null,
       "grid_template_columns": null,
       "grid_template_rows": null,
       "height": null,
       "justify_content": null,
       "justify_items": null,
       "left": null,
       "margin": null,
       "max_height": null,
       "max_width": null,
       "min_height": null,
       "min_width": null,
       "object_fit": null,
       "object_position": null,
       "order": null,
       "overflow": null,
       "overflow_x": null,
       "overflow_y": null,
       "padding": null,
       "right": null,
       "top": null,
       "visibility": null,
       "width": null
      }
     },
     "bc61f2ca9a214015bf8dce127f0419be": {
      "model_module": "@jupyter-widgets/base",
      "model_module_version": "1.2.0",
      "model_name": "LayoutModel",
      "state": {
       "_model_module": "@jupyter-widgets/base",
       "_model_module_version": "1.2.0",
       "_model_name": "LayoutModel",
       "_view_count": null,
       "_view_module": "@jupyter-widgets/base",
       "_view_module_version": "1.2.0",
       "_view_name": "LayoutView",
       "align_content": null,
       "align_items": null,
       "align_self": null,
       "border": null,
       "bottom": null,
       "display": null,
       "flex": null,
       "flex_flow": null,
       "grid_area": null,
       "grid_auto_columns": null,
       "grid_auto_flow": null,
       "grid_auto_rows": null,
       "grid_column": null,
       "grid_gap": null,
       "grid_row": null,
       "grid_template_areas": null,
       "grid_template_columns": null,
       "grid_template_rows": null,
       "height": "3em",
       "justify_content": null,
       "justify_items": null,
       "left": null,
       "margin": null,
       "max_height": null,
       "max_width": null,
       "min_height": null,
       "min_width": null,
       "object_fit": null,
       "object_position": null,
       "order": null,
       "overflow": null,
       "overflow_x": null,
       "overflow_y": null,
       "padding": null,
       "right": null,
       "top": null,
       "visibility": null,
       "width": "3em"
      }
     },
     "bd7b1c7719ff4ff1adc8495ed6cc7e89": {
      "model_module": "@jupyter-widgets/controls",
      "model_module_version": "1.5.0",
      "model_name": "ButtonStyleModel",
      "state": {
       "_model_module": "@jupyter-widgets/controls",
       "_model_module_version": "1.5.0",
       "_model_name": "ButtonStyleModel",
       "_view_count": null,
       "_view_module": "@jupyter-widgets/base",
       "_view_module_version": "1.2.0",
       "_view_name": "StyleView",
       "button_color": null,
       "font_weight": ""
      }
     },
     "c0d01dbbc4ac4bf7adc8cddc260c286b": {
      "model_module": "@jupyter-widgets/controls",
      "model_module_version": "1.5.0",
      "model_name": "ButtonModel",
      "state": {
       "_dom_classes": [],
       "_model_module": "@jupyter-widgets/controls",
       "_model_module_version": "1.5.0",
       "_model_name": "ButtonModel",
       "_view_count": null,
       "_view_module": "@jupyter-widgets/controls",
       "_view_module_version": "1.5.0",
       "_view_name": "ButtonView",
       "button_style": "",
       "description": "Y",
       "disabled": false,
       "icon": "",
       "layout": "IPY_MODEL_21c899af66ec44f289e4cb9be2222ca6",
       "style": "IPY_MODEL_d0a4b4c5763846769fb284654a50daac",
       "tooltip": ""
      }
     },
     "c150eb7fe75044ad91c31ba46905f32b": {
      "model_module": "@jupyter-widgets/controls",
      "model_module_version": "1.5.0",
      "model_name": "ButtonStyleModel",
      "state": {
       "_model_module": "@jupyter-widgets/controls",
       "_model_module_version": "1.5.0",
       "_model_name": "ButtonStyleModel",
       "_view_count": null,
       "_view_module": "@jupyter-widgets/base",
       "_view_module_version": "1.2.0",
       "_view_name": "StyleView",
       "button_color": null,
       "font_weight": ""
      }
     },
     "c5ad054c237b453f8b137b539c3fcede": {
      "model_module": "@jupyter-widgets/controls",
      "model_module_version": "1.5.0",
      "model_name": "ButtonModel",
      "state": {
       "_dom_classes": [],
       "_model_module": "@jupyter-widgets/controls",
       "_model_module_version": "1.5.0",
       "_model_name": "ButtonModel",
       "_view_count": null,
       "_view_module": "@jupyter-widgets/controls",
       "_view_module_version": "1.5.0",
       "_view_name": "ButtonView",
       "button_style": "",
       "description": "Z",
       "disabled": false,
       "icon": "",
       "layout": "IPY_MODEL_268da620795e4225a9cabb4af6115d3e",
       "style": "IPY_MODEL_2b2fa4398727412994eaf46073f2075b",
       "tooltip": ""
      }
     },
     "c71e87eba7ff431f8a9f8cde61024f9b": {
      "model_module": "@jupyter-widgets/base",
      "model_module_version": "1.2.0",
      "model_name": "LayoutModel",
      "state": {
       "_model_module": "@jupyter-widgets/base",
       "_model_module_version": "1.2.0",
       "_model_name": "LayoutModel",
       "_view_count": null,
       "_view_module": "@jupyter-widgets/base",
       "_view_module_version": "1.2.0",
       "_view_name": "LayoutView",
       "align_content": null,
       "align_items": null,
       "align_self": null,
       "border": null,
       "bottom": null,
       "display": null,
       "flex": null,
       "flex_flow": null,
       "grid_area": null,
       "grid_auto_columns": null,
       "grid_auto_flow": null,
       "grid_auto_rows": null,
       "grid_column": null,
       "grid_gap": null,
       "grid_row": null,
       "grid_template_areas": null,
       "grid_template_columns": null,
       "grid_template_rows": null,
       "height": "3em",
       "justify_content": null,
       "justify_items": null,
       "left": null,
       "margin": null,
       "max_height": null,
       "max_width": null,
       "min_height": null,
       "min_width": null,
       "object_fit": null,
       "object_position": null,
       "order": null,
       "overflow": null,
       "overflow_x": null,
       "overflow_y": null,
       "padding": null,
       "right": null,
       "top": null,
       "visibility": null,
       "width": "3em"
      }
     },
     "c7c19147f97a4a1fbca6639d702924fd": {
      "model_module": "@jupyter-widgets/base",
      "model_module_version": "1.2.0",
      "model_name": "LayoutModel",
      "state": {
       "_model_module": "@jupyter-widgets/base",
       "_model_module_version": "1.2.0",
       "_model_name": "LayoutModel",
       "_view_count": null,
       "_view_module": "@jupyter-widgets/base",
       "_view_module_version": "1.2.0",
       "_view_name": "LayoutView",
       "align_content": null,
       "align_items": null,
       "align_self": null,
       "border": null,
       "bottom": null,
       "display": null,
       "flex": null,
       "flex_flow": null,
       "grid_area": null,
       "grid_auto_columns": null,
       "grid_auto_flow": null,
       "grid_auto_rows": null,
       "grid_column": null,
       "grid_gap": null,
       "grid_row": null,
       "grid_template_areas": null,
       "grid_template_columns": null,
       "grid_template_rows": null,
       "height": "3em",
       "justify_content": null,
       "justify_items": null,
       "left": null,
       "margin": null,
       "max_height": null,
       "max_width": null,
       "min_height": null,
       "min_width": null,
       "object_fit": null,
       "object_position": null,
       "order": null,
       "overflow": null,
       "overflow_x": null,
       "overflow_y": null,
       "padding": null,
       "right": null,
       "top": null,
       "visibility": null,
       "width": "3em"
      }
     },
     "c8bedfb44bc544098ab1b27620597adf": {
      "model_module": "@jupyter-widgets/controls",
      "model_module_version": "1.5.0",
      "model_name": "ButtonStyleModel",
      "state": {
       "_model_module": "@jupyter-widgets/controls",
       "_model_module_version": "1.5.0",
       "_model_name": "ButtonStyleModel",
       "_view_count": null,
       "_view_module": "@jupyter-widgets/base",
       "_view_module_version": "1.2.0",
       "_view_name": "StyleView",
       "button_color": null,
       "font_weight": ""
      }
     },
     "d0a4b4c5763846769fb284654a50daac": {
      "model_module": "@jupyter-widgets/controls",
      "model_module_version": "1.5.0",
      "model_name": "ButtonStyleModel",
      "state": {
       "_model_module": "@jupyter-widgets/controls",
       "_model_module_version": "1.5.0",
       "_model_name": "ButtonStyleModel",
       "_view_count": null,
       "_view_module": "@jupyter-widgets/base",
       "_view_module_version": "1.2.0",
       "_view_name": "StyleView",
       "button_color": null,
       "font_weight": ""
      }
     },
     "d10be60b2400477a942eabef56b07420": {
      "model_module": "@jupyter-widgets/base",
      "model_module_version": "1.2.0",
      "model_name": "LayoutModel",
      "state": {
       "_model_module": "@jupyter-widgets/base",
       "_model_module_version": "1.2.0",
       "_model_name": "LayoutModel",
       "_view_count": null,
       "_view_module": "@jupyter-widgets/base",
       "_view_module_version": "1.2.0",
       "_view_name": "LayoutView",
       "align_content": null,
       "align_items": null,
       "align_self": null,
       "border": null,
       "bottom": null,
       "display": null,
       "flex": null,
       "flex_flow": null,
       "grid_area": null,
       "grid_auto_columns": null,
       "grid_auto_flow": null,
       "grid_auto_rows": null,
       "grid_column": null,
       "grid_gap": null,
       "grid_row": null,
       "grid_template_areas": null,
       "grid_template_columns": null,
       "grid_template_rows": null,
       "height": "3em",
       "justify_content": null,
       "justify_items": null,
       "left": null,
       "margin": null,
       "max_height": null,
       "max_width": null,
       "min_height": null,
       "min_width": null,
       "object_fit": null,
       "object_position": null,
       "order": null,
       "overflow": null,
       "overflow_x": null,
       "overflow_y": null,
       "padding": null,
       "right": null,
       "top": null,
       "visibility": null,
       "width": "6em"
      }
     },
     "d11e4cef9ec541e289121d0bd6dd4cfd": {
      "model_module": "@jupyter-widgets/controls",
      "model_module_version": "1.5.0",
      "model_name": "ButtonStyleModel",
      "state": {
       "_model_module": "@jupyter-widgets/controls",
       "_model_module_version": "1.5.0",
       "_model_name": "ButtonStyleModel",
       "_view_count": null,
       "_view_module": "@jupyter-widgets/base",
       "_view_module_version": "1.2.0",
       "_view_name": "StyleView",
       "button_color": null,
       "font_weight": ""
      }
     },
     "d1e279912e9341e489de75cc582be46b": {
      "model_module": "@jupyter-widgets/controls",
      "model_module_version": "1.5.0",
      "model_name": "ButtonStyleModel",
      "state": {
       "_model_module": "@jupyter-widgets/controls",
       "_model_module_version": "1.5.0",
       "_model_name": "ButtonStyleModel",
       "_view_count": null,
       "_view_module": "@jupyter-widgets/base",
       "_view_module_version": "1.2.0",
       "_view_name": "StyleView",
       "button_color": null,
       "font_weight": ""
      }
     },
     "d44d593370384121a6a9f404a50750d3": {
      "model_module": "@jupyter-widgets/controls",
      "model_module_version": "1.5.0",
      "model_name": "ButtonModel",
      "state": {
       "_dom_classes": [],
       "_model_module": "@jupyter-widgets/controls",
       "_model_module_version": "1.5.0",
       "_model_name": "ButtonModel",
       "_view_count": null,
       "_view_module": "@jupyter-widgets/controls",
       "_view_module_version": "1.5.0",
       "_view_name": "ButtonView",
       "button_style": "",
       "description": "H",
       "disabled": false,
       "icon": "",
       "layout": "IPY_MODEL_c7c19147f97a4a1fbca6639d702924fd",
       "style": "IPY_MODEL_6a99781c04d44d208be1d5e268036914",
       "tooltip": ""
      }
     },
     "d496605237414ff48b718e9b9a7c4293": {
      "model_module": "@jupyter-widgets/controls",
      "model_module_version": "1.5.0",
      "model_name": "ButtonModel",
      "state": {
       "_dom_classes": [],
       "_model_module": "@jupyter-widgets/controls",
       "_model_module_version": "1.5.0",
       "_model_name": "ButtonModel",
       "_view_count": null,
       "_view_module": "@jupyter-widgets/controls",
       "_view_module_version": "1.5.0",
       "_view_name": "ButtonView",
       "button_style": "",
       "description": "Rz",
       "disabled": false,
       "icon": "",
       "layout": "IPY_MODEL_1b629f26cea34e9bb168ee081ada4c5c",
       "style": "IPY_MODEL_c150eb7fe75044ad91c31ba46905f32b",
       "tooltip": ""
      }
     },
     "da4338f9b07849c9b4bbce512c9222f6": {
      "model_module": "@jupyter-widgets/controls",
      "model_module_version": "1.5.0",
      "model_name": "ButtonModel",
      "state": {
       "_dom_classes": [],
       "_model_module": "@jupyter-widgets/controls",
       "_model_module_version": "1.5.0",
       "_model_name": "ButtonModel",
       "_view_count": null,
       "_view_module": "@jupyter-widgets/controls",
       "_view_module_version": "1.5.0",
       "_view_name": "ButtonView",
       "button_style": "",
       "description": "X",
       "disabled": false,
       "icon": "",
       "layout": "IPY_MODEL_285d0fac51b8457baade0938fa278660",
       "style": "IPY_MODEL_59ee9e9a84104b99b9eb11b39c5d4cff",
       "tooltip": ""
      }
     },
     "dc35da65294c47ecaf8898664fc3e38b": {
      "model_module": "@jupyter-widgets/base",
      "model_module_version": "1.2.0",
      "model_name": "LayoutModel",
      "state": {
       "_model_module": "@jupyter-widgets/base",
       "_model_module_version": "1.2.0",
       "_model_name": "LayoutModel",
       "_view_count": null,
       "_view_module": "@jupyter-widgets/base",
       "_view_module_version": "1.2.0",
       "_view_name": "LayoutView",
       "align_content": null,
       "align_items": null,
       "align_self": null,
       "border": null,
       "bottom": null,
       "display": null,
       "flex": null,
       "flex_flow": null,
       "grid_area": null,
       "grid_auto_columns": null,
       "grid_auto_flow": null,
       "grid_auto_rows": null,
       "grid_column": null,
       "grid_gap": null,
       "grid_row": null,
       "grid_template_areas": null,
       "grid_template_columns": null,
       "grid_template_rows": null,
       "height": "3em",
       "justify_content": null,
       "justify_items": null,
       "left": null,
       "margin": null,
       "max_height": null,
       "max_width": null,
       "min_height": null,
       "min_width": null,
       "object_fit": null,
       "object_position": null,
       "order": null,
       "overflow": null,
       "overflow_x": null,
       "overflow_y": null,
       "padding": null,
       "right": null,
       "top": null,
       "visibility": null,
       "width": "3em"
      }
     },
     "ddeae419d7c8473fa521a3b7959c4e31": {
      "buffers": [
       {
        "data": "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",
        "encoding": "base64",
        "path": [
         "value"
        ]
       }
      ],
      "model_module": "@jupyter-widgets/controls",
      "model_module_version": "1.5.0",
      "model_name": "ImageModel",
      "state": {
       "_dom_classes": [],
       "_model_module": "@jupyter-widgets/controls",
       "_model_module_version": "1.5.0",
       "_model_name": "ImageModel",
       "_view_count": null,
       "_view_module": "@jupyter-widgets/controls",
       "_view_module_version": "1.5.0",
       "_view_name": "ImageView",
       "format": "png",
       "height": "",
       "layout": "IPY_MODEL_fc0b466dc3b649bdaa23f654881e0595",
       "value": {},
       "width": ""
      }
     },
     "e3ae3f555fb54cad889593f212d5e870": {
      "model_module": "@jupyter-widgets/controls",
      "model_module_version": "1.5.0",
      "model_name": "ButtonModel",
      "state": {
       "_dom_classes": [],
       "_model_module": "@jupyter-widgets/controls",
       "_model_module_version": "1.5.0",
       "_model_name": "ButtonModel",
       "_view_count": null,
       "_view_module": "@jupyter-widgets/controls",
       "_view_module_version": "1.5.0",
       "_view_name": "ButtonView",
       "button_style": "",
       "description": "Reset",
       "disabled": false,
       "icon": "",
       "layout": "IPY_MODEL_d10be60b2400477a942eabef56b07420",
       "style": "IPY_MODEL_9d6ff0bc519f4b23a7767a78a513aa37",
       "tooltip": ""
      }
     },
     "e42f8dee8bcc42db96e6fdcfc6d98fdb": {
      "model_module": "@jupyter-widgets/controls",
      "model_module_version": "1.5.0",
      "model_name": "SliderStyleModel",
      "state": {
       "_model_module": "@jupyter-widgets/controls",
       "_model_module_version": "1.5.0",
       "_model_name": "SliderStyleModel",
       "_view_count": null,
       "_view_module": "@jupyter-widgets/base",
       "_view_module_version": "1.2.0",
       "_view_name": "StyleView",
       "description_width": "",
       "handle_color": null
      }
     },
     "e59930139e1e4c84a0353d861f729f1a": {
      "model_module": "@jupyter-widgets/base",
      "model_module_version": "1.2.0",
      "model_name": "LayoutModel",
      "state": {
       "_model_module": "@jupyter-widgets/base",
       "_model_module_version": "1.2.0",
       "_model_name": "LayoutModel",
       "_view_count": null,
       "_view_module": "@jupyter-widgets/base",
       "_view_module_version": "1.2.0",
       "_view_name": "LayoutView",
       "align_content": null,
       "align_items": null,
       "align_self": null,
       "border": null,
       "bottom": null,
       "display": null,
       "flex": null,
       "flex_flow": null,
       "grid_area": null,
       "grid_auto_columns": null,
       "grid_auto_flow": null,
       "grid_auto_rows": null,
       "grid_column": null,
       "grid_gap": null,
       "grid_row": null,
       "grid_template_areas": null,
       "grid_template_columns": null,
       "grid_template_rows": null,
       "height": null,
       "justify_content": null,
       "justify_items": null,
       "left": null,
       "margin": null,
       "max_height": null,
       "max_width": null,
       "min_height": null,
       "min_width": null,
       "object_fit": null,
       "object_position": null,
       "order": null,
       "overflow": null,
       "overflow_x": null,
       "overflow_y": null,
       "padding": null,
       "right": null,
       "top": null,
       "visibility": null,
       "width": null
      }
     },
     "e61daad9bb5343389c9c62732264bf72": {
      "model_module": "@jupyter-widgets/controls",
      "model_module_version": "1.5.0",
      "model_name": "ButtonStyleModel",
      "state": {
       "_model_module": "@jupyter-widgets/controls",
       "_model_module_version": "1.5.0",
       "_model_name": "ButtonStyleModel",
       "_view_count": null,
       "_view_module": "@jupyter-widgets/base",
       "_view_module_version": "1.2.0",
       "_view_name": "StyleView",
       "button_color": null,
       "font_weight": ""
      }
     },
     "e765402816a8496da09c36eadd3eecad": {
      "model_module": "@jupyter-widgets/base",
      "model_module_version": "1.2.0",
      "model_name": "LayoutModel",
      "state": {
       "_model_module": "@jupyter-widgets/base",
       "_model_module_version": "1.2.0",
       "_model_name": "LayoutModel",
       "_view_count": null,
       "_view_module": "@jupyter-widgets/base",
       "_view_module_version": "1.2.0",
       "_view_name": "LayoutView",
       "align_content": null,
       "align_items": null,
       "align_self": null,
       "border": null,
       "bottom": null,
       "display": null,
       "flex": null,
       "flex_flow": null,
       "grid_area": null,
       "grid_auto_columns": null,
       "grid_auto_flow": null,
       "grid_auto_rows": null,
       "grid_column": null,
       "grid_gap": null,
       "grid_row": null,
       "grid_template_areas": null,
       "grid_template_columns": null,
       "grid_template_rows": null,
       "height": "3em",
       "justify_content": null,
       "justify_items": null,
       "left": null,
       "margin": null,
       "max_height": null,
       "max_width": null,
       "min_height": null,
       "min_width": null,
       "object_fit": null,
       "object_position": null,
       "order": null,
       "overflow": null,
       "overflow_x": null,
       "overflow_y": null,
       "padding": null,
       "right": null,
       "top": null,
       "visibility": null,
       "width": "3em"
      }
     },
     "e9613a6fc4f14581aac36f55ca4c0ee5": {
      "model_module": "@jupyter-widgets/base",
      "model_module_version": "1.2.0",
      "model_name": "LayoutModel",
      "state": {
       "_model_module": "@jupyter-widgets/base",
       "_model_module_version": "1.2.0",
       "_model_name": "LayoutModel",
       "_view_count": null,
       "_view_module": "@jupyter-widgets/base",
       "_view_module_version": "1.2.0",
       "_view_name": "LayoutView",
       "align_content": null,
       "align_items": null,
       "align_self": null,
       "border": null,
       "bottom": null,
       "display": null,
       "flex": null,
       "flex_flow": null,
       "grid_area": null,
       "grid_auto_columns": null,
       "grid_auto_flow": null,
       "grid_auto_rows": null,
       "grid_column": null,
       "grid_gap": null,
       "grid_row": null,
       "grid_template_areas": null,
       "grid_template_columns": null,
       "grid_template_rows": null,
       "height": "3em",
       "justify_content": null,
       "justify_items": null,
       "left": null,
       "margin": null,
       "max_height": null,
       "max_width": null,
       "min_height": null,
       "min_width": null,
       "object_fit": null,
       "object_position": null,
       "order": null,
       "overflow": null,
       "overflow_x": null,
       "overflow_y": null,
       "padding": null,
       "right": null,
       "top": null,
       "visibility": null,
       "width": "3em"
      }
     },
     "ea9db941a88a44d583400b3487cf11f6": {
      "model_module": "@jupyter-widgets/controls",
      "model_module_version": "1.5.0",
      "model_name": "ButtonModel",
      "state": {
       "_dom_classes": [],
       "_model_module": "@jupyter-widgets/controls",
       "_model_module_version": "1.5.0",
       "_model_name": "ButtonModel",
       "_view_count": null,
       "_view_module": "@jupyter-widgets/controls",
       "_view_module_version": "1.5.0",
       "_view_name": "ButtonView",
       "button_style": "",
       "description": "Y",
       "disabled": false,
       "icon": "",
       "layout": "IPY_MODEL_e765402816a8496da09c36eadd3eecad",
       "style": "IPY_MODEL_f2da491b0e63440db852031211159877",
       "tooltip": ""
      }
     },
     "f151e83c75a54ee8a5988d93dd4a27ef": {
      "model_module": "@jupyter-widgets/controls",
      "model_module_version": "1.5.0",
      "model_name": "ButtonStyleModel",
      "state": {
       "_model_module": "@jupyter-widgets/controls",
       "_model_module_version": "1.5.0",
       "_model_name": "ButtonStyleModel",
       "_view_count": null,
       "_view_module": "@jupyter-widgets/base",
       "_view_module_version": "1.2.0",
       "_view_name": "StyleView",
       "button_color": null,
       "font_weight": ""
      }
     },
     "f2da491b0e63440db852031211159877": {
      "model_module": "@jupyter-widgets/controls",
      "model_module_version": "1.5.0",
      "model_name": "ButtonStyleModel",
      "state": {
       "_model_module": "@jupyter-widgets/controls",
       "_model_module_version": "1.5.0",
       "_model_name": "ButtonStyleModel",
       "_view_count": null,
       "_view_module": "@jupyter-widgets/base",
       "_view_module_version": "1.2.0",
       "_view_name": "StyleView",
       "button_color": null,
       "font_weight": ""
      }
     },
     "f4c05b74fc084da792f26ab98fc78ace": {
      "model_module": "@jupyter-widgets/controls",
      "model_module_version": "1.5.0",
      "model_name": "HBoxModel",
      "state": {
       "_dom_classes": [],
       "_model_module": "@jupyter-widgets/controls",
       "_model_module_version": "1.5.0",
       "_model_name": "HBoxModel",
       "_view_count": null,
       "_view_module": "@jupyter-widgets/controls",
       "_view_module_version": "1.5.0",
       "_view_name": "HBoxView",
       "box_style": "",
       "children": [
        "IPY_MODEL_da4338f9b07849c9b4bbce512c9222f6",
        "IPY_MODEL_ea9db941a88a44d583400b3487cf11f6",
        "IPY_MODEL_661f779dc3ad4cbc9be0255128a15226",
        "IPY_MODEL_d44d593370384121a6a9f404a50750d3",
        "IPY_MODEL_15bf026f48e04266b88a15a9b509197c"
       ],
       "layout": "IPY_MODEL_94a63b848b644f10b20f092d0d695a68"
      }
     },
     "f77f38c411f74e039d254aa3dfc0e935": {
      "model_module": "@jupyter-widgets/controls",
      "model_module_version": "1.5.0",
      "model_name": "SliderStyleModel",
      "state": {
       "_model_module": "@jupyter-widgets/controls",
       "_model_module_version": "1.5.0",
       "_model_name": "SliderStyleModel",
       "_view_count": null,
       "_view_module": "@jupyter-widgets/base",
       "_view_module_version": "1.2.0",
       "_view_name": "StyleView",
       "description_width": "",
       "handle_color": null
      }
     },
     "fc0b466dc3b649bdaa23f654881e0595": {
      "model_module": "@jupyter-widgets/base",
      "model_module_version": "1.2.0",
      "model_name": "LayoutModel",
      "state": {
       "_model_module": "@jupyter-widgets/base",
       "_model_module_version": "1.2.0",
       "_model_name": "LayoutModel",
       "_view_count": null,
       "_view_module": "@jupyter-widgets/base",
       "_view_module_version": "1.2.0",
       "_view_name": "LayoutView",
       "align_content": null,
       "align_items": null,
       "align_self": null,
       "border": null,
       "bottom": null,
       "display": null,
       "flex": null,
       "flex_flow": null,
       "grid_area": null,
       "grid_auto_columns": null,
       "grid_auto_flow": null,
       "grid_auto_rows": null,
       "grid_column": null,
       "grid_gap": null,
       "grid_row": null,
       "grid_template_areas": null,
       "grid_template_columns": null,
       "grid_template_rows": null,
       "height": null,
       "justify_content": null,
       "justify_items": null,
       "left": null,
       "margin": null,
       "max_height": null,
       "max_width": null,
       "min_height": null,
       "min_width": null,
       "object_fit": null,
       "object_position": null,
       "order": null,
       "overflow": null,
       "overflow_x": null,
       "overflow_y": null,
       "padding": null,
       "right": null,
       "top": null,
       "visibility": null,
       "width": null
      }
     },
     "fd3a3265738a4961bbb0e4d7eb857727": {
      "model_module": "@jupyter-widgets/controls",
      "model_module_version": "1.5.0",
      "model_name": "ButtonModel",
      "state": {
       "_dom_classes": [],
       "_model_module": "@jupyter-widgets/controls",
       "_model_module_version": "1.5.0",
       "_model_name": "ButtonModel",
       "_view_count": null,
       "_view_module": "@jupyter-widgets/controls",
       "_view_module_version": "1.5.0",
       "_view_name": "ButtonView",
       "button_style": "",
       "description": "Reset",
       "disabled": false,
       "icon": "",
       "layout": "IPY_MODEL_729ba03fa173412d82418b27771d7a04",
       "style": "IPY_MODEL_b726c978dd3143dcaa60fd8038e81017",
       "tooltip": ""
      }
     }
    },
    "version_major": 2,
    "version_minor": 0
   }
  }
 },
 "nbformat": 4,
 "nbformat_minor": 4
}
